{
  "nbformat": 4,
  "nbformat_minor": 0,
  "metadata": {
    "colab": {
      "provenance": []
    },
    "kernelspec": {
      "name": "python3",
      "display_name": "Python 3"
    },
    "language_info": {
      "name": "python"
    }
  },
  "cells": [
    {
      "cell_type": "code",
      "source": [
        "pip install mrjob"
      ],
      "metadata": {
        "colab": {
          "base_uri": "https://localhost:8080/"
        },
        "id": "Nl9PiKJm2N0O",
        "outputId": "9b592f40-34b2-4cf6-8239-f6f7f40df426"
      },
      "execution_count": 48,
      "outputs": [
        {
          "output_type": "stream",
          "name": "stdout",
          "text": [
            "Looking in indexes: https://pypi.org/simple, https://us-python.pkg.dev/colab-wheels/public/simple/\n",
            "Requirement already satisfied: mrjob in /usr/local/lib/python3.9/dist-packages (0.7.4)\n",
            "Requirement already satisfied: PyYAML>=3.10 in /usr/local/lib/python3.9/dist-packages (from mrjob) (6.0)\n"
          ]
        }
      ]
    },
    {
      "cell_type": "code",
      "source": [
        "from google.colab import files\n",
        "uploaded = files.upload()"
      ],
      "metadata": {
        "colab": {
          "base_uri": "https://localhost:8080/",
          "height": 73
        },
        "id": "aMuv1FPCZp7n",
        "outputId": "77b0bba5-0860-41dc-de81-a8e60676a048"
      },
      "execution_count": 75,
      "outputs": [
        {
          "output_type": "display_data",
          "data": {
            "text/plain": [
              "<IPython.core.display.HTML object>"
            ],
            "text/html": [
              "\n",
              "     <input type=\"file\" id=\"files-c522273a-09ea-4f58-b8e5-a70c66cb204e\" name=\"files[]\" multiple disabled\n",
              "        style=\"border:none\" />\n",
              "     <output id=\"result-c522273a-09ea-4f58-b8e5-a70c66cb204e\">\n",
              "      Upload widget is only available when the cell has been executed in the\n",
              "      current browser session. Please rerun this cell to enable.\n",
              "      </output>\n",
              "      <script>// Copyright 2017 Google LLC\n",
              "//\n",
              "// Licensed under the Apache License, Version 2.0 (the \"License\");\n",
              "// you may not use this file except in compliance with the License.\n",
              "// You may obtain a copy of the License at\n",
              "//\n",
              "//      http://www.apache.org/licenses/LICENSE-2.0\n",
              "//\n",
              "// Unless required by applicable law or agreed to in writing, software\n",
              "// distributed under the License is distributed on an \"AS IS\" BASIS,\n",
              "// WITHOUT WARRANTIES OR CONDITIONS OF ANY KIND, either express or implied.\n",
              "// See the License for the specific language governing permissions and\n",
              "// limitations under the License.\n",
              "\n",
              "/**\n",
              " * @fileoverview Helpers for google.colab Python module.\n",
              " */\n",
              "(function(scope) {\n",
              "function span(text, styleAttributes = {}) {\n",
              "  const element = document.createElement('span');\n",
              "  element.textContent = text;\n",
              "  for (const key of Object.keys(styleAttributes)) {\n",
              "    element.style[key] = styleAttributes[key];\n",
              "  }\n",
              "  return element;\n",
              "}\n",
              "\n",
              "// Max number of bytes which will be uploaded at a time.\n",
              "const MAX_PAYLOAD_SIZE = 100 * 1024;\n",
              "\n",
              "function _uploadFiles(inputId, outputId) {\n",
              "  const steps = uploadFilesStep(inputId, outputId);\n",
              "  const outputElement = document.getElementById(outputId);\n",
              "  // Cache steps on the outputElement to make it available for the next call\n",
              "  // to uploadFilesContinue from Python.\n",
              "  outputElement.steps = steps;\n",
              "\n",
              "  return _uploadFilesContinue(outputId);\n",
              "}\n",
              "\n",
              "// This is roughly an async generator (not supported in the browser yet),\n",
              "// where there are multiple asynchronous steps and the Python side is going\n",
              "// to poll for completion of each step.\n",
              "// This uses a Promise to block the python side on completion of each step,\n",
              "// then passes the result of the previous step as the input to the next step.\n",
              "function _uploadFilesContinue(outputId) {\n",
              "  const outputElement = document.getElementById(outputId);\n",
              "  const steps = outputElement.steps;\n",
              "\n",
              "  const next = steps.next(outputElement.lastPromiseValue);\n",
              "  return Promise.resolve(next.value.promise).then((value) => {\n",
              "    // Cache the last promise value to make it available to the next\n",
              "    // step of the generator.\n",
              "    outputElement.lastPromiseValue = value;\n",
              "    return next.value.response;\n",
              "  });\n",
              "}\n",
              "\n",
              "/**\n",
              " * Generator function which is called between each async step of the upload\n",
              " * process.\n",
              " * @param {string} inputId Element ID of the input file picker element.\n",
              " * @param {string} outputId Element ID of the output display.\n",
              " * @return {!Iterable<!Object>} Iterable of next steps.\n",
              " */\n",
              "function* uploadFilesStep(inputId, outputId) {\n",
              "  const inputElement = document.getElementById(inputId);\n",
              "  inputElement.disabled = false;\n",
              "\n",
              "  const outputElement = document.getElementById(outputId);\n",
              "  outputElement.innerHTML = '';\n",
              "\n",
              "  const pickedPromise = new Promise((resolve) => {\n",
              "    inputElement.addEventListener('change', (e) => {\n",
              "      resolve(e.target.files);\n",
              "    });\n",
              "  });\n",
              "\n",
              "  const cancel = document.createElement('button');\n",
              "  inputElement.parentElement.appendChild(cancel);\n",
              "  cancel.textContent = 'Cancel upload';\n",
              "  const cancelPromise = new Promise((resolve) => {\n",
              "    cancel.onclick = () => {\n",
              "      resolve(null);\n",
              "    };\n",
              "  });\n",
              "\n",
              "  // Wait for the user to pick the files.\n",
              "  const files = yield {\n",
              "    promise: Promise.race([pickedPromise, cancelPromise]),\n",
              "    response: {\n",
              "      action: 'starting',\n",
              "    }\n",
              "  };\n",
              "\n",
              "  cancel.remove();\n",
              "\n",
              "  // Disable the input element since further picks are not allowed.\n",
              "  inputElement.disabled = true;\n",
              "\n",
              "  if (!files) {\n",
              "    return {\n",
              "      response: {\n",
              "        action: 'complete',\n",
              "      }\n",
              "    };\n",
              "  }\n",
              "\n",
              "  for (const file of files) {\n",
              "    const li = document.createElement('li');\n",
              "    li.append(span(file.name, {fontWeight: 'bold'}));\n",
              "    li.append(span(\n",
              "        `(${file.type || 'n/a'}) - ${file.size} bytes, ` +\n",
              "        `last modified: ${\n",
              "            file.lastModifiedDate ? file.lastModifiedDate.toLocaleDateString() :\n",
              "                                    'n/a'} - `));\n",
              "    const percent = span('0% done');\n",
              "    li.appendChild(percent);\n",
              "\n",
              "    outputElement.appendChild(li);\n",
              "\n",
              "    const fileDataPromise = new Promise((resolve) => {\n",
              "      const reader = new FileReader();\n",
              "      reader.onload = (e) => {\n",
              "        resolve(e.target.result);\n",
              "      };\n",
              "      reader.readAsArrayBuffer(file);\n",
              "    });\n",
              "    // Wait for the data to be ready.\n",
              "    let fileData = yield {\n",
              "      promise: fileDataPromise,\n",
              "      response: {\n",
              "        action: 'continue',\n",
              "      }\n",
              "    };\n",
              "\n",
              "    // Use a chunked sending to avoid message size limits. See b/62115660.\n",
              "    let position = 0;\n",
              "    do {\n",
              "      const length = Math.min(fileData.byteLength - position, MAX_PAYLOAD_SIZE);\n",
              "      const chunk = new Uint8Array(fileData, position, length);\n",
              "      position += length;\n",
              "\n",
              "      const base64 = btoa(String.fromCharCode.apply(null, chunk));\n",
              "      yield {\n",
              "        response: {\n",
              "          action: 'append',\n",
              "          file: file.name,\n",
              "          data: base64,\n",
              "        },\n",
              "      };\n",
              "\n",
              "      let percentDone = fileData.byteLength === 0 ?\n",
              "          100 :\n",
              "          Math.round((position / fileData.byteLength) * 100);\n",
              "      percent.textContent = `${percentDone}% done`;\n",
              "\n",
              "    } while (position < fileData.byteLength);\n",
              "  }\n",
              "\n",
              "  // All done.\n",
              "  yield {\n",
              "    response: {\n",
              "      action: 'complete',\n",
              "    }\n",
              "  };\n",
              "}\n",
              "\n",
              "scope.google = scope.google || {};\n",
              "scope.google.colab = scope.google.colab || {};\n",
              "scope.google.colab._files = {\n",
              "  _uploadFiles,\n",
              "  _uploadFilesContinue,\n",
              "};\n",
              "})(self);\n",
              "</script> "
            ]
          },
          "metadata": {}
        },
        {
          "output_type": "stream",
          "name": "stdout",
          "text": [
            "Saving data.txt to data.txt\n"
          ]
        }
      ]
    },
    {
      "cell_type": "code",
      "execution_count": 84,
      "metadata": {
        "colab": {
          "base_uri": "https://localhost:8080/"
        },
        "id": "SSzKXWO12BLY",
        "outputId": "3cccf511-aec7-4e54-80a4-b6361ced5833"
      },
      "outputs": [
        {
          "output_type": "stream",
          "name": "stdout",
          "text": [
            "Writing q1.py\n"
          ]
        }
      ],
      "source": [
        "%%file q1.py \n",
        "from mrjob.job import MRJob\n",
        "\n",
        "class q1(MRJob):\n",
        "    def mapper(self, _, line):\n",
        "       name,date,*songs=line.split(' ')\n",
        "       if(len(songs)>5):\n",
        "          yield(name,date),len(songs)    \n",
        "        \n",
        "if __name__ == '__main__':\n",
        "    q1.run()"
      ]
    },
    {
      "cell_type": "code",
      "source": [
        "! python q1.py data.txt"
      ],
      "metadata": {
        "colab": {
          "base_uri": "https://localhost:8080/"
        },
        "id": "ivIDh9qz2Lp1",
        "outputId": "e208728e-ab0d-47d4-8fd5-25cd0e3d3e74"
      },
      "execution_count": 85,
      "outputs": [
        {
          "output_type": "stream",
          "name": "stdout",
          "text": [
            "No configs found; falling back on auto-configuration\n",
            "No configs specified for inline runner\n",
            "Creating temp directory /tmp/q1.root.20230322.182154.237094\n",
            "Running step 1 of 1...\n",
            "job output is in /tmp/q1.root.20230322.182154.237094/output\n",
            "Streaming final output from /tmp/q1.root.20230322.182154.237094/output...\n",
            "[\"Ali\", \"12-3-20\"]\t6\n",
            "Removing temp directory /tmp/q1.root.20230322.182154.237094...\n"
          ]
        }
      ]
    },
    {
      "cell_type": "markdown",
      "source": [
        "**Q2**"
      ],
      "metadata": {
        "id": "GCVXWSh9YM-B"
      }
    },
    {
      "cell_type": "code",
      "source": [
        "%%file q2.py \n",
        "import sys\n",
        "from mrjob.job import MRJob\n",
        "\n",
        "class q2(MRJob):\n",
        "    def mapper(self, _, line):\n",
        "        username, date, *songs = line.strip().split(' ')\n",
        "        yield (username,date),len(songs)\n",
        "        \n",
        "if __name__ == '__main__':\n",
        "    q2.run()"
      ],
      "metadata": {
        "colab": {
          "base_uri": "https://localhost:8080/"
        },
        "id": "0QaXYsL8YD9f",
        "outputId": "0d7e2a28-896b-4701-b42c-091347acb79f"
      },
      "execution_count": 90,
      "outputs": [
        {
          "output_type": "stream",
          "name": "stdout",
          "text": [
            "Overwriting q2.py\n"
          ]
        }
      ]
    },
    {
      "cell_type": "code",
      "source": [
        "!python q2.py data.txt"
      ],
      "metadata": {
        "colab": {
          "base_uri": "https://localhost:8080/"
        },
        "id": "Hq5ErUO9YEia",
        "outputId": "9d0b8d3b-b8c2-4d5f-cd80-6d92ff59b33c"
      },
      "execution_count": 91,
      "outputs": [
        {
          "output_type": "stream",
          "name": "stdout",
          "text": [
            "No configs found; falling back on auto-configuration\n",
            "No configs specified for inline runner\n",
            "Creating temp directory /tmp/q2.root.20230322.182314.862985\n",
            "Running step 1 of 1...\n",
            "job output is in /tmp/q2.root.20230322.182314.862985/output\n",
            "Streaming final output from /tmp/q2.root.20230322.182314.862985/output...\n",
            "[\"Fahad\", \"14-04-22\"]\t4\n",
            "[\"Ali\", \"20-4-22\"]\t2\n",
            "[\"Sara\", \"20-4-22\"]\t3\n",
            "[\"Amina\", \"20-4-22\"]\t1\n",
            "[\"Ali\", \"12-3-20\"]\t6\n",
            "Removing temp directory /tmp/q2.root.20230322.182314.862985...\n"
          ]
        }
      ]
    },
    {
      "cell_type": "markdown",
      "source": [
        "**Q3**"
      ],
      "metadata": {
        "id": "9WWVOA-FYKXK"
      }
    },
    {
      "cell_type": "code",
      "source": [
        "%%file q3.py \n",
        "from mrjob.job import MRJob\n",
        "from mrjob.job import MRStep\n",
        "\n",
        "class q3(MRJob):\n",
        "    def steps(self):\n",
        "        return[MRStep(mapper=self.mapper,combiner=self.combiner,reducer=self.reducer)]\n",
        "    def mapper(self,_,line):\n",
        "        username,date,*songs=line.strip().split(' ')\n",
        "        yield username,len(songs)\n",
        "    def combiner(self,username,count):\n",
        "        total=sum(count)\n",
        "        yield username,total    \n",
        "    def reducer(self,username,count):\n",
        "        total=sum(count)\n",
        "        yield username,total\n",
        "\n",
        "if __name__ == '__main__':\n",
        "    q3.run()"
      ],
      "metadata": {
        "colab": {
          "base_uri": "https://localhost:8080/"
        },
        "id": "J4mxOMn_YHoY",
        "outputId": "ef7f3d89-2209-4dd5-9ed6-d946971f4f27"
      },
      "execution_count": 94,
      "outputs": [
        {
          "output_type": "stream",
          "name": "stdout",
          "text": [
            "Overwriting q3.py\n"
          ]
        }
      ]
    },
    {
      "cell_type": "code",
      "source": [
        "!python q3.py data.txt"
      ],
      "metadata": {
        "colab": {
          "base_uri": "https://localhost:8080/"
        },
        "id": "rbpB9fmmYIVa",
        "outputId": "b84b4b6b-888b-4f5e-94cf-8152db0f80bd"
      },
      "execution_count": 95,
      "outputs": [
        {
          "output_type": "stream",
          "name": "stdout",
          "text": [
            "No configs found; falling back on auto-configuration\n",
            "No configs specified for inline runner\n",
            "Creating temp directory /tmp/q3.root.20230322.182349.410118\n",
            "Running step 1 of 1...\n",
            "job output is in /tmp/q3.root.20230322.182349.410118/output\n",
            "Streaming final output from /tmp/q3.root.20230322.182349.410118/output...\n",
            "\"Amina\"\t1\n",
            "\"Fahad\"\t4\n",
            "\"Sara\"\t3\n",
            "\"Ali\"\t8\n",
            "Removing temp directory /tmp/q3.root.20230322.182349.410118...\n"
          ]
        }
      ]
    },
    {
      "cell_type": "markdown",
      "source": [
        "**Q4**"
      ],
      "metadata": {
        "id": "fRm_IUOsYrP2"
      }
    },
    {
      "cell_type": "code",
      "source": [
        "%%file q4.py \n",
        "from mrjob.job import MRJob\n",
        "from mrjob.job import MRStep\n",
        "\n",
        "class q4(MRJob):\n",
        "    \n",
        "    def mapper(self, _, line):\n",
        "        username, date, *songs = line.strip().split(' ')\n",
        "        yield None, len(songs)\n",
        "\n",
        "    def combiner(self, _, song_counts):\n",
        "        total_songs = 0\n",
        "        total_users = 0\n",
        "        for count in song_counts:\n",
        "            total_songs += count\n",
        "            total_users += 1\n",
        "        average = total_songs / total_users\n",
        "        yield  None,average\n",
        "        \n",
        "        \n",
        "    def reducer(self, _, song_counts):\n",
        "        total_songs = 0\n",
        "        total_users = 0\n",
        "        for count in song_counts:\n",
        "            total_songs += count\n",
        "            total_users += 1\n",
        "        average = total_songs / total_users\n",
        "        yield  None,average    \n",
        "        \n",
        "    def steps(self):\n",
        "        return [MRStep(mapper=self.mapper,combiner=self.combiner, reducer=self.reducer)]\n",
        "        \n",
        "if __name__ == '__main__':\n",
        "    q4.run()"
      ],
      "metadata": {
        "colab": {
          "base_uri": "https://localhost:8080/"
        },
        "id": "kqGflE_KYtHT",
        "outputId": "326199ba-008e-4eb3-8e16-c5641dcb901b"
      },
      "execution_count": 97,
      "outputs": [
        {
          "output_type": "stream",
          "name": "stdout",
          "text": [
            "Overwriting q4.py\n"
          ]
        }
      ]
    },
    {
      "cell_type": "code",
      "source": [
        "!python q4.py data.txt"
      ],
      "metadata": {
        "colab": {
          "base_uri": "https://localhost:8080/"
        },
        "id": "j3lGn-hPYvnP",
        "outputId": "ae51d4de-eddd-4355-e90f-f212c4d4b26b"
      },
      "execution_count": 98,
      "outputs": [
        {
          "output_type": "stream",
          "name": "stdout",
          "text": [
            "No configs found; falling back on auto-configuration\n",
            "No configs specified for inline runner\n",
            "Creating temp directory /tmp/q4.root.20230322.182452.965968\n",
            "Running step 1 of 1...\n",
            "job output is in /tmp/q4.root.20230322.182452.965968/output\n",
            "Streaming final output from /tmp/q4.root.20230322.182452.965968/output...\n",
            "null\t3.6666666666666665\n",
            "Removing temp directory /tmp/q4.root.20230322.182452.965968...\n"
          ]
        }
      ]
    },
    {
      "cell_type": "markdown",
      "source": [
        "**Q5**"
      ],
      "metadata": {
        "id": "lvki__eSYwAr"
      }
    },
    {
      "cell_type": "code",
      "source": [
        "%%file q5.py\n",
        "from mrjob.job import MRJob\n",
        "from mrjob.job import MRStep\n",
        "\n",
        "class q5(MRJob):\n",
        "    def mapper(self, _, line):\n",
        "        fields = line.strip().split(' ')\n",
        "        username, date, *songs = fields\n",
        "        for song in songs:\n",
        "            yield song, 1\n",
        "\n",
        "    def combiner(self, song, counts):\n",
        "        yield song, sum(counts)\n",
        "    def reducer(self, song, counts):\n",
        "        yield song, sum(counts)\n",
        "    def step(self):\n",
        "        return [MRStep(mapper=self.mapper,combiner=self.combiner,reducer=self.reducer)]\n",
        "        \n",
        "if __name__ == '__main__':\n",
        "    q5.run()"
      ],
      "metadata": {
        "colab": {
          "base_uri": "https://localhost:8080/"
        },
        "id": "ozrLXlu4YxSH",
        "outputId": "2bad3be4-4f03-4f41-d775-6a584a487ca7"
      },
      "execution_count": 100,
      "outputs": [
        {
          "output_type": "stream",
          "name": "stdout",
          "text": [
            "Overwriting q5.py\n"
          ]
        }
      ]
    },
    {
      "cell_type": "code",
      "source": [
        "!python q5.py data.txt"
      ],
      "metadata": {
        "colab": {
          "base_uri": "https://localhost:8080/"
        },
        "id": "mM0oUxPXY1Uz",
        "outputId": "842244bb-54c1-414f-882d-38e70b3b623c"
      },
      "execution_count": 101,
      "outputs": [
        {
          "output_type": "stream",
          "name": "stdout",
          "text": [
            "No configs found; falling back on auto-configuration\n",
            "No configs specified for inline runner\n",
            "Creating temp directory /tmp/q5.root.20230322.182549.006164\n",
            "Running step 1 of 1...\n",
            "job output is in /tmp/q5.root.20230322.182549.006164/output\n",
            "Streaming final output from /tmp/q5.root.20230322.182549.006164/output...\n",
            "\"S3\"\t2\n",
            "\"S6\"\t1\n",
            "\"S7\"\t3\n",
            "\"S9\"\t2\n",
            "\"S1\"\t5\n",
            "\"S2\"\t3\n",
            "Removing temp directory /tmp/q5.root.20230322.182549.006164...\n"
          ]
        }
      ]
    },
    {
      "cell_type": "markdown",
      "source": [
        "**Q6**"
      ],
      "metadata": {
        "id": "y513KtjlY10K"
      }
    },
    {
      "cell_type": "code",
      "source": [
        "%%file q6.py\n",
        "from mrjob.job import MRJob\n",
        "from mrjob.job import MRStep\n",
        "\n",
        "class q6(MRJob):\n",
        "\n",
        "    def mapper(self, _, line):\n",
        "        fields = line.strip().split(' ')\n",
        "        username, date, *songs = fields\n",
        "        yield date, (username, len(songs))\n",
        "\n",
        "    def combiner(self, date, values):\n",
        "        max_user, max_songs = None, 0\n",
        "        for user, song_count in values:\n",
        "            if song_count > max_songs:\n",
        "                max_songs = song_count\n",
        "                max_user = user\n",
        "        yield date, (max_user, max_songs)\n",
        "\n",
        "    def reducer(self, date, values):\n",
        "        max_user, max_songs = None, 0\n",
        "        for user, song_count in values:\n",
        "            if song_count > max_songs:\n",
        "                max_songs = song_count\n",
        "                max_user = user\n",
        "        yield date, (max_user, max_songs)\n",
        "        \n",
        "    def step(self):\n",
        "        return [MRStep(mapper=self.mapper,combiner=self.combiner,reducer=self.reducer)]\n",
        "\n",
        "if __name__ == \"__main__\":\n",
        "    q6.run()\n",
        "        "
      ],
      "metadata": {
        "colab": {
          "base_uri": "https://localhost:8080/"
        },
        "id": "YA_BmsLsY3JX",
        "outputId": "7d488178-a23b-4f79-877f-edeb4ffa1945"
      },
      "execution_count": 104,
      "outputs": [
        {
          "output_type": "stream",
          "name": "stdout",
          "text": [
            "Overwriting q6.py\n"
          ]
        }
      ]
    },
    {
      "cell_type": "code",
      "source": [
        "!python q6.py data.txt"
      ],
      "metadata": {
        "colab": {
          "base_uri": "https://localhost:8080/"
        },
        "id": "mN8RWafqY72k",
        "outputId": "40ae8fa0-8295-4425-d635-fb992e9da87d"
      },
      "execution_count": 105,
      "outputs": [
        {
          "output_type": "stream",
          "name": "stdout",
          "text": [
            "No configs found; falling back on auto-configuration\n",
            "No configs specified for inline runner\n",
            "Creating temp directory /tmp/q6.root.20230322.182639.475019\n",
            "Running step 1 of 1...\n",
            "job output is in /tmp/q6.root.20230322.182639.475019/output\n",
            "Streaming final output from /tmp/q6.root.20230322.182639.475019/output...\n",
            "\"20-4-22\"\t[\"Sara\", 3]\n",
            "\"12-3-20\"\t[\"Ali\", 6]\n",
            "\"14-04-22\"\t[\"Fahad\", 4]\n",
            "Removing temp directory /tmp/q6.root.20230322.182639.475019...\n"
          ]
        }
      ]
    },
    {
      "cell_type": "markdown",
      "source": [
        "**Q7**"
      ],
      "metadata": {
        "id": "6AysjehNY9z4"
      }
    },
    {
      "cell_type": "code",
      "source": [],
      "metadata": {
        "id": "vc0pw2htY_So"
      },
      "execution_count": 111,
      "outputs": []
    },
    {
      "cell_type": "code",
      "source": [
        "!python q7.py data.txt"
      ],
      "metadata": {
        "id": "AKtfDujFZBcL"
      },
      "execution_count": null,
      "outputs": []
    },
    {
      "cell_type": "code",
      "source": [
        "%%file q8.py\n",
        "from mrjob.job import MRJob\n",
        "import statistics\n",
        "class q8(MRJob):\n",
        "    \n",
        "    def mapper(self, _, line):\n",
        "       name,date,*songs=line.split(' ')\n",
        "       yield date,(name,len(songs))\n",
        "         \n",
        "    def combiner(self, key, values):\n",
        "        yield key, max(values)  \n",
        "\n",
        "    def reducer(self, key, values):\n",
        "        yield key, max(values) \n",
        "\n",
        "if __name__ == '__main__':\n",
        "    q8.run()"
      ],
      "metadata": {
        "colab": {
          "base_uri": "https://localhost:8080/"
        },
        "id": "w1jRydT9lKib",
        "outputId": "0584fb81-467a-48e7-da7c-d23a31779c37"
      },
      "execution_count": 110,
      "outputs": [
        {
          "output_type": "stream",
          "name": "stdout",
          "text": [
            "Overwriting q8.py\n"
          ]
        }
      ]
    },
    {
      "cell_type": "code",
      "source": [
        "!python q8.py data.txt"
      ],
      "metadata": {
        "colab": {
          "base_uri": "https://localhost:8080/"
        },
        "id": "z6DbU9c9lNh0",
        "outputId": "0492e4d1-2e35-4516-9b54-cb99cb5d62aa"
      },
      "execution_count": 111,
      "outputs": [
        {
          "output_type": "stream",
          "name": "stdout",
          "text": [
            "No configs found; falling back on auto-configuration\n",
            "No configs specified for inline runner\n",
            "Creating temp directory /tmp/q8.root.20230322.182915.831148\n",
            "Running step 1 of 1...\n",
            "job output is in /tmp/q8.root.20230322.182915.831148/output\n",
            "Streaming final output from /tmp/q8.root.20230322.182915.831148/output...\n",
            "\"20-4-22\"\t[\"Sara\", 3]\n",
            "\"12-3-20\"\t[\"Ali\", 6]\n",
            "\"14-04-22\"\t[\"Fahad\", 4]\n",
            "Removing temp directory /tmp/q8.root.20230322.182915.831148...\n"
          ]
        }
      ]
    }
  ]
}