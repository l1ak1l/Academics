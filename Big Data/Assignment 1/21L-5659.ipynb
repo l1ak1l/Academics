{
  "cells": [
    {
      "cell_type": "markdown",
      "metadata": {
        "id": "c0p3qK_bo7Ej"
      },
      "source": [
        "Some instructions to note:\n",
        "- This assignment contains three parts\n",
        "    - numpy (15 questions) \n",
        "    - pandas (15 questions)\n",
        "-\n",
        "- write the code only in places indicated\n",
        "- assign answers to the variables named as question numbers (otherwise assignment won't be evaluated)\n",
        "- This assignment will be evaluated automatically, each question contains 1 mark\n",
        "    - each question will be evaluated based on the value of the variable assigned to it\n",
        "    - if the variable is not assigned, it will be considered as 0\n",
        "    - if the variable is assigned to a wrong value, it will be considered as 0\n",
        "    - if the variable is assigned to a correct value, it will be considered as 1"
      ]
    },
    {
      "cell_type": "code",
      "execution_count": 36,
      "metadata": {
        "id": "GNKA1GGIo7Eo",
        "outputId": "5a80b336-f813-4375-c655-c459aea578cf",
        "colab": {
          "base_uri": "https://localhost:8080/",
          "height": 73
        }
      },
      "outputs": [
        {
          "output_type": "display_data",
          "data": {
            "text/plain": [
              "<IPython.core.display.HTML object>"
            ],
            "text/html": [
              "\n",
              "     <input type=\"file\" id=\"files-44de620d-3966-4e1a-9d87-8ccc9fb67a7b\" name=\"files[]\" multiple disabled\n",
              "        style=\"border:none\" />\n",
              "     <output id=\"result-44de620d-3966-4e1a-9d87-8ccc9fb67a7b\">\n",
              "      Upload widget is only available when the cell has been executed in the\n",
              "      current browser session. Please rerun this cell to enable.\n",
              "      </output>\n",
              "      <script>// Copyright 2017 Google LLC\n",
              "//\n",
              "// Licensed under the Apache License, Version 2.0 (the \"License\");\n",
              "// you may not use this file except in compliance with the License.\n",
              "// You may obtain a copy of the License at\n",
              "//\n",
              "//      http://www.apache.org/licenses/LICENSE-2.0\n",
              "//\n",
              "// Unless required by applicable law or agreed to in writing, software\n",
              "// distributed under the License is distributed on an \"AS IS\" BASIS,\n",
              "// WITHOUT WARRANTIES OR CONDITIONS OF ANY KIND, either express or implied.\n",
              "// See the License for the specific language governing permissions and\n",
              "// limitations under the License.\n",
              "\n",
              "/**\n",
              " * @fileoverview Helpers for google.colab Python module.\n",
              " */\n",
              "(function(scope) {\n",
              "function span(text, styleAttributes = {}) {\n",
              "  const element = document.createElement('span');\n",
              "  element.textContent = text;\n",
              "  for (const key of Object.keys(styleAttributes)) {\n",
              "    element.style[key] = styleAttributes[key];\n",
              "  }\n",
              "  return element;\n",
              "}\n",
              "\n",
              "// Max number of bytes which will be uploaded at a time.\n",
              "const MAX_PAYLOAD_SIZE = 100 * 1024;\n",
              "\n",
              "function _uploadFiles(inputId, outputId) {\n",
              "  const steps = uploadFilesStep(inputId, outputId);\n",
              "  const outputElement = document.getElementById(outputId);\n",
              "  // Cache steps on the outputElement to make it available for the next call\n",
              "  // to uploadFilesContinue from Python.\n",
              "  outputElement.steps = steps;\n",
              "\n",
              "  return _uploadFilesContinue(outputId);\n",
              "}\n",
              "\n",
              "// This is roughly an async generator (not supported in the browser yet),\n",
              "// where there are multiple asynchronous steps and the Python side is going\n",
              "// to poll for completion of each step.\n",
              "// This uses a Promise to block the python side on completion of each step,\n",
              "// then passes the result of the previous step as the input to the next step.\n",
              "function _uploadFilesContinue(outputId) {\n",
              "  const outputElement = document.getElementById(outputId);\n",
              "  const steps = outputElement.steps;\n",
              "\n",
              "  const next = steps.next(outputElement.lastPromiseValue);\n",
              "  return Promise.resolve(next.value.promise).then((value) => {\n",
              "    // Cache the last promise value to make it available to the next\n",
              "    // step of the generator.\n",
              "    outputElement.lastPromiseValue = value;\n",
              "    return next.value.response;\n",
              "  });\n",
              "}\n",
              "\n",
              "/**\n",
              " * Generator function which is called between each async step of the upload\n",
              " * process.\n",
              " * @param {string} inputId Element ID of the input file picker element.\n",
              " * @param {string} outputId Element ID of the output display.\n",
              " * @return {!Iterable<!Object>} Iterable of next steps.\n",
              " */\n",
              "function* uploadFilesStep(inputId, outputId) {\n",
              "  const inputElement = document.getElementById(inputId);\n",
              "  inputElement.disabled = false;\n",
              "\n",
              "  const outputElement = document.getElementById(outputId);\n",
              "  outputElement.innerHTML = '';\n",
              "\n",
              "  const pickedPromise = new Promise((resolve) => {\n",
              "    inputElement.addEventListener('change', (e) => {\n",
              "      resolve(e.target.files);\n",
              "    });\n",
              "  });\n",
              "\n",
              "  const cancel = document.createElement('button');\n",
              "  inputElement.parentElement.appendChild(cancel);\n",
              "  cancel.textContent = 'Cancel upload';\n",
              "  const cancelPromise = new Promise((resolve) => {\n",
              "    cancel.onclick = () => {\n",
              "      resolve(null);\n",
              "    };\n",
              "  });\n",
              "\n",
              "  // Wait for the user to pick the files.\n",
              "  const files = yield {\n",
              "    promise: Promise.race([pickedPromise, cancelPromise]),\n",
              "    response: {\n",
              "      action: 'starting',\n",
              "    }\n",
              "  };\n",
              "\n",
              "  cancel.remove();\n",
              "\n",
              "  // Disable the input element since further picks are not allowed.\n",
              "  inputElement.disabled = true;\n",
              "\n",
              "  if (!files) {\n",
              "    return {\n",
              "      response: {\n",
              "        action: 'complete',\n",
              "      }\n",
              "    };\n",
              "  }\n",
              "\n",
              "  for (const file of files) {\n",
              "    const li = document.createElement('li');\n",
              "    li.append(span(file.name, {fontWeight: 'bold'}));\n",
              "    li.append(span(\n",
              "        `(${file.type || 'n/a'}) - ${file.size} bytes, ` +\n",
              "        `last modified: ${\n",
              "            file.lastModifiedDate ? file.lastModifiedDate.toLocaleDateString() :\n",
              "                                    'n/a'} - `));\n",
              "    const percent = span('0% done');\n",
              "    li.appendChild(percent);\n",
              "\n",
              "    outputElement.appendChild(li);\n",
              "\n",
              "    const fileDataPromise = new Promise((resolve) => {\n",
              "      const reader = new FileReader();\n",
              "      reader.onload = (e) => {\n",
              "        resolve(e.target.result);\n",
              "      };\n",
              "      reader.readAsArrayBuffer(file);\n",
              "    });\n",
              "    // Wait for the data to be ready.\n",
              "    let fileData = yield {\n",
              "      promise: fileDataPromise,\n",
              "      response: {\n",
              "        action: 'continue',\n",
              "      }\n",
              "    };\n",
              "\n",
              "    // Use a chunked sending to avoid message size limits. See b/62115660.\n",
              "    let position = 0;\n",
              "    do {\n",
              "      const length = Math.min(fileData.byteLength - position, MAX_PAYLOAD_SIZE);\n",
              "      const chunk = new Uint8Array(fileData, position, length);\n",
              "      position += length;\n",
              "\n",
              "      const base64 = btoa(String.fromCharCode.apply(null, chunk));\n",
              "      yield {\n",
              "        response: {\n",
              "          action: 'append',\n",
              "          file: file.name,\n",
              "          data: base64,\n",
              "        },\n",
              "      };\n",
              "\n",
              "      let percentDone = fileData.byteLength === 0 ?\n",
              "          100 :\n",
              "          Math.round((position / fileData.byteLength) * 100);\n",
              "      percent.textContent = `${percentDone}% done`;\n",
              "\n",
              "    } while (position < fileData.byteLength);\n",
              "  }\n",
              "\n",
              "  // All done.\n",
              "  yield {\n",
              "    response: {\n",
              "      action: 'complete',\n",
              "    }\n",
              "  };\n",
              "}\n",
              "\n",
              "scope.google = scope.google || {};\n",
              "scope.google.colab = scope.google.colab || {};\n",
              "scope.google.colab._files = {\n",
              "  _uploadFiles,\n",
              "  _uploadFilesContinue,\n",
              "};\n",
              "})(self);\n",
              "</script> "
            ]
          },
          "metadata": {}
        },
        {
          "output_type": "stream",
          "name": "stdout",
          "text": [
            "Saving data.csv to data.csv\n"
          ]
        }
      ],
      "source": [
        "# import libraries\n",
        "import numpy as np\n",
        "import pandas as pd\n",
        "from google.colab import files\n",
        "df=files.upload()"
      ]
    },
    {
      "cell_type": "markdown",
      "metadata": {
        "id": "QilLFSTKo7Ep"
      },
      "source": [
        "### Numpy Basics (15 marks)"
      ]
    },
    {
      "cell_type": "code",
      "execution_count": 6,
      "metadata": {
        "id": "qVpJQdXGo7Eq",
        "outputId": "f08386e3-a76c-4430-88d0-5ebf55c8dd1d",
        "colab": {
          "base_uri": "https://localhost:8080/"
        }
      },
      "outputs": [
        {
          "output_type": "stream",
          "name": "stdout",
          "text": [
            "[0 1 2 3 4 5 6 7 8 9]\n"
          ]
        }
      ],
      "source": [
        "# 1. Create a 1D array of numbers from 0 to 9\n",
        "\n",
        "q1 = np.arange(10)\n",
        "\n",
        "print(q1)"
      ]
    },
    {
      "cell_type": "code",
      "execution_count": 10,
      "metadata": {
        "id": "mfh0CrFZo7Eq",
        "outputId": "9d87cb26-488a-422f-aca2-a1aad034ef3c",
        "colab": {
          "base_uri": "https://localhost:8080/"
        }
      },
      "outputs": [
        {
          "output_type": "stream",
          "name": "stdout",
          "text": [
            "[[ True  True  True]\n",
            " [ True  True  True]\n",
            " [ True  True  True]]\n"
          ]
        }
      ],
      "source": [
        "# 2. Create a 3×3 numpy array of all True’s (~1 line)\n",
        "\n",
        "q2 = np.full((3, 3), True, dtype = bool)\n",
        "\n",
        "print(q2)"
      ]
    },
    {
      "cell_type": "code",
      "execution_count": 13,
      "metadata": {
        "id": "anBCzCrWo7Er",
        "outputId": "77dd9b5a-cf14-4239-fe3d-b86eb8eec4a7",
        "colab": {
          "base_uri": "https://localhost:8080/"
        }
      },
      "outputs": [
        {
          "output_type": "stream",
          "name": "stdout",
          "text": [
            "[1 3 5 7 9]\n"
          ]
        }
      ],
      "source": [
        "# 3. Given an array as input, print only odd numbers as output (~2 lines)\n",
        "\n",
        "a = np.arange(10)\n",
        "q3 = a[ (a%2) != 0]\n",
        "\n",
        "print(q3)"
      ]
    },
    {
      "cell_type": "code",
      "execution_count": 14,
      "metadata": {
        "id": "gzKbpPVXo7Es",
        "outputId": "0ca12a8d-16ae-4775-e619-30cd4039c1ba",
        "colab": {
          "base_uri": "https://localhost:8080/"
        }
      },
      "outputs": [
        {
          "output_type": "stream",
          "name": "stdout",
          "text": [
            "[[0 1 2 3 4]\n",
            " [5 6 7 8 9]]\n"
          ]
        }
      ],
      "source": [
        "# 4. Convert a 1D array to a 2D array with 2 rows (~1 line)\n",
        "\n",
        "e = np.arange(10)\n",
        "q4 = e.reshape(2,5)\n",
        "\n",
        "print(q4)"
      ]
    },
    {
      "cell_type": "code",
      "execution_count": 20,
      "metadata": {
        "id": "7p77dp8xo7Es",
        "outputId": "4ce1117e-0146-403c-d525-dd668b723766",
        "colab": {
          "base_uri": "https://localhost:8080/"
        }
      },
      "outputs": [
        {
          "output_type": "stream",
          "name": "stdout",
          "text": [
            "[[0 1 2 3 4]\n",
            " [5 6 7 8 9]\n",
            " [1 1 1 1 1]\n",
            " [1 1 1 1 1]]\n"
          ]
        }
      ],
      "source": [
        "# 5. How to stack two arrays vertically? (~1 line)\n",
        "\n",
        "a = np.arange(10).reshape(2,-1)\n",
        "b = np.repeat(1, 10).reshape(2,-1)\n",
        "q5 = np.vstack((a,b))\n",
        "\n",
        "print(q5)"
      ]
    },
    {
      "cell_type": "code",
      "execution_count": 21,
      "metadata": {
        "id": "x4h_UmsHo7Et",
        "outputId": "37672eb9-8d2e-409d-9be6-84d9e24a4a25",
        "colab": {
          "base_uri": "https://localhost:8080/"
        }
      },
      "outputs": [
        {
          "output_type": "stream",
          "name": "stdout",
          "text": [
            "[1 1 1 2 2 2 3 3 3 1 2 3 1 2 3 1 2 3]\n"
          ]
        }
      ],
      "source": [
        "# 6. How to generate custom sequences in numpy without hardcoding? (~1 line)\n",
        "# sequence: [1, 1, 1, 2, 2, 2, 3, 3, 3, 1, 2, 3, 1, 2, 3, 1, 2, 3]\n",
        "\n",
        "a = np.array([1,2,3])\n",
        "q6 = np.concatenate((np.repeat(a, 3), np.tile(a, 3)))\n",
        "\n",
        "print(q6)"
      ]
    },
    {
      "cell_type": "code",
      "execution_count": 25,
      "metadata": {
        "id": "vlyGc2KKo7Et",
        "outputId": "f4f1f699-684f-4856-8365-8d30d5a0a41c",
        "colab": {
          "base_uri": "https://localhost:8080/"
        }
      },
      "outputs": [
        {
          "output_type": "stream",
          "name": "stdout",
          "text": [
            "[2 4]\n"
          ]
        }
      ],
      "source": [
        "# 7. Get the common items between a and b (~1 line)\n",
        "\n",
        "a = np.array([1,2,3,2,3,4,3,4,5,6])\n",
        "b = np.array([7,2,10,2,7,4,9,4,9,8])\n",
        "q7 = np.intersect1d(a,b)\n",
        "\n",
        "print(q7)"
      ]
    },
    {
      "cell_type": "code",
      "execution_count": 26,
      "metadata": {
        "id": "jGJRej33o7Eu",
        "outputId": "c4d43404-c9e6-49a3-e58d-8e2d54a5b0a9",
        "colab": {
          "base_uri": "https://localhost:8080/"
        }
      },
      "outputs": [
        {
          "output_type": "stream",
          "name": "stdout",
          "text": [
            "[1 2 3 4]\n"
          ]
        }
      ],
      "source": [
        "# 8. From array a remove all items present in array b (~1 line)\n",
        "\n",
        "a = np.array([1,2,3,4,5])\n",
        "b = np.array([5,6,7,8,9])\n",
        "q8 = np.setdiff1d(a,b)\n",
        "\n",
        "print(q8)"
      ]
    },
    {
      "cell_type": "code",
      "execution_count": 27,
      "metadata": {
        "id": "oWNEXV8mo7Eu",
        "outputId": "55a49b9b-3c2b-4be6-b664-7323bacba0cf",
        "colab": {
          "base_uri": "https://localhost:8080/"
        }
      },
      "outputs": [
        {
          "output_type": "stream",
          "name": "stdout",
          "text": [
            "[6 9]\n"
          ]
        }
      ],
      "source": [
        "# 9. Get all items between 5 and 10 from given array (~1 line)\n",
        "\n",
        "a = np.array([2, 6, 1, 9, 10, 3, 27])\n",
        "q9 = a[ (a>5) & (a<10) ]\n",
        "\n",
        "print(q9)"
      ]
    },
    {
      "cell_type": "code",
      "execution_count": 30,
      "metadata": {
        "id": "hl91nVj4o7Ev"
      },
      "outputs": [],
      "source": [
        "# 10. Convert the function maxx that works on two scalars, to work on two arrays. (~1 line)\n",
        "\n",
        "def maxx(x, y):\n",
        "    \"\"\"Get the maximum of two items\"\"\"\n",
        "    dif=np.maximum(x,y)\n",
        "    return dif\n",
        "\n",
        "maxx(1, 5)\n",
        "\n",
        "a = np.array([5, 7, 9, 8, 6, 4, 5])\n",
        "b = np.array([6, 3, 4, 8, 9, 7, 1])\n",
        "q10 = maxx(a,b)"
      ]
    },
    {
      "cell_type": "code",
      "execution_count": 32,
      "metadata": {
        "id": "d9hMDhoVo7Ev",
        "outputId": "686a82d5-41d1-4c58-96e1-cc043f772c94",
        "colab": {
          "base_uri": "https://localhost:8080/"
        }
      },
      "outputs": [
        {
          "output_type": "stream",
          "name": "stdout",
          "text": [
            "[[1 0 2]\n",
            " [4 3 5]\n",
            " [7 6 8]]\n"
          ]
        }
      ],
      "source": [
        "# 11. Swap columns 1 and 2 in the array arr. (~1 line)\n",
        "\n",
        "q11 = np.arange(9).reshape(3,3)\n",
        "q11[: , [1,0]] = q11[:, [0,1]]\n",
        "\n",
        "print(q11)"
      ]
    },
    {
      "cell_type": "code",
      "execution_count": 33,
      "metadata": {
        "id": "TMvhYT1Lo7Ew",
        "outputId": "a948ed46-cf20-43c5-cabc-3d692dbffe33",
        "colab": {
          "base_uri": "https://localhost:8080/"
        }
      },
      "outputs": [
        {
          "output_type": "stream",
          "name": "stdout",
          "text": [
            "[[3 4 5]\n",
            " [0 1 2]\n",
            " [6 7 8]]\n"
          ]
        }
      ],
      "source": [
        "# 12. Swap rows 1 and 2 in the array arr (~1 line)\n",
        "\n",
        "q12 = np.arange(9).reshape(3,3)\n",
        "q12[[1, 0], :] = q12[[0, 1], :]\n",
        "\n",
        "print(q12)"
      ]
    },
    {
      "cell_type": "code",
      "execution_count": null,
      "metadata": {
        "id": "xHIBAIZeo7Ew"
      },
      "outputs": [],
      "source": [
        "# 13. Reverse the rows of a 2D array arr (~1 line)\n",
        "\n",
        "arr = np.arange(9).reshape(3,3)\n",
        "q13 = \n",
        "\n",
        "print(q13)"
      ]
    },
    {
      "cell_type": "code",
      "execution_count": 35,
      "metadata": {
        "id": "6-q1Y1qpo7Ew",
        "outputId": "84121c81-f781-4fd9-f304-ab7fdc6f3e7a",
        "colab": {
          "base_uri": "https://localhost:8080/"
        }
      },
      "outputs": [
        {
          "output_type": "stream",
          "name": "stdout",
          "text": [
            "[[8 7 6]\n",
            " [5 4 3]\n",
            " [2 1 0]]\n"
          ]
        }
      ],
      "source": [
        "# 14. Reverse the columns of a 2D array arr (~1 line)\n",
        "\n",
        "arr = np.arange(9).reshape(3,3)\n",
        "q14 = np.flip(arr)\n",
        "\n",
        "print(q14)"
      ]
    },
    {
      "cell_type": "code",
      "execution_count": 39,
      "metadata": {
        "id": "WrK7YMOWo7Ew",
        "outputId": "f1a2e396-3e1e-4f80-d027-372b34aaab79",
        "colab": {
          "base_uri": "https://localhost:8080/"
        }
      },
      "outputs": [
        {
          "output_type": "stream",
          "name": "stdout",
          "text": [
            "[0 1 2 3 4 5 6 6 6 6 6 6 6 6 6]\n"
          ]
        }
      ],
      "source": [
        "# 15. Limit the number of items printed in python numpy array a to a maximum of 6 elements. (~1 line)\n",
        "\n",
        "q15 = np.arange(15)\n",
        "q15 = np.clip(q15,0,6)\n",
        "\n",
        "print(q15)"
      ]
    },
    {
      "cell_type": "markdown",
      "metadata": {
        "id": "BsR_HEo0o7Ex"
      },
      "source": [
        "### Pandas Basics (15 marks)"
      ]
    },
    {
      "cell_type": "markdown",
      "metadata": {
        "id": "8yjRiEmPo7Ex"
      },
      "source": [
        "**Note:** Each question should use the original imported dataframe. \n",
        "**Do not modify the original dataframe.**"
      ]
    },
    {
      "cell_type": "code",
      "execution_count": 41,
      "metadata": {
        "id": "slIf7SAoo7Ex"
      },
      "outputs": [],
      "source": [
        "# 1. Read dataframe from file 'data.csv', (no index) into a variable called q1 (~1 line)\n",
        "\n",
        "q16 = pd.read_csv(\"data.csv\")"
      ]
    },
    {
      "cell_type": "code",
      "execution_count": 42,
      "metadata": {
        "id": "BiDxb8IVo7Ey"
      },
      "outputs": [],
      "source": [
        "# 2. Return the first 3 rows of the DataFrame df.\n",
        "\n",
        "q17 = q16.head(3)"
      ]
    },
    {
      "cell_type": "code",
      "execution_count": 48,
      "metadata": {
        "id": "eF1BwLMIo7Ey"
      },
      "outputs": [],
      "source": [
        "# 3. Select just the 'name' and 'age' columns from the DataFrame df. (~1 line)\n",
        "\n",
        "q18 = q16[ ['name' , 'age'] ]"
      ]
    },
    {
      "cell_type": "code",
      "execution_count": 49,
      "metadata": {
        "id": "xksQNswZo7Ey"
      },
      "outputs": [],
      "source": [
        "# 4. Select the data in rows [3, 4, 8] and in columns ['name', 'age', 'number_of_pets']. (~1 line)\n",
        "\n",
        "q19 = q16.loc[ [3,4,8] , ['name','age','number_of_pets'] ]"
      ]
    },
    {
      "cell_type": "code",
      "execution_count": 50,
      "metadata": {
        "id": "EbF97u52o7Ey"
      },
      "outputs": [],
      "source": [
        "# 5. Select only the rows where the number of pets is greater than 3. (~1 line)\n",
        "\n",
        "q20 = q16[ q16['number_of_pets'] > 3]"
      ]
    },
    {
      "cell_type": "code",
      "execution_count": 53,
      "metadata": {
        "id": "fRCWHffso7Ez"
      },
      "outputs": [],
      "source": [
        "# 6. Select the rows where the age is missing, i.e. it is NaN. (~1 line)\n",
        "\n",
        "q21 = q16[ q16['age'].isnull()]"
      ]
    },
    {
      "cell_type": "code",
      "execution_count": 60,
      "metadata": {
        "id": "KbQBG1jxo7Ez"
      },
      "outputs": [],
      "source": [
        "# 7. Select the rows where the student name is not Dan or Alice. (~1 line)\n",
        "\n",
        "q22 = q16[ (q16['name']!=\"Dan\") & (q16['name']!=\"Alice\")]"
      ]
    },
    {
      "cell_type": "code",
      "execution_count": 62,
      "metadata": {
        "id": "w_yudzeNo7Ez"
      },
      "outputs": [],
      "source": [
        "# 8. Select the rows the age is between 30 and 50 (inclusive). (~1 line)\n",
        "\n",
        "q23 = q16[ (q16['age']>=30) & (q16['age']<=50) ]"
      ]
    },
    {
      "cell_type": "code",
      "execution_count": 64,
      "metadata": {
        "id": "CN9asvL7o7Ez"
      },
      "outputs": [],
      "source": [
        "# 9. Find the total age of all students. (~1 line)\n",
        "\n",
        "q24 = q16['age'].sum()"
      ]
    },
    {
      "cell_type": "code",
      "execution_count": 65,
      "metadata": {
        "id": "oep8X20Ho7Ez"
      },
      "outputs": [],
      "source": [
        "# 10. Calculate the mean age of all students. (~1 line)\n",
        "\n",
        "q25 = q16['age'].mean()"
      ]
    },
    {
      "cell_type": "code",
      "execution_count": 68,
      "metadata": {
        "id": "IjBkdSMFo7E0"
      },
      "outputs": [],
      "source": [
        "# 11. Count the number of students. (~1 line)\n",
        "\n",
        "q26 = len(q16)"
      ]
    },
    {
      "cell_type": "code",
      "execution_count": 70,
      "metadata": {
        "id": "EQwdKPk6o7E0"
      },
      "outputs": [],
      "source": [
        "# 12. Sort the DataFrame first by the values in the 'age' in decending order, then by the value in the 'name' column in ascending order. (~1 line)\n",
        "\n",
        "q27 = q16.sort_values(by=['age', 'name'], ascending=[False, True])"
      ]
    },
    {
      "cell_type": "code",
      "execution_count": 71,
      "metadata": {
        "id": "HTWZAaaDo7E0"
      },
      "outputs": [],
      "source": [
        "# 13. Add a new column, 'course', that contains the value 'big data'. (~1 line)\n",
        "\n",
        "q28 = q16['course']='big data'"
      ]
    },
    {
      "cell_type": "code",
      "execution_count": 76,
      "metadata": {
        "id": "U6KN2bRTo7E0"
      },
      "outputs": [],
      "source": [
        "# 14. Delete the 'number_of_pets' column from the DataFrame. (~1 line)\n",
        "\n",
        "q29 = q16.drop('number_of_pets',axis=1)"
      ]
    },
    {
      "cell_type": "code",
      "execution_count": 81,
      "metadata": {
        "id": "wnXmLIIuo7E0"
      },
      "outputs": [],
      "source": [
        "# 15. Delete the row where the age is missing. (~1 line)\n",
        "\n",
        "q30 = q16.dropna(axis=0, subset=['age'])"
      ]
    }
  ],
  "metadata": {
    "kernelspec": {
      "display_name": "base",
      "language": "python",
      "name": "python3"
    },
    "language_info": {
      "codemirror_mode": {
        "name": "ipython",
        "version": 3
      },
      "file_extension": ".py",
      "mimetype": "text/x-python",
      "name": "python",
      "nbconvert_exporter": "python",
      "pygments_lexer": "ipython3",
      "version": "3.10.8"
    },
    "orig_nbformat": 4,
    "vscode": {
      "interpreter": {
        "hash": "e40199dda8da9b508830e9cbab01b6adfc3e007bf238c8282f0c8d3ce75622cc"
      }
    },
    "colab": {
      "provenance": []
    }
  },
  "nbformat": 4,
  "nbformat_minor": 0
}