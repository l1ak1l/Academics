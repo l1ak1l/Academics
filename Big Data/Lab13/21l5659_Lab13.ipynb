{
  "nbformat": 4,
  "nbformat_minor": 0,
  "metadata": {
    "colab": {
      "provenance": []
    },
    "kernelspec": {
      "name": "python3",
      "display_name": "Python 3"
    },
    "language_info": {
      "name": "python"
    }
  },
  "cells": [
    {
      "cell_type": "code",
      "execution_count": 1,
      "metadata": {
        "colab": {
          "base_uri": "https://localhost:8080/"
        },
        "id": "UO7Tgm7HBGrw",
        "outputId": "1a8f795c-eb7e-428a-f542-76e6ccb02aef"
      },
      "outputs": [
        {
          "output_type": "stream",
          "name": "stdout",
          "text": [
            "Looking in indexes: https://pypi.org/simple, https://us-python.pkg.dev/colab-wheels/public/simple/\n",
            "Collecting pyspark\n",
            "  Downloading pyspark-3.4.0.tar.gz (310.8 MB)\n",
            "\u001b[2K     \u001b[90m━━━━━━━━━━━━━━━━━━━━━━━━━━━━━━━━━━━━━━━\u001b[0m \u001b[32m310.8/310.8 MB\u001b[0m \u001b[31m4.2 MB/s\u001b[0m eta \u001b[36m0:00:00\u001b[0m\n",
            "\u001b[?25h  Preparing metadata (setup.py) ... \u001b[?25l\u001b[?25hdone\n",
            "Requirement already satisfied: py4j==0.10.9.7 in /usr/local/lib/python3.10/dist-packages (from pyspark) (0.10.9.7)\n",
            "Building wheels for collected packages: pyspark\n",
            "  Building wheel for pyspark (setup.py) ... \u001b[?25l\u001b[?25hdone\n",
            "  Created wheel for pyspark: filename=pyspark-3.4.0-py2.py3-none-any.whl size=311317130 sha256=cdf1a1f2ffee10d55eed0c457cb409db55aa91cd8f90bc302d136e02c307498d\n",
            "  Stored in directory: /root/.cache/pip/wheels/7b/1b/4b/3363a1d04368e7ff0d408e57ff57966fcdf00583774e761327\n",
            "Successfully built pyspark\n",
            "Installing collected packages: pyspark\n",
            "Successfully installed pyspark-3.4.0\n"
          ]
        }
      ],
      "source": [
        "pip install pyspark"
      ]
    },
    {
      "cell_type": "code",
      "source": [
        "from pyspark import SparkContext,SparkConf\n",
        "conf = SparkConf().setAppName(\"lab 13\").setMaster(\"local[*]\")\n",
        "sc = SparkContext(conf=conf)"
      ],
      "metadata": {
        "id": "7v2nKtOCCFH_"
      },
      "execution_count": 2,
      "outputs": []
    },
    {
      "cell_type": "code",
      "source": [
        "from pyspark.sql import SparkSession\n",
        "\n",
        "# Create a SparkSession\n",
        "spark = SparkSession.builder.appName(\"MoviesDataAnalysis\").getOrCreate()\n",
        "\n",
        "# Read the CSV file into a DataFrame\n",
        "movies_df = spark.read.format(\"csv\").option(\"header\", \"true\").load(\"Movies.csv\")"
      ],
      "metadata": {
        "id": "sBX_BrNObuN4"
      },
      "execution_count": 30,
      "outputs": []
    },
    {
      "cell_type": "markdown",
      "source": [
        "Question No 1"
      ],
      "metadata": {
        "id": "bNXhqwN-fmQa"
      }
    },
    {
      "cell_type": "code",
      "source": [
        "from pyspark.sql.functions import col\n",
        "action_award_movies = movies_df.select(\"title\", \"year\", \"director\") \\\n",
        "    .where((col(\"Genre\") == \"Action\") & (col(\"Awards\") == \"Yes\"))\n",
        "\n",
        "action_award_movies.show()\n"
      ],
      "metadata": {
        "colab": {
          "base_uri": "https://localhost:8080/"
        },
        "id": "dVAVzUA5cDQr",
        "outputId": "3c71cccb-f857-44d9-c4d9-a0a894273af0"
      },
      "execution_count": 36,
      "outputs": [
        {
          "output_type": "stream",
          "name": "stdout",
          "text": [
            "+-----+----+--------+\n",
            "|title|year|director|\n",
            "+-----+----+--------+\n",
            "+-----+----+--------+\n",
            "\n"
          ]
        }
      ]
    },
    {
      "cell_type": "markdown",
      "source": [
        "Question No 2"
      ],
      "metadata": {
        "id": "wqZDiHW-fhHG"
      }
    },
    {
      "cell_type": "code",
      "source": [
        "from pyspark.sql.functions import col, collect_list\n",
        "\n",
        "actor_movies = movies_df.select(\"Actor\", \"Title\", \"Director\") \\\n",
        "    .where(col(\"Awards\") == True) \\\n",
        "    .groupBy(\"Actor\") \\\n",
        "    .agg(collect_list(\"Title\").alias(\"Movies\"), collect_list(\"Director\").alias(\"directors\"))\n",
        "\n",
        "actor_movies.show()\n"
      ],
      "metadata": {
        "colab": {
          "base_uri": "https://localhost:8080/"
        },
        "id": "FD3PzUQ5dhnZ",
        "outputId": "94d86875-3930-4a82-b5fb-d2fba157c1f8"
      },
      "execution_count": 39,
      "outputs": [
        {
          "output_type": "stream",
          "name": "stdout",
          "text": [
            "+-----------------+--------------------+--------------------+\n",
            "|            Actor|              Movies|           directors|\n",
            "+-----------------+--------------------+--------------------+\n",
            "|     LintDerek De|        [AssaultThe]|    [RademakersFons]|\n",
            "|    LancasterBurt|[Airport, Come Ba...|[SeatonGeorge, Ma...|\n",
            "|      BridgesBeau|         [Norma Rae]|        [RittMartin]|\n",
            "|  CapolicchioLino|[Garden of the Fi...|   [De SicaVittorio]|\n",
            "|         LoneJohn|   [Last EmperorThe]|[BertolucciBernardo]|\n",
            "|      IronsJeremy|[Reversal of Fort...|   [SchroederBarbet]|\n",
            "|AumontJean-Pierre|     [Day for Night]|  [TruffautFrançois]|\n",
            "|         HarrisEd|[Places in the He...|      [BentonRobert]|\n",
            "|      ConnerySean|   [UntouchablesThe]|     [De PalmaBrian]|\n",
            "|      HarrisonRex|      [My Fair Lady]|       [CukorGeorge]|\n",
            "|       HudsonRock|             [Giant]|     [StevensGeorge]|\n",
            "|     TracySpencer|[Judgment at Nure...|[KramerStanley, K...|\n",
            "|  StrouseNocholas|[Doin' Time on Pl...|    [MatthauCharles]|\n",
            "|    BeymerRichard|   [West Side Story]|        [WiseRobert]|\n",
            "|       KlineKevin|   [Sophie's Choice]|     [PakulaAlan J.]|\n",
            "|         GreyJoel|           [Cabaret]|          [FosseBob]|\n",
            "|      AielloDanny|[Purple Rose of C...|        [AllenWoody]|\n",
            "|BelmondoJean-Paul|         [Two Women]|   [De SicaVittorio]|\n",
            "|      MooreDudley|            [Arthur]|       [GordonSteve]|\n",
            "|   RobertsonCliff|            [Charly]|       [NelsonRalph]|\n",
            "+-----------------+--------------------+--------------------+\n",
            "only showing top 20 rows\n",
            "\n"
          ]
        }
      ]
    },
    {
      "cell_type": "markdown",
      "source": [
        "Question No 4"
      ],
      "metadata": {
        "id": "MAJbSVq2fdWO"
      }
    },
    {
      "cell_type": "code",
      "source": [
        "\n",
        "least_popular_movies = movies_df.select(\"Title\", \"Year\", \"Popularity\") \\\n",
        "    .where(col(\"Year\") < 1980) \\\n",
        "    .orderBy(\"Popularity\") \\\n",
        "    .limit(10)\n",
        "\n",
        "least_popular_movies.show()\n"
      ],
      "metadata": {
        "colab": {
          "base_uri": "https://localhost:8080/"
        },
        "id": "7HIUxVrfd8Ih",
        "outputId": "973875b1-85e0-4e1a-fd93-ec5f2127c625"
      },
      "execution_count": 40,
      "outputs": [
        {
          "output_type": "stream",
          "name": "stdout",
          "text": [
            "+------------------+----+----------+\n",
            "|             Title|Year|Popularity|\n",
            "+------------------+----+----------+\n",
            "|   White Lightning|1953|      null|\n",
            "|      Desert Rider|1923|      null|\n",
            "|      Drop KickThe|1927|      null|\n",
            "| Bank on the Stars|1954|      null|\n",
            "|Shout at the Devil|1976|         0|\n",
            "|           Shalako|1968|         0|\n",
            "|     Anna Christie|1930|         0|\n",
            "|           Airport|1970|         0|\n",
            "| Tales of Tomorrow|1953|         0|\n",
            "|          Stavisky|1974|         1|\n",
            "+------------------+----+----------+\n",
            "\n"
          ]
        }
      ]
    },
    {
      "cell_type": "markdown",
      "source": [
        "Question No 3"
      ],
      "metadata": {
        "id": "wqwjw53RfVHB"
      }
    },
    {
      "cell_type": "code",
      "source": [
        "most_popular_movies = movies_df.select(\"Title\", \"Year\", \"Popularity\") \\\n",
        "    .where(col(\"Awards\") == 0) \\\n",
        "    .orderBy(col(\"Popularity\").desc()) \\\n",
        "    .limit(10)\n",
        "\n",
        "most_popular_movies.show()"
      ],
      "metadata": {
        "colab": {
          "base_uri": "https://localhost:8080/"
        },
        "id": "rVGIIZiietHv",
        "outputId": "58664d95-429e-4622-a082-a6e01c69ceae"
      },
      "execution_count": 41,
      "outputs": [
        {
          "output_type": "stream",
          "name": "stdout",
          "text": [
            "+-----+----+----------+\n",
            "|Title|Year|Popularity|\n",
            "+-----+----+----------+\n",
            "+-----+----+----------+\n",
            "\n"
          ]
        }
      ]
    },
    {
      "cell_type": "markdown",
      "source": [
        "Question No 5\n"
      ],
      "metadata": {
        "id": "HIxPHqeTfPVU"
      }
    },
    {
      "cell_type": "code",
      "source": [
        "\n",
        "df_sorted = movies_df.filter(movies_df.Year < 1990).orderBy(\"Title\")\n",
        "\n",
        "df_sorted.show()\n"
      ],
      "metadata": {
        "colab": {
          "base_uri": "https://localhost:8080/"
        },
        "id": "sr-cOQkSe_lC",
        "outputId": "0fa39b4f-61e8-45a4-a2d8-2c6b1931bcf1"
      },
      "execution_count": 43,
      "outputs": [
        {
          "output_type": "stream",
          "name": "stdout",
          "text": [
            "+----+------+--------------------+---------------+--------------------+-----------------+-------------------+----------+------+-------------------+\n",
            "|Year|Length|               Title|          Genre|               Actor|          Actress|           Director|Popularity|Awards|              Image|\n",
            "+----+------+--------------------+---------------+--------------------+-----------------+-------------------+----------+------+-------------------+\n",
            "|1968|   139|2001: A Space Ody...|Science Fiction|          DulleaKeir|   TyzackMargaret|     KubrickStanley|        83|    No|   NicholasCage.png|\n",
            "|1982|    92|             48 Hrs.|         Action|           NolteNick|   O'TooleAnnette|         HillWalter|        67|    No|   NicholasCage.png|\n",
            "|1963|   138|               8 1/2|          Drama| MastroianniMarcello| CardinaleClaudia|    FelliniFederico|        80|   Yes|   NicholasCage.png|\n",
            "|1966|    95|A Big Hand for th...|         Comedy|          FondaHenry|   WoodwardJoanne|        CookFielder|        12|    No|   NicholasCage.png|\n",
            "|1962|   105|  A Child Is Waiting|          Drama|       LancasterBurt|      GarlandJudy|     CassavetesJohn|        60|    No|  burtLancaster.png|\n",
            "|1985|   118|A Chorus LineThe ...|          Music|      DouglasMichael|    LandersAudrey|AttenboroughRichard|        71|    No|   NicholasCage.png|\n",
            "|1971|   138|  A Clockwork Orange|Science Fiction|     McDowellMalcolm|             null|     KubrickStanley|        83|   Yes|   NicholasCage.png|\n",
            "|1967|   100|A Coeur Joie(Head...|         Action|     TerzieffLaurent|   BardotBrigitte|   BourguignonSerge|        54|    No| brigitteBardot.png|\n",
            "|1988|   122|   A Cry in the Dark|          Drama|            NeillSam|      StreepMeryl|       SchepisiFred|        67|    No|    merylStreep.png|\n",
            "|1989|    97|  A Dry White Season|          Drama|    SutherlandDonald|    SarandonSusan|        PalcyEuzhan|        71|    No|   NicholasCage.png|\n",
            "|1966|   104|      A Fine Madness|         Comedy|         ConnerySean|   WoodwardJoanne|      KershnerIrvin|         6|    No|    seanConnery.png|\n",
            "|1988|   108| A Fish Called Wanda|         Comedy|          CleeseJohn|  CurtisJamie Lee|    CrichtonCharles|         7|   Yes|   NicholasCage.png|\n",
            "|1964|   102|A Fistful of Dollars|       Westerns|       EastwoodClint|VolonteGian Maria|        LeoneSergio|        61|    No|  clintEastwood.png|\n",
            "|1943|  null|     A Guy Named Joe|          Drama|        TracySpencer|       DunneIrene|      FlemingVictor|        42|    No|   spencerTracy.png|\n",
            "|1954|    96|    A Lesson in Love|         Comedy|   BjörnstrandGunnar|      DahlbeckEva|      BergmanIngmar|        48|    No|        Bergman.png|\n",
            "|1977|   110|A Little Night Music|          Music|           CariouLen|  TaylorElizabeth|       PrinceHarold|        61|    No|elizabethTaylor.png|\n",
            "|1966|   103|     A Man & a Woman|          Drama|TrintignantJean-L...|       AimeeAnouk|      LelouchClaude|        46|   Yes|   NicholasCage.png|\n",
            "|1986|   112|A Man & a Woman: ...|          Drama|TrintignantJean-L...|       AimeeAnouk|      LelouchClaude|        49|    No|   NicholasCage.png|\n",
            "|1966|   120|A Man for All Sea...|          Drama|          ShawRobert|      HillerWendy|      ZinnemannFred|        20|   Yes|   NicholasCage.png|\n",
            "|1976|    97|    A Matter of Time|          Drama|        BoyerCharles|     MinnelliLiza|   MinnelliVincente|        70|    No|   NicholasCage.png|\n",
            "+----+------+--------------------+---------------+--------------------+-----------------+-------------------+----------+------+-------------------+\n",
            "only showing top 20 rows\n",
            "\n"
          ]
        }
      ]
    },
    {
      "cell_type": "code",
      "source": [
        "from pyspark.sql import SparkSession\n",
        "\n",
        "spark = SparkSession.builder.appName(\"WineDataAnalysis\").getOrCreate()\n",
        "\n",
        "wine_df = spark.read.format(\"csv\").option(\"header\", \"true\").load(\"wine.csv\")\n"
      ],
      "metadata": {
        "id": "swIn5nc0CWla"
      },
      "execution_count": 5,
      "outputs": []
    },
    {
      "cell_type": "code",
      "source": [
        "wine_df.describe().show()\n"
      ],
      "metadata": {
        "colab": {
          "base_uri": "https://localhost:8080/"
        },
        "id": "UDdb25IFLzAr",
        "outputId": "e7b553d5-31ef-4804-c7bb-b308dca72f34"
      },
      "execution_count": 6,
      "outputs": [
        {
          "output_type": "stream",
          "name": "stdout",
          "text": [
            "+-------+------------------+------------------+------------------+-----------------+------------------+------------------+------------------+--------------------+------------------+-----------------+-------------------+------------------+-----------------+\n",
            "|summary|           Alcohol|        Malic_Acid|               Ash|     Ash_Alcanity|         Magnesium|     Total_Phenols|        Flavanoids|Nonflavanoid_Phenols|   Proanthocyanins|  Color_Intensity|                Hue|             OD280|          Proline|\n",
            "+-------+------------------+------------------+------------------+-----------------+------------------+------------------+------------------+--------------------+------------------+-----------------+-------------------+------------------+-----------------+\n",
            "|  count|               178|               178|               178|              178|               178|               178|               178|                 178|               178|              178|                178|               178|              178|\n",
            "|   mean|13.000617977528083| 2.336348314606741|2.3665168539325854|19.49494382022472| 99.74157303370787| 2.295112359550562|2.0292696629213474| 0.36185393258426973|1.5908988764044953|5.058089882022473| 0.9574494382022468|2.6116853932584254|746.8932584269663|\n",
            "| stddev| 0.811826538005858|1.1171460976144625|0.2743440090608148|3.339563767173504|14.282483515295652|0.6258510488339892|0.9988586850169471| 0.12445334029667941|0.5723588626747612|2.318285871822413|0.22857156582982324|0.7099904287650503|314.9074742768492|\n",
            "|    min|             11.03|              0.74|              1.36|             10.6|               100|              0.98|              0.34|                0.13|              0.41|             1.28|               0.48|              1.27|             1015|\n",
            "|    max|             14.83|               5.8|              3.23|               30|                99|              3.88|              5.08|                0.66|              3.58|         9.899999|               1.71|                 4|              990|\n",
            "+-------+------------------+------------------+------------------+-----------------+------------------+------------------+------------------+--------------------+------------------+-----------------+-------------------+------------------+-----------------+\n",
            "\n"
          ]
        }
      ]
    },
    {
      "cell_type": "code",
      "source": [
        "import matplotlib.pyplot as plt\n",
        "\n",
        "alcohol = wine_df.select(\"alcohol\").rdd.flatMap(lambda x: x).collect()\n",
        "\n",
        "plt.hist(alcohol, bins=20)\n",
        "plt.show()\n"
      ],
      "metadata": {
        "colab": {
          "base_uri": "https://localhost:8080/",
          "height": 430
        },
        "id": "Hu-DmKfcL5Qg",
        "outputId": "89658741-731c-4cf5-c094-1b1bbd9542d9"
      },
      "execution_count": 7,
      "outputs": [
        {
          "output_type": "display_data",
          "data": {
            "text/plain": [
              "<Figure size 640x480 with 1 Axes>"
            ],
            "image/png": "[encoded data removed]"
          },
          "metadata": {}
        }
      ]
    },
    {
      "cell_type": "code",
      "source": [
        "from pyspark.sql.functions import col\n",
        "from pyspark.ml.feature import VectorAssembler\n",
        "from pyspark.ml.stat import Correlation\n",
        "df = wine_df.select(col(\"Alcohol\").cast(\"float\"), col(\"Ash\").cast(\"float\"))\n",
        "\n",
        "assembler = VectorAssembler(inputCols=[\"Alcohol\", \"Ash\"], outputCol=\"features\")\n",
        "df = assembler.transform(df)\n",
        "\n",
        "r = Correlation.corr(df, \"features\").head()\n",
        "print(\"Pearson correlation matrix:\\n\" + str(r[0]))\n"
      ],
      "metadata": {
        "colab": {
          "base_uri": "https://localhost:8080/"
        },
        "id": "UTxUMbzbMGNB",
        "outputId": "3c57c71a-ffd4-4cae-cba4-d0d936617ab2"
      },
      "execution_count": 19,
      "outputs": [
        {
          "output_type": "stream",
          "name": "stdout",
          "text": [
            "Pearson correlation matrix:\n",
            "DenseMatrix([[1.        , 0.21154461],\n",
            "             [0.21154461, 1.        ]])\n"
          ]
        }
      ]
    },
    {
      "cell_type": "markdown",
      "source": [
        "Question N.o 7\n"
      ],
      "metadata": {
        "id": "MvZMLv_fQcY5"
      }
    },
    {
      "cell_type": "code",
      "source": [
        "from pyspark.ml.clustering import KMeans, BisectingKMeans\n",
        "from pyspark.ml.feature import VectorAssembler\n",
        "from pyspark.sql.functions import col\n",
        "\n",
        "df = spark.read.csv(\"wine.csv\", header=True, inferSchema=True)\n",
        "\n",
        "cols = [\"Alcohol\", \"Malic_Acid\", \"Ash\", \"Ash_Alcanity\", \"Magnesium\", \"Total_Phenols\", \"Flavanoids\",\n",
        "        \"Nonflavanoid_Phenols\", \"Proanthocyanins\", \"Color_Intensity\", \"Hue\", \"OD280\", \"Proline\"]\n",
        "\n",
        "for c in cols:\n",
        "    df = df.withColumn(c, col(c).cast(\"double\"))\n",
        "\n",
        "assembler = VectorAssembler(inputCols=df.columns, outputCol=\"features\")\n",
        "df = assembler.transform(df).select(\"features\")\n",
        "\n",
        "kmeans = KMeans(k=3, seed=1)\n",
        "model = kmeans.fit(df)\n",
        "predictions = model.transform(df)\n",
        "wssse = model.summary.trainingCost\n",
        "print(\"Within Set Sum of Squared Errors (WSSSE): \", wssse)\n",
        "bisecting_kmeans = BisectingKMeans(k=3, seed=1)\n",
        "model = bisecting_kmeans.fit(df)\n",
        "predictions = model.transform(df)\n",
        "wssse = model.summary.trainingCost\n",
        "print(\"KMeans model WSSSE = {:.2f}\".format(wssse))"
      ],
      "metadata": {
        "colab": {
          "base_uri": "https://localhost:8080/"
        },
        "id": "6phZww3SQhbz",
        "outputId": "b46bb22f-0c06-4b81-bd29-1623f06eb77b"
      },
      "execution_count": 27,
      "outputs": [
        {
          "output_type": "stream",
          "name": "stdout",
          "text": [
            "Within Set Sum of Squared Errors (WSSSE):  2629315.194018101\n",
            "KMeans model WSSSE = 2772942.71\n"
          ]
        }
      ]
    },
    {
      "cell_type": "code",
      "source": [],
      "metadata": {
        "id": "PkgR8b8kb7HH"
      },
      "execution_count": null,
      "outputs": []
    }
  ]
}