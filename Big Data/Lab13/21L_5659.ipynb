{
  "nbformat": 4,
  "nbformat_minor": 0,
  "metadata": {
    "colab": {
      "provenance": []
    },
    "kernelspec": {
      "name": "python3",
      "display_name": "Python 3"
    },
    "language_info": {
      "name": "python"
    }
  },
  "cells": [
    {
      "cell_type": "code",
      "execution_count": 22,
      "metadata": {
        "colab": {
          "base_uri": "https://localhost:8080/"
        },
        "id": "UO7Tgm7HBGrw",
        "outputId": "cd2cb90c-a243-4d7a-922f-3ac56ef80a2f"
      },
      "outputs": [
        {
          "output_type": "stream",
          "name": "stdout",
          "text": [
            "Looking in indexes: https://pypi.org/simple, https://us-python.pkg.dev/colab-wheels/public/simple/\n",
            "Requirement already satisfied: pyspark in /usr/local/lib/python3.10/dist-packages (3.4.0)\n",
            "Requirement already satisfied: py4j==0.10.9.7 in /usr/local/lib/python3.10/dist-packages (from pyspark) (0.10.9.7)\n"
          ]
        }
      ],
      "source": [
        "pip install pyspark"
      ]
    },
    {
      "cell_type": "code",
      "source": [
        "from pyspark import SparkContext,SparkConf\n",
        "conf = SparkConf().setAppName(\"Lab 13A\").setMaster(\"local[*]\")\n",
        "sc = SparkContext(conf=conf)"
      ],
      "metadata": {
        "id": "7v2nKtOCCFH_",
        "outputId": "7dd1cafa-bfe9-4207-d1f3-b848615ca905",
        "colab": {
          "base_uri": "https://localhost:8080/",
          "height": 224
        }
      },
      "execution_count": 24,
      "outputs": [
        {
          "output_type": "error",
          "ename": "ValueError",
          "evalue": "ignored",
          "traceback": [
            "\u001b[0;31m---------------------------------------------------------------------------\u001b[0m",
            "\u001b[0;31mValueError\u001b[0m                                Traceback (most recent call last)",
            "\u001b[0;32m<ipython-input-24-f4a19be89085>\u001b[0m in \u001b[0;36m<cell line: 3>\u001b[0;34m()\u001b[0m\n\u001b[1;32m      1\u001b[0m \u001b[0;32mfrom\u001b[0m \u001b[0mpyspark\u001b[0m \u001b[0;32mimport\u001b[0m \u001b[0mSparkContext\u001b[0m\u001b[0;34m,\u001b[0m\u001b[0mSparkConf\u001b[0m\u001b[0;34m\u001b[0m\u001b[0;34m\u001b[0m\u001b[0m\n\u001b[1;32m      2\u001b[0m \u001b[0mconf\u001b[0m \u001b[0;34m=\u001b[0m \u001b[0mSparkConf\u001b[0m\u001b[0;34m(\u001b[0m\u001b[0;34m)\u001b[0m\u001b[0;34m.\u001b[0m\u001b[0msetAppName\u001b[0m\u001b[0;34m(\u001b[0m\u001b[0;34m\"Lab 13A\"\u001b[0m\u001b[0;34m)\u001b[0m\u001b[0;34m.\u001b[0m\u001b[0msetMaster\u001b[0m\u001b[0;34m(\u001b[0m\u001b[0;34m\"local[*]\"\u001b[0m\u001b[0;34m)\u001b[0m\u001b[0;34m\u001b[0m\u001b[0;34m\u001b[0m\u001b[0m\n\u001b[0;32m----> 3\u001b[0;31m \u001b[0msc\u001b[0m \u001b[0;34m=\u001b[0m \u001b[0mSparkContext\u001b[0m\u001b[0;34m(\u001b[0m\u001b[0mconf\u001b[0m\u001b[0;34m=\u001b[0m\u001b[0mconf\u001b[0m\u001b[0;34m)\u001b[0m\u001b[0;34m\u001b[0m\u001b[0;34m\u001b[0m\u001b[0m\n\u001b[0m",
            "\u001b[0;32m/usr/local/lib/python3.10/dist-packages/pyspark/context.py\u001b[0m in \u001b[0;36m__init__\u001b[0;34m(self, master, appName, sparkHome, pyFiles, environment, batchSize, serializer, conf, gateway, jsc, profiler_cls, udf_profiler_cls, memory_profiler_cls)\u001b[0m\n\u001b[1;32m    196\u001b[0m             )\n\u001b[1;32m    197\u001b[0m \u001b[0;34m\u001b[0m\u001b[0m\n\u001b[0;32m--> 198\u001b[0;31m         \u001b[0mSparkContext\u001b[0m\u001b[0;34m.\u001b[0m\u001b[0m_ensure_initialized\u001b[0m\u001b[0;34m(\u001b[0m\u001b[0mself\u001b[0m\u001b[0;34m,\u001b[0m \u001b[0mgateway\u001b[0m\u001b[0;34m=\u001b[0m\u001b[0mgateway\u001b[0m\u001b[0;34m,\u001b[0m \u001b[0mconf\u001b[0m\u001b[0;34m=\u001b[0m\u001b[0mconf\u001b[0m\u001b[0;34m)\u001b[0m\u001b[0;34m\u001b[0m\u001b[0;34m\u001b[0m\u001b[0m\n\u001b[0m\u001b[1;32m    199\u001b[0m         \u001b[0;32mtry\u001b[0m\u001b[0;34m:\u001b[0m\u001b[0;34m\u001b[0m\u001b[0;34m\u001b[0m\u001b[0m\n\u001b[1;32m    200\u001b[0m             self._do_init(\n",
            "\u001b[0;32m/usr/local/lib/python3.10/dist-packages/pyspark/context.py\u001b[0m in \u001b[0;36m_ensure_initialized\u001b[0;34m(cls, instance, gateway, conf)\u001b[0m\n\u001b[1;32m    443\u001b[0m \u001b[0;34m\u001b[0m\u001b[0m\n\u001b[1;32m    444\u001b[0m                     \u001b[0;31m# Raise error if there is already a running Spark context\u001b[0m\u001b[0;34m\u001b[0m\u001b[0;34m\u001b[0m\u001b[0m\n\u001b[0;32m--> 445\u001b[0;31m                     raise ValueError(\n\u001b[0m\u001b[1;32m    446\u001b[0m                         \u001b[0;34m\"Cannot run multiple SparkContexts at once; \"\u001b[0m\u001b[0;34m\u001b[0m\u001b[0;34m\u001b[0m\u001b[0m\n\u001b[1;32m    447\u001b[0m                         \u001b[0;34m\"existing SparkContext(app=%s, master=%s)\"\u001b[0m\u001b[0;34m\u001b[0m\u001b[0;34m\u001b[0m\u001b[0m\n",
            "\u001b[0;31mValueError\u001b[0m: Cannot run multiple SparkContexts at once; existing SparkContext(app=Lab 13, master=local[*]) created by __init__ at <ipython-input-2-814fdb46cb0d>:3 "
          ]
        }
      ]
    },
    {
      "cell_type": "code",
      "source": [
        "from pyspark.sql import SparkSession\n",
        "spark = SparkSession.builder.appName(\"MoviesDataAnalysis\").getOrCreate()\n",
        "movies_df = spark.read.format(\"csv\").option(\"header\", \"true\").load(\"Movies.csv\")"
      ],
      "metadata": {
        "id": "sBX_BrNObuN4"
      },
      "execution_count": 25,
      "outputs": []
    },
    {
      "cell_type": "code",
      "source": [
        "from pyspark.sql.functions import col\n",
        "action_award_movies = movies_df.select(\"title\", \"year\", \"director\") \\\n",
        "    .where((col(\"Genre\") == \"Action\") & (col(\"Awards\") == \"Yes\"))\n",
        "action_award_movies.show()"
      ],
      "metadata": {
        "colab": {
          "base_uri": "https://localhost:8080/"
        },
        "id": "dVAVzUA5cDQr",
        "outputId": "ee23d62a-b2ba-400c-ecb6-6ef18d16a16a"
      },
      "execution_count": 26,
      "outputs": [
        {
          "output_type": "stream",
          "name": "stdout",
          "text": [
            "+-----+----+--------+\n",
            "|title|year|director|\n",
            "+-----+----+--------+\n",
            "+-----+----+--------+\n",
            "\n"
          ]
        }
      ]
    },
    {
      "cell_type": "code",
      "source": [
        "from pyspark.sql.functions import col, collect_list\n",
        "actor_movies = movies_df.select(\"Actor\", \"Title\", \"Director\") \\\n",
        "    .where(col(\"Awards\") == True) \\\n",
        "    .groupBy(\"Actor\") \\\n",
        "    .agg(collect_list(\"Title\").alias(\"Movies\"), collect_list(\"Director\").alias(\"directors\"))\n",
        "actor_movies.show()"
      ],
      "metadata": {
        "colab": {
          "base_uri": "https://localhost:8080/"
        },
        "id": "FD3PzUQ5dhnZ",
        "outputId": "1d6ca7a2-143e-4eca-d1d7-26f4e2979a0a"
      },
      "execution_count": 27,
      "outputs": [
        {
          "output_type": "stream",
          "name": "stdout",
          "text": [
            "+-----------------+--------------------+--------------------+\n",
            "|            Actor|              Movies|           directors|\n",
            "+-----------------+--------------------+--------------------+\n",
            "|     LintDerek De|        [AssaultThe]|    [RademakersFons]|\n",
            "|    LancasterBurt|[Airport, Come Ba...|[SeatonGeorge, Ma...|\n",
            "|      BridgesBeau|         [Norma Rae]|        [RittMartin]|\n",
            "|  CapolicchioLino|[Garden of the Fi...|   [De SicaVittorio]|\n",
            "|         LoneJohn|   [Last EmperorThe]|[BertolucciBernardo]|\n",
            "|      IronsJeremy|[Reversal of Fort...|   [SchroederBarbet]|\n",
            "|AumontJean-Pierre|     [Day for Night]|  [TruffautFrançois]|\n",
            "|         HarrisEd|[Places in the He...|      [BentonRobert]|\n",
            "|      ConnerySean|   [UntouchablesThe]|     [De PalmaBrian]|\n",
            "|      HarrisonRex|      [My Fair Lady]|       [CukorGeorge]|\n",
            "|       HudsonRock|             [Giant]|     [StevensGeorge]|\n",
            "|     TracySpencer|[Judgment at Nure...|[KramerStanley, K...|\n",
            "|  StrouseNocholas|[Doin' Time on Pl...|    [MatthauCharles]|\n",
            "|    BeymerRichard|   [West Side Story]|        [WiseRobert]|\n",
            "|       KlineKevin|   [Sophie's Choice]|     [PakulaAlan J.]|\n",
            "|         GreyJoel|           [Cabaret]|          [FosseBob]|\n",
            "|      AielloDanny|[Purple Rose of C...|        [AllenWoody]|\n",
            "|BelmondoJean-Paul|         [Two Women]|   [De SicaVittorio]|\n",
            "|      MooreDudley|            [Arthur]|       [GordonSteve]|\n",
            "|   RobertsonCliff|            [Charly]|       [NelsonRalph]|\n",
            "+-----------------+--------------------+--------------------+\n",
            "only showing top 20 rows\n",
            "\n"
          ]
        }
      ]
    },
    {
      "cell_type": "code",
      "source": [
        "least_popular_movies = movies_df.select(\"Title\", \"Year\", \"Popularity\") \\\n",
        "    .where(col(\"Year\") < 1980) \\\n",
        "    .orderBy(\"Popularity\") \\\n",
        "    .limit(10)\n",
        "least_popular_movies.show()"
      ],
      "metadata": {
        "colab": {
          "base_uri": "https://localhost:8080/"
        },
        "id": "7HIUxVrfd8Ih",
        "outputId": "8512f184-c914-475a-cb7e-b68eec7f8280"
      },
      "execution_count": 31,
      "outputs": [
        {
          "output_type": "stream",
          "name": "stdout",
          "text": [
            "+------------------+----+----------+\n",
            "|             Title|Year|Popularity|\n",
            "+------------------+----+----------+\n",
            "|   White Lightning|1953|      null|\n",
            "|      Desert Rider|1923|      null|\n",
            "|      Drop KickThe|1927|      null|\n",
            "| Bank on the Stars|1954|      null|\n",
            "|Shout at the Devil|1976|         0|\n",
            "|           Shalako|1968|         0|\n",
            "|     Anna Christie|1930|         0|\n",
            "|           Airport|1970|         0|\n",
            "| Tales of Tomorrow|1953|         0|\n",
            "|          Stavisky|1974|         1|\n",
            "+------------------+----+----------+\n",
            "\n"
          ]
        }
      ]
    },
    {
      "cell_type": "code",
      "source": [
        "df_sorted = movies_df.filter(movies_df.Year < 1990).orderBy(\"Title\")\n",
        "df_sorted.show()"
      ],
      "metadata": {
        "colab": {
          "base_uri": "https://localhost:8080/"
        },
        "id": "sr-cOQkSe_lC",
        "outputId": "a8edd5d3-ba1b-41d5-8a55-14d84b9c4b54"
      },
      "execution_count": 32,
      "outputs": [
        {
          "output_type": "stream",
          "name": "stdout",
          "text": [
            "+----+------+--------------------+---------------+--------------------+-----------------+-------------------+----------+------+-------------------+\n",
            "|Year|Length|               Title|          Genre|               Actor|          Actress|           Director|Popularity|Awards|              Image|\n",
            "+----+------+--------------------+---------------+--------------------+-----------------+-------------------+----------+------+-------------------+\n",
            "|1968|   139|2001: A Space Ody...|Science Fiction|          DulleaKeir|   TyzackMargaret|     KubrickStanley|        83|    No|   NicholasCage.png|\n",
            "|1982|    92|             48 Hrs.|         Action|           NolteNick|   O'TooleAnnette|         HillWalter|        67|    No|   NicholasCage.png|\n",
            "|1963|   138|               8 1/2|          Drama| MastroianniMarcello| CardinaleClaudia|    FelliniFederico|        80|   Yes|   NicholasCage.png|\n",
            "|1966|    95|A Big Hand for th...|         Comedy|          FondaHenry|   WoodwardJoanne|        CookFielder|        12|    No|   NicholasCage.png|\n",
            "|1962|   105|  A Child Is Waiting|          Drama|       LancasterBurt|      GarlandJudy|     CassavetesJohn|        60|    No|  burtLancaster.png|\n",
            "|1985|   118|A Chorus LineThe ...|          Music|      DouglasMichael|    LandersAudrey|AttenboroughRichard|        71|    No|   NicholasCage.png|\n",
            "|1971|   138|  A Clockwork Orange|Science Fiction|     McDowellMalcolm|             null|     KubrickStanley|        83|   Yes|   NicholasCage.png|\n",
            "|1967|   100|A Coeur Joie(Head...|         Action|     TerzieffLaurent|   BardotBrigitte|   BourguignonSerge|        54|    No| brigitteBardot.png|\n",
            "|1988|   122|   A Cry in the Dark|          Drama|            NeillSam|      StreepMeryl|       SchepisiFred|        67|    No|    merylStreep.png|\n",
            "|1989|    97|  A Dry White Season|          Drama|    SutherlandDonald|    SarandonSusan|        PalcyEuzhan|        71|    No|   NicholasCage.png|\n",
            "|1966|   104|      A Fine Madness|         Comedy|         ConnerySean|   WoodwardJoanne|      KershnerIrvin|         6|    No|    seanConnery.png|\n",
            "|1988|   108| A Fish Called Wanda|         Comedy|          CleeseJohn|  CurtisJamie Lee|    CrichtonCharles|         7|   Yes|   NicholasCage.png|\n",
            "|1964|   102|A Fistful of Dollars|       Westerns|       EastwoodClint|VolonteGian Maria|        LeoneSergio|        61|    No|  clintEastwood.png|\n",
            "|1943|  null|     A Guy Named Joe|          Drama|        TracySpencer|       DunneIrene|      FlemingVictor|        42|    No|   spencerTracy.png|\n",
            "|1954|    96|    A Lesson in Love|         Comedy|   BjörnstrandGunnar|      DahlbeckEva|      BergmanIngmar|        48|    No|        Bergman.png|\n",
            "|1977|   110|A Little Night Music|          Music|           CariouLen|  TaylorElizabeth|       PrinceHarold|        61|    No|elizabethTaylor.png|\n",
            "|1966|   103|     A Man & a Woman|          Drama|TrintignantJean-L...|       AimeeAnouk|      LelouchClaude|        46|   Yes|   NicholasCage.png|\n",
            "|1986|   112|A Man & a Woman: ...|          Drama|TrintignantJean-L...|       AimeeAnouk|      LelouchClaude|        49|    No|   NicholasCage.png|\n",
            "|1966|   120|A Man for All Sea...|          Drama|          ShawRobert|      HillerWendy|      ZinnemannFred|        20|   Yes|   NicholasCage.png|\n",
            "|1976|    97|    A Matter of Time|          Drama|        BoyerCharles|     MinnelliLiza|   MinnelliVincente|        70|    No|   NicholasCage.png|\n",
            "+----+------+--------------------+---------------+--------------------+-----------------+-------------------+----------+------+-------------------+\n",
            "only showing top 20 rows\n",
            "\n"
          ]
        }
      ]
    }
  ]
}