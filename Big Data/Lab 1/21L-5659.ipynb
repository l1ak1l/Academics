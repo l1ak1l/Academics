{
  "nbformat": 4,
  "nbformat_minor": 0,
  "metadata": {
    "colab": {
      "provenance": []
    },
    "kernelspec": {
      "name": "python3",
      "display_name": "Python 3"
    },
    "language_info": {
      "name": "python"
    }
  },
  "cells": [
    {
      "cell_type": "markdown",
      "source": [
        "# ***Part 1***"
      ],
      "metadata": {
        "id": "eKmdyMqlZRwD"
      }
    },
    {
      "cell_type": "markdown",
      "source": [
        "**9.1**"
      ],
      "metadata": {
        "id": "BbTHJSpkK7U8"
      }
    },
    {
      "cell_type": "code",
      "execution_count": null,
      "metadata": {
        "id": "d-fL8YqmIpBG"
      },
      "outputs": [],
      "source": [
        "def reverse(s):\n",
        "  str = s [::-1]\n",
        "  return str\n",
        "  \n",
        "str = input(\"Please enter your string : \") \n",
        "str = reverse(str)\n",
        "print(str)"
      ]
    },
    {
      "cell_type": "markdown",
      "source": [
        "**9.2**"
      ],
      "metadata": {
        "id": "yuC9O3uzVYz8"
      }
    },
    {
      "cell_type": "code",
      "source": [
        "def palindrome(s):\n",
        "  if (s==s[::-1]): print(\"true\")\n",
        "  else: print(\"false\")\n",
        "\n",
        "str = \"A man, a plan, a canal : Panama\"\n",
        "\n",
        "#replacing the unnecessary punctutations from the string\n",
        "str = str.replace(\",\",\"\")\n",
        "str = str.replace(\".\",\"\")\n",
        "str = str.replace(\" \",\"\")\n",
        "str = str.replace(\":\",\"\")\n",
        "\n",
        "#lowering all the alphabets to lower case \n",
        "str = str.lower()\n",
        "\n",
        "palindrome(str)"
      ],
      "metadata": {
        "colab": {
          "base_uri": "https://localhost:8080/"
        },
        "id": "MP-aRwFEVaTd",
        "outputId": "cc7e4609-4c7a-4f89-8729-762550c16854"
      },
      "execution_count": 56,
      "outputs": [
        {
          "output_type": "stream",
          "name": "stdout",
          "text": [
            "true\n"
          ]
        }
      ]
    },
    {
      "cell_type": "markdown",
      "source": [
        "**9.3**"
      ],
      "metadata": {
        "id": "0VB9tJ74azUF"
      }
    },
    {
      "cell_type": "code",
      "source": [
        "def sqrt(num):\n",
        "  sqroot = num**(1/2)\n",
        "  return int(sqroot) \n",
        "\n",
        "num = int(input(\"Please enter your number : \"))\n",
        "sqroot = sqrt(num)\n",
        "print(sqroot)"
      ],
      "metadata": {
        "colab": {
          "base_uri": "https://localhost:8080/"
        },
        "id": "DMrYY3v-a1Mk",
        "outputId": "4dd9de0a-3095-41b1-f496-1bc6687b2f61"
      },
      "execution_count": 28,
      "outputs": [
        {
          "output_type": "stream",
          "name": "stdout",
          "text": [
            "Please enter your number : 16\n",
            "4\n"
          ]
        }
      ]
    },
    {
      "cell_type": "markdown",
      "source": [
        "\n",
        "\n",
        "---\n",
        "\n"
      ],
      "metadata": {
        "id": "UBHsx_maZBE9"
      }
    },
    {
      "cell_type": "markdown",
      "source": [
        "\n",
        "\n",
        "---\n",
        "\n"
      ],
      "metadata": {
        "id": "Lutsr6ghZGjE"
      }
    },
    {
      "cell_type": "markdown",
      "source": [
        "\n",
        "\n",
        "---\n",
        "\n"
      ],
      "metadata": {
        "id": "Kyd9RgpEZFAm"
      }
    },
    {
      "cell_type": "markdown",
      "source": [
        "# ***Part 2***"
      ],
      "metadata": {
        "id": "--XAZkGEZJSK"
      }
    },
    {
      "cell_type": "markdown",
      "source": [
        "**Task 1**"
      ],
      "metadata": {
        "id": "ybPPMv0aS0Fn"
      }
    },
    {
      "cell_type": "code",
      "source": [
        "def choice(x):\n",
        "  if(x==1):\n",
        "    print(\"   *   \")\n",
        "    print(\"  * *  \")\n",
        "    print(\" *   * \")\n",
        "  elif(x==2):\n",
        "    print(\"******\")\n",
        "    print(\"*     \")\n",
        "    print(\"*     \")\n",
        "    print(\"******\")\n",
        "  else:\n",
        "    print(\"Invalid input\")\n",
        "\n",
        "\n",
        "print(\"What would you like to print ? \")\n",
        "print(\"Press 1 for triangle or 2 for rectangle : \")\n",
        "x=int(input())\n",
        "choice(x)"
      ],
      "metadata": {
        "colab": {
          "base_uri": "https://localhost:8080/"
        },
        "id": "WA4T1VNCS1vf",
        "outputId": "99fd1371-8d4f-4318-f6e5-3fff98d240e4"
      },
      "execution_count": 78,
      "outputs": [
        {
          "output_type": "stream",
          "name": "stdout",
          "text": [
            "What would you like to print ? \n",
            "Press 1 for triangle or 2 for rectangle : \n",
            "1\n",
            "   *   \n",
            "  * *  \n",
            " *   * \n"
          ]
        }
      ]
    },
    {
      "cell_type": "markdown",
      "source": [
        "**Task 2**"
      ],
      "metadata": {
        "id": "-SdLFu83bj5P"
      }
    },
    {
      "cell_type": "code",
      "source": [
        "# A) Create a dictionary and apply the following methods\n",
        "\n",
        "capital_city = {\"Pakistan\" : \"Lahore\" , \"Nepal\" : \"Kathmandu\" , \"Italy\" : \"Rome\" , \"England\" : \"London\" , \"USA\" : \"Washington DC\" }\n",
        "\n",
        "# 1) Printing the dictionary items \n",
        "#print(capital_city)\n",
        "\n",
        "# 2) access items - Printing 1 element from the dictionary\n",
        "print(capital_city[\"Pakistan\"])\n",
        "\n",
        "# 3) use get()\n",
        "\n",
        "# 4) change values\n",
        "capital_city[\"Italy\"] =\"Venice\" \n",
        "print(capital_city[\"Italy\"])\n",
        "\n",
        "# 5) use len()\n",
        "n=len(capital_city)\n",
        "print(n)\n",
        "\n",
        "\n",
        "\n",
        "# B) Create a tuple and perform the following methods\n",
        "\n",
        "# 1) Add items\n",
        "school_tuple = (1,'Saad Asghar','Lahore',3094119419)\n",
        "print(school_tuple)\n",
        "\n",
        "# 2) len()\n",
        "n=len(school_tuple)\n",
        "print(n)\n",
        "\n",
        "# 3) Check for item in tuple\n",
        "print(school_tuple[1])\n",
        "\n",
        "# 4) Access items\n",
        "print(school_tuple[2])\n",
        "print(school_tuple[3])"
      ],
      "metadata": {
        "colab": {
          "base_uri": "https://localhost:8080/"
        },
        "id": "rIRIMEHZWPi2",
        "outputId": "e6a48626-8689-473f-cd6e-01e89f9c4075"
      },
      "execution_count": 96,
      "outputs": [
        {
          "output_type": "stream",
          "name": "stdout",
          "text": [
            "Lahore\n",
            "Venice\n",
            "5\n",
            "(1, 'Saad Asghar', 'Lahore', 3094119419)\n",
            "4\n",
            "Saad Asghar\n",
            "Lahore\n",
            "3094119419\n"
          ]
        }
      ]
    },
    {
      "cell_type": "markdown",
      "source": [
        "**Task 3**"
      ],
      "metadata": {
        "id": "DrDVSoNPi9VZ"
      }
    },
    {
      "cell_type": "code",
      "source": [
        "pie = 3.141592653589793238\n",
        "r=int(input(\"Please enter the radius : \"))\n",
        "h=int(input(\"Please enter the height : \"))\n",
        "\n",
        "vol = float(r*r*h*pie)  \n",
        "\n",
        "print(vol)"
      ],
      "metadata": {
        "colab": {
          "base_uri": "https://localhost:8080/"
        },
        "id": "aP_QXIuai-3O",
        "outputId": "8f42af35-a198-4667-ae93-5e43487f5562"
      },
      "execution_count": 112,
      "outputs": [
        {
          "output_type": "stream",
          "name": "stdout",
          "text": [
            "Please enter the radius : 3\n",
            "Please enter the height : 3\n",
            "84.82300164692441\n"
          ]
        }
      ]
    },
    {
      "cell_type": "markdown",
      "source": [
        "**Task 4**"
      ],
      "metadata": {
        "id": "m-vx3I1G1Gdu"
      }
    },
    {
      "cell_type": "code",
      "source": [
        "def add(c1,c2):\n",
        "  print(\"The sum of the two numbers is : \" , c1+c2)\n",
        "\n",
        "def sub(c1,c2):\n",
        "  print(\"The difference of the two numbers is : \" , c1-c2)\n",
        "\n",
        "def mult(c1,c2):\n",
        "  print(\"The product of the two numbers is : \" , c1*c2)\n",
        "\n",
        "def div(c1,c2):\n",
        "  print(\"The division of the two numbers is : \" , c1/c2) \n",
        "\n",
        "print(\"Please enter the values \")\n",
        "v1=int(input())\n",
        "v2=int(input())\n",
        "print(\"Please enter the function you would like to perform : \")\n",
        "print(\"1 - Addition\")\n",
        "print(\"2 - Subtraction\")\n",
        "print(\"3 - Multiplication\")\n",
        "print(\"4 - Division\")\n",
        "\n",
        "x=int(input())\n",
        "if x==1:\n",
        "  add(v1,v2)\n",
        "if x==2:\n",
        "  sub(v1,v1)\n",
        "if x==3: \n",
        "  mult(v1,v2)\n",
        "if x==4:\n",
        "  div(v1,v2)  \n",
        "else:\n",
        "  print(\"Invalid Input\")\n",
        "\n"
      ],
      "metadata": {
        "colab": {
          "base_uri": "https://localhost:8080/"
        },
        "id": "yPnclF6g1IYN",
        "outputId": "fb2e0073-e52f-4fb2-bae7-e6ce383f1259"
      },
      "execution_count": 118,
      "outputs": [
        {
          "output_type": "stream",
          "name": "stdout",
          "text": [
            "Please enter the values \n",
            "69\n",
            "3\n",
            "Please enter the function you would like to perform : \n",
            "1 - Addition\n",
            "2 - Subtraction\n",
            "3 - Multiplication\n",
            "4 - Division\n",
            "4\n",
            "The division of the two numbers is :  23.0\n"
          ]
        }
      ]
    },
    {
      "cell_type": "markdown",
      "source": [
        "**Task 5**"
      ],
      "metadata": {
        "id": "zlPnfn9b9zK2"
      }
    },
    {
      "cell_type": "code",
      "source": [
        "def palindrome(s):\n",
        "  if (s==s[::-1]): print(\"true\")\n",
        "  else: print(\"false\")\n",
        "\n",
        "str = \"dabbad\"\n",
        "palindrome(str)"
      ],
      "metadata": {
        "colab": {
          "base_uri": "https://localhost:8080/"
        },
        "id": "29GcYd6j90tt",
        "outputId": "93ccf88a-cfd5-4917-beaa-ba1a4c34cd86"
      },
      "execution_count": 121,
      "outputs": [
        {
          "output_type": "stream",
          "name": "stdout",
          "text": [
            "true\n"
          ]
        }
      ]
    },
    {
      "cell_type": "markdown",
      "source": [
        "**Task 6**"
      ],
      "metadata": {
        "id": "Ic_9V-gf-JGF"
      }
    },
    {
      "cell_type": "code",
      "source": [
        "x=int(input(\"Please enter a number to find it's factorial : \"))\n",
        "fact=1\n",
        "for i in range(1,x+1):\n",
        "  fact = fact*i\n",
        "print(\"The Factorial is : \" , fact )"
      ],
      "metadata": {
        "colab": {
          "base_uri": "https://localhost:8080/"
        },
        "id": "ny10fEhb-KnU",
        "outputId": "dda3264f-f6f5-40f6-f015-39210570a4d1"
      },
      "execution_count": 129,
      "outputs": [
        {
          "output_type": "stream",
          "name": "stdout",
          "text": [
            "Please enter a number to find it's factorial : 1\n",
            "The Factorial is :  1\n"
          ]
        }
      ]
    },
    {
      "cell_type": "markdown",
      "source": [
        "**Task 7**"
      ],
      "metadata": {
        "id": "q6n1v_A6_n6U"
      }
    },
    {
      "cell_type": "code",
      "source": [
        "def check(list1,list2):\n",
        "  flag = bool(1)\n",
        "  x=int(len(list1))\n",
        "  for i in range(0,x):\n",
        "    print(list1[i], \" \" , list2[i])\n",
        "    if(list1[i]!=list2[i]):\n",
        "      flag=0\n",
        "  return flag    \n",
        "\n",
        "\n",
        "\n",
        "list1 = [1,2,3,4,5]\n",
        "list2 = [1,2,3,4,5]\n",
        "if check(list1,list2):\n",
        "  print(\"True\")\n",
        "else:\n",
        "  print(\"False\")\n"
      ],
      "metadata": {
        "colab": {
          "base_uri": "https://localhost:8080/"
        },
        "id": "_t-PpB46_qhC",
        "outputId": "dd475932-28e6-4953-8ec3-812563717bce"
      },
      "execution_count": 137,
      "outputs": [
        {
          "output_type": "stream",
          "name": "stdout",
          "text": [
            "1   1\n",
            "2   2\n",
            "3   3\n",
            "2   4\n",
            "5   5\n",
            "False\n"
          ]
        }
      ]
    }
  ]
}