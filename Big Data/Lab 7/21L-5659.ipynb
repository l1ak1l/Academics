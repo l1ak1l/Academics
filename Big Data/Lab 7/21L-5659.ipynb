{
  "nbformat": 4,
  "nbformat_minor": 0,
  "metadata": {
    "colab": {
      "provenance": []
    },
    "kernelspec": {
      "name": "python3",
      "display_name": "Python 3"
    },
    "language_info": {
      "name": "python"
    }
  },
  "cells": [
    {
      "cell_type": "markdown",
      "source": [
        "**1 & 2**"
      ],
      "metadata": {
        "id": "SQK1oBnOl_Rl"
      }
    },
    {
      "cell_type": "code",
      "source": [
        "pip install mrjob"
      ],
      "metadata": {
        "id": "kjQ9FaoWkmZt"
      },
      "execution_count": null,
      "outputs": []
    },
    {
      "cell_type": "code",
      "execution_count": null,
      "metadata": {
        "id": "Z8Xx0mXBbCwS"
      },
      "outputs": [],
      "source": [
        "from google.colab import files\n",
        "uploaded = files.upload()"
      ]
    },
    {
      "cell_type": "markdown",
      "source": [
        "**3**"
      ],
      "metadata": {
        "id": "iEsP_MeamBbY"
      }
    },
    {
      "cell_type": "code",
      "source": [
        "%%file wordcount.py\n",
        "from mrjob.job import MRJob\n",
        "class Count(MRJob):\n",
        "    def mapper(self, _, line):\n",
        "        for word in line.split():\n",
        "            yield(word, 1)\n",
        "    def reducer(self, word, counts):\n",
        "        yield(word, sum(counts))\n",
        "    \n",
        "if __name__ == '__main__':\n",
        "    Count.run()"
      ],
      "metadata": {
        "id": "7l9tJBCZS_rA"
      },
      "execution_count": null,
      "outputs": []
    },
    {
      "cell_type": "code",
      "source": [
        "! python wordcount.py textfile.txt"
      ],
      "metadata": {
        "id": "vOSN-_G-TEzd"
      },
      "execution_count": null,
      "outputs": []
    },
    {
      "cell_type": "markdown",
      "source": [
        "**4**"
      ],
      "metadata": {
        "id": "M_jTSBQMmJMh"
      }
    },
    {
      "cell_type": "code",
      "source": [
        "%%file First_alphabet.py \n",
        "from mrjob.job import MRJob\n",
        "class FirstAlpha(MRJob):\n",
        "    def mapper(self, _, line):\n",
        "        for word in line.split():\n",
        "            yield word[0], 1\n",
        "    def reducer(self, letter, counts):\n",
        "        yield letter, sum(counts)\n",
        "\n",
        "if __name__ == '__main__':\n",
        "    FirstAlpha.run()"
      ],
      "metadata": {
        "id": "BArQp9PjlAG4"
      },
      "execution_count": null,
      "outputs": []
    },
    {
      "cell_type": "code",
      "source": [
        "! python First_alphabet.py textfile.txt"
      ],
      "metadata": {
        "id": "rRwwjPxVltOm"
      },
      "execution_count": null,
      "outputs": []
    },
    {
      "cell_type": "markdown",
      "source": [
        "**5**"
      ],
      "metadata": {
        "id": "DqLBP6zsmKts"
      }
    },
    {
      "cell_type": "code",
      "source": [
        "%%file wlen5.py \n",
        "from mrjob.job import MRJob\n",
        "class WordLen(MRJob):\n",
        "    def mapper(self, _, line):\n",
        "        for word in line.split():\n",
        "            yield word.lower(), 1\n",
        "    def reducer(self, word, counts):\n",
        "        if len(word) == 5:\n",
        "            yield word, None\n",
        "\n",
        "if __name__ == '__main__':\n",
        "    WordLen.run()"
      ],
      "metadata": {
        "id": "2Knie2NlmL8E"
      },
      "execution_count": null,
      "outputs": []
    },
    {
      "cell_type": "code",
      "source": [
        "! python wlen5.py textfile.txt"
      ],
      "metadata": {
        "id": "MKP1GPGTmNsD"
      },
      "execution_count": null,
      "outputs": []
    }
  ]
}