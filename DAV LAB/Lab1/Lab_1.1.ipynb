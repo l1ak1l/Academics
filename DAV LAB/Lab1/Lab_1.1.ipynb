{
  "cells": [
    {
      "cell_type": "markdown",
      "source": [
        "# <center> DS3001 - Data Analysis & Visualization - Lab Manual - 1.1 </center>"
      ],
      "metadata": {
        "id": "TtN-gspSKRA_"
      }
    },
    {
      "cell_type": "markdown",
      "source": [
        "## Q1: Verbing"
      ],
      "metadata": {
        "id": "oErPOITtRlLb"
      }
    },
    {
      "cell_type": "code",
      "execution_count": 38,
      "metadata": {
        "id": "mZ2V-vy4KX1c"
      },
      "outputs": [],
      "source": [
        "def verbing(s):\n",
        "  sz=len(s)\n",
        "  if (sz >= 3) :\n",
        "    if(s.endswith(\"ing\")):\n",
        "      s=s+\"ly\"\n",
        "    else:\n",
        "      s = s + \"ing\"\n",
        "\n",
        "  return s"
      ]
    },
    {
      "cell_type": "markdown",
      "source": [
        "## Q2: Not Bad"
      ],
      "metadata": {
        "id": "fJJlYbQxRyJs"
      }
    },
    {
      "cell_type": "code",
      "execution_count": 35,
      "metadata": {
        "id": "6XLBuJ7qKVc_"
      },
      "outputs": [],
      "source": [
        "def not_bad(s):\n",
        "  x_not = s.find('not')\n",
        "  x_bad = s.find('bad')\n",
        "\n",
        "  if((x_not != -1)and(x_bad != -1)and(x_bad > x_not)):\n",
        "        s = s[:x_not] + 'good' + s[x_bad+3:]\n",
        "\n",
        "\n",
        "  return s"
      ]
    },
    {
      "cell_type": "markdown",
      "source": [
        "## Q3: Front Back"
      ],
      "metadata": {
        "id": "eAyDR6A0R4BS"
      }
    },
    {
      "cell_type": "code",
      "execution_count": 32,
      "metadata": {
        "id": "rHM9y9yjKU8j"
      },
      "outputs": [],
      "source": [
        "def front_back(a, b):\n",
        "\n",
        " a_mid = (len(a) + 1) // 2\n",
        " b_mid = (len(b) + 1) // 2\n",
        "\n",
        " a_front = a[:a_mid]\n",
        " a_back = a[a_mid:]\n",
        "\n",
        " b_front = b[:b_mid]\n",
        " b_back = b[b_mid:]\n",
        "\n",
        " return a_front + b_front + a_back + b_back"
      ]
    },
    {
      "cell_type": "markdown",
      "source": [
        "## Q4: Remove Ajacent"
      ],
      "metadata": {
        "id": "fbA11FbqR9GZ"
      }
    },
    {
      "cell_type": "code",
      "execution_count": 29,
      "metadata": {
        "id": "VVexaC52JXNg"
      },
      "outputs": [],
      "source": [
        "def remove_adjacent(nums):\n",
        " res = []\n",
        " for num in nums:\n",
        "   if len(res) == 0 or num != res[-1]:\n",
        "            res.append(num)\n",
        "\n",
        " return res\n",
        "\n"
      ]
    },
    {
      "cell_type": "markdown",
      "source": [
        "## Q5: Linear Merge"
      ],
      "metadata": {
        "id": "8DyW_ILdSBeR"
      }
    },
    {
      "cell_type": "code",
      "execution_count": 41,
      "metadata": {
        "id": "wSeuLqs4JOZk"
      },
      "outputs": [],
      "source": [
        "def linear_merge(list1, list2):\n",
        "    merged = []\n",
        "    i = 0\n",
        "    j = 0\n",
        "\n",
        "    while ( (i < len(list1)) and (j < len(list2)) ):\n",
        "        if (list1[i] < list2[j]):\n",
        "            merged.append(list1[i])\n",
        "            i += 1\n",
        "        else:\n",
        "            merged.append(list2[j])\n",
        "            j += 1\n",
        "\n",
        "    merged.extend(list1[i:])\n",
        "    merged.extend(list2[j:])\n",
        "\n",
        "    return merged"
      ]
    },
    {
      "cell_type": "markdown",
      "source": [
        "## Main Function"
      ],
      "metadata": {
        "id": "BUpzDi3dSINo"
      }
    },
    {
      "cell_type": "code",
      "execution_count": 42,
      "metadata": {
        "id": "4zwDRf_CH3-O"
      },
      "outputs": [],
      "source": [
        "def main():\n",
        "  print('verbing')\n",
        "  print('Actual: %s \\t Expected: %s' % (verbing('hail'), 'hailing'))\n",
        "  print('Actual: %s \\t Expected: %s' % (verbing('swiming'), 'swimingly'))\n",
        "  print('Actual: %s \\t\\t Expected: %s' % (verbing('do'), 'do'))\n",
        "\n",
        "  print(\"\\n\")\n",
        "  print('not_bad')\n",
        "  print('Actual: %s \\t\\t Expected: %s' % (not_bad('This movie is not so bad'), 'This movie is good'))\n",
        "  print('Actual: %s \\t\\t Expected: %s' % (not_bad('This dinner is not that bad!'), 'This dinner is good!'))\n",
        "  print('Actual: %s \\t\\t Expected: %s' % (not_bad('This tea is not hot'), 'This tea is not hot'))\n",
        "  print('Actual: %s \\t\\t Expected: %s' % (not_bad(\"It's bad yet not\"), \"It's bad yet not\"))\n",
        "\n",
        "  print(\"\\n\")\n",
        "  print('front_back')\n",
        "  print('Actual: %s \\t\\t\\t Expected: %s' % (front_back('abcd', 'xy'), 'abxcdy'))\n",
        "  print('Actual: %s \\t\\t Expected: %s' % (front_back('abcde', 'xyz'), 'abcxydez'))\n",
        "  print('Actual: %s \\t\\t Expected: %s' % (front_back('Kitten', 'Donut'), 'KitDontenut'))\n",
        "\n",
        "  print(\"\\n\")\n",
        "  print('remove_adjacent')\n",
        "  print('Actual: %s \\t Expected: %s' % (remove_adjacent([1, 2, 2, 3]), [1, 2, 3]))\n",
        "  print('Actual: %s \\t\\t Expected: %s' % (remove_adjacent([2, 2, 3, 3, 3]), [2, 3]))\n",
        "  print('Actual: %s \\t\\t Expected: %s' % (remove_adjacent([]), []))\n",
        "\n",
        "\n",
        "  print(\"\\n\")\n",
        "  print('linear_merge')\n",
        "  print('Actual: %s \\t\\t Expected: %s' % (linear_merge(['aa', 'xx', 'zz'], ['bb', 'cc']),\n",
        "       ['aa', 'bb', 'cc', 'xx', 'zz']))\n",
        "  print('Actual: %s \\t\\t Expected: %s' % (linear_merge(['aa', 'xx'], ['bb', 'cc', 'zz']),\n",
        "       ['aa', 'bb', 'cc', 'xx', 'zz']))\n",
        "  print('Actual: %s \\t\\t Expected: %s' % (linear_merge(['aa', 'aa'], ['aa', 'bb', 'bb']),\n",
        "       ['aa', 'aa', 'aa', 'bb', 'bb']))"
      ]
    },
    {
      "cell_type": "code",
      "execution_count": 43,
      "metadata": {
        "id": "IOHxSo9EHvWi",
        "outputId": "0dfd9efe-cc9a-465a-98bf-3243de1994ce",
        "colab": {
          "base_uri": "https://localhost:8080/"
        }
      },
      "outputs": [
        {
          "output_type": "stream",
          "name": "stdout",
          "text": [
            "verbing\n",
            "Actual: hailing \t Expected: hailing\n",
            "Actual: swimingly \t Expected: swimingly\n",
            "Actual: do \t\t Expected: do\n",
            "\n",
            "\n",
            "not_bad\n",
            "Actual: This movie is good \t\t Expected: This movie is good\n",
            "Actual: This dinner is good! \t\t Expected: This dinner is good!\n",
            "Actual: This tea is not hot \t\t Expected: This tea is not hot\n",
            "Actual: It's bad yet not \t\t Expected: It's bad yet not\n",
            "\n",
            "\n",
            "front_back\n",
            "Actual: abxcdy \t\t\t Expected: abxcdy\n",
            "Actual: abcxydez \t\t Expected: abcxydez\n",
            "Actual: KitDontenut \t\t Expected: KitDontenut\n",
            "\n",
            "\n",
            "remove_adjacent\n",
            "Actual: [1, 2, 3] \t Expected: [1, 2, 3]\n",
            "Actual: [2, 3] \t\t Expected: [2, 3]\n",
            "Actual: [] \t\t Expected: []\n",
            "\n",
            "\n",
            "linear_merge\n",
            "Actual: ['aa', 'bb', 'cc', 'xx', 'zz'] \t\t Expected: ['aa', 'bb', 'cc', 'xx', 'zz']\n",
            "Actual: ['aa', 'bb', 'cc', 'xx', 'zz'] \t\t Expected: ['aa', 'bb', 'cc', 'xx', 'zz']\n",
            "Actual: ['aa', 'aa', 'aa', 'bb', 'bb'] \t\t Expected: ['aa', 'aa', 'aa', 'bb', 'bb']\n"
          ]
        }
      ],
      "source": [
        "'''\n",
        "Python files .py are modules. Modules can define variables, functions, and classes.\n",
        "When a Python interpreter reads a Python file, it first sets a few special variables.\n",
        "Then it executes the code from the file.\n",
        "\n",
        "One of those variables is called __name__.\n",
        "\n",
        "When the interpreter runs a module, the __name__ variable will be set as  __main__\n",
        "if the module that is being run is the main program.\n",
        "\n",
        "If the code is importing the module from another module, then the __name__\n",
        "variable will be set to that module’s name.\n",
        "'''\n",
        "# Standard boilerplate to call the main() function.\n",
        "if __name__ == '__main__':\n",
        "  main()"
      ]
    }
  ],
  "metadata": {
    "colab": {
      "provenance": []
    },
    "kernelspec": {
      "name": "python3",
      "display_name": "Python 3"
    },
    "language_info": {
      "name": "python"
    }
  },
  "nbformat": 4,
  "nbformat_minor": 0
}