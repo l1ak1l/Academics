{
  "cells": [
    {
      "cell_type": "markdown",
      "source": [
        "# <center> DS3001 - Data Analysis & Visualization - Lab Manual - 01 </center>\n",
        "\n",
        "\n"
      ],
      "metadata": {
        "id": "YeHN-ypQS8Jm"
      }
    },
    {
      "cell_type": "markdown",
      "source": [
        "## Manual 1"
      ],
      "metadata": {
        "id": "_zq7C8kKSsMj"
      }
    },
    {
      "cell_type": "markdown",
      "source": [
        "# Q1\tPower function (3 Marks)\n",
        "Create a function that takes a base number (b) and an exponent number (e) and returns the b^e calculation, without using built-in power function. Call the function in the next cell and show some outputs."
      ],
      "metadata": {
        "id": "rFzFE4RrS2Ks"
      }
    },
    {
      "cell_type": "code",
      "execution_count": null,
      "metadata": {
        "id": "mZ2V-vy4KX1c",
        "outputId": "30f0861f-f27c-4872-9700-f83a1288eb73",
        "colab": {
          "base_uri": "https://localhost:8080/"
        }
      },
      "outputs": [
        {
          "output_type": "stream",
          "name": "stdout",
          "text": [
            "Please enter the base : 4\n",
            "Please enter the exponent : 4\n",
            "The result is :  256\n"
          ]
        }
      ],
      "source": [
        "def pwr(b,e):\n",
        "  res=b\n",
        "  x=e-1\n",
        "  for i in range(x):\n",
        "    res=res*b\n",
        "    x=x-1\n",
        "  print(\"The result is : \", res)\n",
        "\n",
        "#-----------------------------------------#\n",
        "\n",
        "b = int(input('Please enter the base : '))\n",
        "e = int(input('Please enter the exponent : '))\n",
        "\n",
        "pwr(b,e)"
      ]
    },
    {
      "cell_type": "markdown",
      "source": [
        "#9.2\tArray Manipulation (7 Marks)\n",
        "Write a function named \"subtotal\" takes as its arguments the following:\n",
        "(1)  an array of values;\n",
        "The function should replace the contents of each cell with the sum of the contents of all the cells in the original array from the left end to the cell in question.  Thus, for example, if the array passed to the function looks like\n",
        "this:\n",
        "\n",
        "   0     1     2     3     4\n",
        " 5.8 | 2.6 | 9.1 | 3.4 | 7.0  \n",
        "\n",
        "when the function returns, the array will have been changed so that it looks like this:\n",
        "  \n",
        " 0     1     2      3      4\n",
        " 5.8 | 8.4 | 17.5 | 20.9 | 27.9  "
      ],
      "metadata": {
        "id": "fJJlYbQxRyJs"
      }
    },
    {
      "cell_type": "code",
      "execution_count": null,
      "metadata": {
        "id": "6XLBuJ7qKVc_",
        "colab": {
          "base_uri": "https://localhost:8080/"
        },
        "outputId": "0c91b2a2-0d00-4831-f52e-f8f8a9178c2d"
      },
      "outputs": [
        {
          "output_type": "stream",
          "name": "stdout",
          "text": [
            "1\n",
            "3\n",
            "6\n",
            "10\n",
            "15\n",
            "21\n",
            "28\n",
            "36\n",
            "45\n",
            "55\n"
          ]
        }
      ],
      "source": [
        "def subtotal(a):\n",
        "    for x in range(0,len(a)):\n",
        "        sum = 0\n",
        "        for y in range(0,x+1):\n",
        "            sum += a[y]\n",
        "        print(sum)\n",
        "\n",
        "\n",
        "num_arr1 = [1,2,3,4,5,6,7,8,9,10]\n",
        "d = subtotal(num_arr1)"
      ]
    },
    {
      "cell_type": "markdown",
      "source": [
        "# 9.3\tCounter (7.5 Marks)\n",
        "Write a function “Counter” that receives a character array and calculates Total characters, uppercases, lowercases and spaces then return them all. (In this question, all characters except spaces are counted as letters).\n"
      ],
      "metadata": {
        "id": "eAyDR6A0R4BS"
      }
    },
    {
      "cell_type": "code",
      "execution_count": null,
      "metadata": {
        "id": "rHM9y9yjKU8j",
        "outputId": "32f1c9a0-8f31-4a19-ddf9-20fc3ebb1544",
        "colab": {
          "base_uri": "https://localhost:8080/"
        }
      },
      "outputs": [
        {
          "output_type": "stream",
          "name": "stdout",
          "text": [
            "Spaces : 3\n",
            "Uppercase letters : 2\n",
            "Lowercase letters: 10\n",
            "Total letters :  12\n"
          ]
        }
      ],
      "source": [
        "def counter(chr_arr_1):\n",
        "    arry1=list(chr_arr_1)\n",
        "    spc = 0\n",
        "    lwr = 0\n",
        "    upr = 0\n",
        "    total = 0\n",
        "\n",
        "    for x in arry1:\n",
        "        if(x==\" \"):\n",
        "            spc +=1\n",
        "        elif(x.islower()):\n",
        "            lwr +=1\n",
        "        elif(x.isupper()):\n",
        "            upr +=1\n",
        "\n",
        "    total = len(arry1)-spc\n",
        "\n",
        "    print(\"Spaces :\",spc)\n",
        "    print(\"Uppercase letters :\",upr)\n",
        "    print(\"Lowercase letters:\",lwr)\n",
        "    print(\"Total letters : \",total)\n",
        "\n",
        "\n",
        "\n",
        "\n",
        "chr_arr = \"My name is Zain\"\n",
        "counter(chr_arr)"
      ]
    },
    {
      "cell_type": "markdown",
      "source": [
        "# 9.4\tMedian (7.5 Marks)\n",
        "Write a function in python that receives an array and find the median.\n",
        "Input: 9, 7, 13, 12, 16\n",
        "Median is: 12\n"
      ],
      "metadata": {
        "id": "fbA11FbqR9GZ"
      }
    },
    {
      "cell_type": "code",
      "execution_count": 31,
      "metadata": {
        "id": "VVexaC52JXNg",
        "outputId": "e8d64da8-e332-4b51-f5e9-435fe5e4657d",
        "colab": {
          "base_uri": "https://localhost:8080/"
        }
      },
      "outputs": [
        {
          "output_type": "stream",
          "name": "stdout",
          "text": [
            "The Median is :  12\n"
          ]
        }
      ],
      "source": [
        "import numpy as np\n",
        "\n",
        "def median(arr_1,sz):\n",
        "\n",
        "# if the total number of elements is EVEN then we need to add 1 to the middle value\n",
        "  if(sz%2==0):\n",
        "    #print(\"Even\")\n",
        "    mid = int(sz/2)\n",
        "    mid_value_1 = arr_1[mid]\n",
        "    #print(\"The mid value : \" , mid)\n",
        "    #print(\"And it's value is : \" ,mid_value_1 )\n",
        "    mid-=1\n",
        "    mid_value_2 = arr_1[mid]\n",
        "    #print(\"The mid value : \" , mid)\n",
        "    #print(\"And it's value is : \" ,mid_value_2 )\n",
        "    mid_value = ( (mid_value_1 + mid_value_2) / 2 )\n",
        "    #print(\"The mid value is : \" , mid_value )\n",
        "    print(\"The Median is : \" , mid_value)\n",
        "\n",
        "# if the total number of elements is ODD then we select the middle value\n",
        "  else:\n",
        "    #print(\"Odd\")\n",
        "    mid = int(sz/2)\n",
        "    print(\"The Median is : \" ,arr_1[mid])\n",
        "\n",
        "\n",
        "# creating array\n",
        "arr1=np.array([9,7,12,13,16])\n",
        "# sorting array\n",
        "sorted_array = np.sort(arr1)\n",
        "# claculating total elements in the array\n",
        "size = len(sorted_array)\n",
        "#calling the median function\n",
        "median(sorted_array,size)"
      ]
    },
    {
      "cell_type": "markdown",
      "source": [
        "#---------------Submit Your file--------------"
      ],
      "metadata": {
        "id": "Pn9j4EIeFcel"
      }
    },
    {
      "cell_type": "markdown",
      "source": [
        "**Best of Luck**"
      ],
      "metadata": {
        "id": "-2MWCodIFPzz"
      }
    }
  ],
  "metadata": {
    "colab": {
      "provenance": []
    },
    "kernelspec": {
      "name": "python3",
      "display_name": "Python 3"
    },
    "language_info": {
      "name": "python"
    }
  },
  "nbformat": 4,
  "nbformat_minor": 0
}