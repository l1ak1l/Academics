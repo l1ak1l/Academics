{
  "nbformat": 4,
  "nbformat_minor": 0,
  "metadata": {
    "colab": {
      "provenance": []
    },
    "kernelspec": {
      "name": "ir",
      "display_name": "R"
    },
    "language_info": {
      "name": "R"
    }
  },
  "cells": [
    {
      "cell_type": "code",
      "execution_count": 21,
      "metadata": {
        "colab": {
          "base_uri": "https://localhost:8080/"
        },
        "id": "KnUabuwNp7Ny",
        "outputId": "6567b569-76ef-4471-8272-84feee0f3a6e"
      },
      "outputs": [
        {
          "output_type": "stream",
          "name": "stdout",
          "text": [
            "Requirement already satisfied: rpy2 in /usr/local/lib/python3.10/dist-packages (3.4.2)\n",
            "Requirement already satisfied: cffi>=1.10.0 in /usr/local/lib/python3.10/dist-packages (from rpy2) (1.16.0)\n",
            "Requirement already satisfied: jinja2 in /usr/local/lib/python3.10/dist-packages (from rpy2) (3.1.2)\n",
            "Requirement already satisfied: pytz in /usr/local/lib/python3.10/dist-packages (from rpy2) (2023.3.post1)\n",
            "Requirement already satisfied: tzlocal in /usr/local/lib/python3.10/dist-packages (from rpy2) (5.2)\n",
            "Requirement already satisfied: pycparser in /usr/local/lib/python3.10/dist-packages (from cffi>=1.10.0->rpy2) (2.21)\n",
            "Requirement already satisfied: MarkupSafe>=2.0 in /usr/local/lib/python3.10/dist-packages (from jinja2->rpy2) (2.1.3)\n"
          ]
        }
      ],
      "source": [
        "!pip install rpy2"
      ]
    },
    {
      "cell_type": "code",
      "source": [
        "%load_ext rpy2.ipython"
      ],
      "metadata": {
        "id": "Q797JHwdr3H0",
        "colab": {
          "base_uri": "https://localhost:8080/"
        },
        "outputId": "6c6beee7-4946-45a2-8cd5-c7447eca5d06"
      },
      "execution_count": 22,
      "outputs": [
        {
          "output_type": "stream",
          "name": "stdout",
          "text": [
            "The rpy2.ipython extension is already loaded. To reload it, use:\n",
            "  %reload_ext rpy2.ipython\n"
          ]
        }
      ]
    },
    {
      "cell_type": "code",
      "source": [
        "%%R\n",
        "x <- seq(0, 2*pi, length.out=50)\n",
        "x"
      ],
      "metadata": {
        "colab": {
          "base_uri": "https://localhost:8080/"
        },
        "id": "MhtnLCjAqBRZ",
        "outputId": "837f0046-b034-405c-98d9-c57c0237b7e1"
      },
      "execution_count": 23,
      "outputs": [
        {
          "output_type": "stream",
          "name": "stdout",
          "text": [
            " [1] 0.0000000 0.1282283 0.2564565 0.3846848 0.5129131 0.6411414 0.7693696\n",
            " [8] 0.8975979 1.0258262 1.1540544 1.2822827 1.4105110 1.5387393 1.6669675\n",
            "[15] 1.7951958 1.9234241 2.0516523 2.1798806 2.3081089 2.4363372 2.5645654\n",
            "[22] 2.6927937 2.8210220 2.9492502 3.0774785 3.2057068 3.3339351 3.4621633\n",
            "[29] 3.5903916 3.7186199 3.8468481 3.9750764 4.1033047 4.2315330 4.3597612\n",
            "[36] 4.4879895 4.6162178 4.7444460 4.8726743 5.0009026 5.1291309 5.2573591\n",
            "[43] 5.3855874 5.5138157 5.6420439 5.7702722 5.8985005 6.0267288 6.1549570\n",
            "[50] 6.2831853\n"
          ]
        }
      ]
    },
    {
      "cell_type": "code",
      "source": [
        "%%R\n",
        "s=10\n",
        "x=11\n",
        "if(x>s){\n",
        "    print(\"X is greater than S\")\n",
        "}else{\n",
        "    print(\"X is smaller than S\")\n",
        "}"
      ],
      "metadata": {
        "colab": {
          "base_uri": "https://localhost:8080/"
        },
        "id": "XsEVM99otyaP",
        "outputId": "72a07f7b-2480-4533-ec32-0ff794602775"
      },
      "execution_count": 24,
      "outputs": [
        {
          "output_type": "stream",
          "name": "stdout",
          "text": [
            "[1] \"X is greater than S\"\n"
          ]
        }
      ]
    },
    {
      "cell_type": "code",
      "source": [
        "%%R\n",
        "help('paste')"
      ],
      "metadata": {
        "id": "kz4NXPOBuM5P"
      },
      "execution_count": null,
      "outputs": []
    },
    {
      "cell_type": "code",
      "source": [
        "%%R\n",
        "paste(2,'hello')"
      ],
      "metadata": {
        "colab": {
          "base_uri": "https://localhost:8080/"
        },
        "id": "RKdeqy8NuPc2",
        "outputId": "32a68725-be21-48a4-cb7c-5335fb3c25bf"
      },
      "execution_count": 25,
      "outputs": [
        {
          "output_type": "stream",
          "name": "stdout",
          "text": [
            "[1] \"2 hello\"\n"
          ]
        }
      ]
    },
    {
      "cell_type": "code",
      "source": [
        "my_list <- c()\n",
        "n <- as.integer(readline(prompt= \"Enter the number of elements: \"))\n",
        "for(i in 1:n){\n",
        "    var <- as.integer(readline(prompt = paste(\"Enter Element : \")))\n",
        "    my_list[i] <- var\n",
        "}\n",
        "print(my_list)\n"
      ],
      "metadata": {
        "colab": {
          "base_uri": "https://localhost:8080/"
        },
        "id": "J5a8tkU43dqH",
        "outputId": "8c7a28f3-5793-482d-c2e6-c547d15f0ba5"
      },
      "execution_count": 3,
      "outputs": [
        {
          "output_type": "stream",
          "name": "stdout",
          "text": [
            "Enter the number of elements: 3\n",
            "Enter Element : 1\n",
            "Enter Element : 2\n",
            "Enter Element : 3\n",
            "[1] 1 2 3\n"
          ]
        }
      ]
    },
    {
      "cell_type": "markdown",
      "source": [
        "1 coin\n",
        "1 dice\n",
        "\n",
        "toss coin - head - tail\n",
        "roll dice - 1 2 3 4 5 6"
      ],
      "metadata": {
        "id": "1nsgY6y95j7N"
      }
    },
    {
      "cell_type": "code",
      "source": [
        "# et check wheter we got coin or dice from pur pocket\n",
        "et <- c(0,1)\n",
        "x <- sample(et,size=1)\n",
        "# x shows wheter we got coin or dice\n",
        "if(x==1) {\n",
        "  print(\"Coin\")\n",
        "} else {\n",
        "  print(\"Dice\")\n",
        "}\n",
        "\n",
        "\n"
      ],
      "metadata": {
        "colab": {
          "base_uri": "https://localhost:8080/"
        },
        "id": "sZEb2rvx_U97",
        "outputId": "442cbcdc-fb7f-4fdc-bad3-4aaa47069812"
      },
      "execution_count": 76,
      "outputs": [
        {
          "output_type": "stream",
          "name": "stdout",
          "text": [
            "[1] \"Coin\"\n"
          ]
        }
      ]
    },
    {
      "cell_type": "code",
      "source": [
        "\n",
        "xr <- sample(coin,size=4)\n"
      ],
      "metadata": {
        "id": "GjYvNpJeAIOe"
      },
      "execution_count": null,
      "outputs": []
    },
    {
      "cell_type": "code",
      "source": [
        "# 1 = head\n",
        "# 0 = tail\n",
        "coin <- c(1, 0,1,1,1,0,0,1)\n",
        "#sample(coin, prob = c(0.9, 0.1))\n",
        "x <- sample(coin,size=4)\n",
        "\n",
        "\n",
        "\n",
        "x"
      ],
      "metadata": {
        "colab": {
          "base_uri": "https://localhost:8080/",
          "height": 34
        },
        "id": "4wkNk8qE8pjg",
        "outputId": "983eacd4-40b9-4f4f-9897-748871a79f15"
      },
      "execution_count": 32,
      "outputs": [
        {
          "output_type": "display_data",
          "data": {
            "text/html": [
              "<style>\n",
              ".list-inline {list-style: none; margin:0; padding: 0}\n",
              ".list-inline>li {display: inline-block}\n",
              ".list-inline>li:not(:last-child)::after {content: \"\\00b7\"; padding: 0 .5ex}\n",
              "</style>\n",
              "<ol class=list-inline><li>0</li><li>1</li><li>0</li><li>1</li></ol>\n"
            ],
            "text/markdown": "1. 0\n2. 1\n3. 0\n4. 1\n\n\n",
            "text/latex": "\\begin{enumerate*}\n\\item 0\n\\item 1\n\\item 0\n\\item 1\n\\end{enumerate*}\n",
            "text/plain": [
              "[1] 0 1 0 1"
            ]
          },
          "metadata": {}
        }
      ]
    },
    {
      "cell_type": "code",
      "source": [
        "r <- expand.grid(die1=1:6,coin1=1:2)\n",
        "\n",
        "r$die1>2"
      ],
      "metadata": {
        "id": "j2M8ki5SvNGV",
        "colab": {
          "base_uri": "https://localhost:8080/",
          "height": 34
        },
        "outputId": "6cb1f645-b958-43ac-8032-1d3554566eb9"
      },
      "execution_count": 58,
      "outputs": [
        {
          "output_type": "display_data",
          "data": {
            "text/html": [
              "<style>\n",
              ".list-inline {list-style: none; margin:0; padding: 0}\n",
              ".list-inline>li {display: inline-block}\n",
              ".list-inline>li:not(:last-child)::after {content: \"\\00b7\"; padding: 0 .5ex}\n",
              "</style>\n",
              "<ol class=list-inline><li>FALSE</li><li>FALSE</li><li>TRUE</li><li>TRUE</li><li>TRUE</li><li>TRUE</li><li>FALSE</li><li>FALSE</li><li>TRUE</li><li>TRUE</li><li>TRUE</li><li>TRUE</li></ol>\n"
            ],
            "text/markdown": "1. FALSE\n2. FALSE\n3. TRUE\n4. TRUE\n5. TRUE\n6. TRUE\n7. FALSE\n8. FALSE\n9. TRUE\n10. TRUE\n11. TRUE\n12. TRUE\n\n\n",
            "text/latex": "\\begin{enumerate*}\n\\item FALSE\n\\item FALSE\n\\item TRUE\n\\item TRUE\n\\item TRUE\n\\item TRUE\n\\item FALSE\n\\item FALSE\n\\item TRUE\n\\item TRUE\n\\item TRUE\n\\item TRUE\n\\end{enumerate*}\n",
            "text/plain": [
              " [1] FALSE FALSE  TRUE  TRUE  TRUE  TRUE FALSE FALSE  TRUE  TRUE  TRUE  TRUE"
            ]
          },
          "metadata": {}
        }
      ]
    },
    {
      "cell_type": "code",
      "source": [
        "# et check wheter we got coin or dice from pur pocket\n",
        "et <- c(0,1)\n",
        "x <- sample(et,size=1)\n",
        "# x shows wheter we got coin or dice\n",
        "if(x==1) {\n",
        "  print(\"Coin\")\n",
        "  x1<-sample(et,size=1)\n",
        "  x1\n",
        "} else {\n",
        "  print(\"Dice\")\n",
        "}\n"
      ],
      "metadata": {
        "id": "4i0M61u-EtML",
        "outputId": "130ed677-03b5-4e3f-cbcf-0306b07bd317",
        "colab": {
          "base_uri": "https://localhost:8080/"
        }
      },
      "execution_count": 81,
      "outputs": [
        {
          "output_type": "stream",
          "name": "stdout",
          "text": [
            "[1] \"Dice\"\n"
          ]
        }
      ]
    },
    {
      "cell_type": "code",
      "source": [
        "die <- c(1,2,3,4,5,6)\n",
        "coin <- c(\"Head\",\"Tail\")\n",
        "\n",
        "r1 <- expand.grid(die=1:6,coin<-c(\"H\",\"T\"))\n",
        "r2 <- expand.grid(die=1:6,coin<-c(\"Queen\",\"King\"))\n",
        "df <- rbind(r1, r2)\n",
        "df"
      ],
      "metadata": {
        "colab": {
          "base_uri": "https://localhost:8080/",
          "height": 868
        },
        "id": "khuSXweQBWhx",
        "outputId": "278a80c7-9e97-41dc-d661-62e09fab9396"
      },
      "execution_count": 104,
      "outputs": [
        {
          "output_type": "display_data",
          "data": {
            "text/html": [
              "<table class=\"dataframe\">\n",
              "<caption>A data.frame: 24 × 2</caption>\n",
              "<thead>\n",
              "\t<tr><th scope=col>die</th><th scope=col>Var2</th></tr>\n",
              "\t<tr><th scope=col>&lt;int&gt;</th><th scope=col>&lt;fct&gt;</th></tr>\n",
              "</thead>\n",
              "<tbody>\n",
              "\t<tr><td>1</td><td>H    </td></tr>\n",
              "\t<tr><td>2</td><td>H    </td></tr>\n",
              "\t<tr><td>3</td><td>H    </td></tr>\n",
              "\t<tr><td>4</td><td>H    </td></tr>\n",
              "\t<tr><td>5</td><td>H    </td></tr>\n",
              "\t<tr><td>6</td><td>H    </td></tr>\n",
              "\t<tr><td>1</td><td>T    </td></tr>\n",
              "\t<tr><td>2</td><td>T    </td></tr>\n",
              "\t<tr><td>3</td><td>T    </td></tr>\n",
              "\t<tr><td>4</td><td>T    </td></tr>\n",
              "\t<tr><td>5</td><td>T    </td></tr>\n",
              "\t<tr><td>6</td><td>T    </td></tr>\n",
              "\t<tr><td>1</td><td>Queen</td></tr>\n",
              "\t<tr><td>2</td><td>Queen</td></tr>\n",
              "\t<tr><td>3</td><td>Queen</td></tr>\n",
              "\t<tr><td>4</td><td>Queen</td></tr>\n",
              "\t<tr><td>5</td><td>Queen</td></tr>\n",
              "\t<tr><td>6</td><td>Queen</td></tr>\n",
              "\t<tr><td>1</td><td>King </td></tr>\n",
              "\t<tr><td>2</td><td>King </td></tr>\n",
              "\t<tr><td>3</td><td>King </td></tr>\n",
              "\t<tr><td>4</td><td>King </td></tr>\n",
              "\t<tr><td>5</td><td>King </td></tr>\n",
              "\t<tr><td>6</td><td>King </td></tr>\n",
              "</tbody>\n",
              "</table>\n"
            ],
            "text/markdown": "\nA data.frame: 24 × 2\n\n| die &lt;int&gt; | Var2 &lt;fct&gt; |\n|---|---|\n| 1 | H     |\n| 2 | H     |\n| 3 | H     |\n| 4 | H     |\n| 5 | H     |\n| 6 | H     |\n| 1 | T     |\n| 2 | T     |\n| 3 | T     |\n| 4 | T     |\n| 5 | T     |\n| 6 | T     |\n| 1 | Queen |\n| 2 | Queen |\n| 3 | Queen |\n| 4 | Queen |\n| 5 | Queen |\n| 6 | Queen |\n| 1 | King  |\n| 2 | King  |\n| 3 | King  |\n| 4 | King  |\n| 5 | King  |\n| 6 | King  |\n\n",
            "text/latex": "A data.frame: 24 × 2\n\\begin{tabular}{ll}\n die & Var2\\\\\n <int> & <fct>\\\\\n\\hline\n\t 1 & H    \\\\\n\t 2 & H    \\\\\n\t 3 & H    \\\\\n\t 4 & H    \\\\\n\t 5 & H    \\\\\n\t 6 & H    \\\\\n\t 1 & T    \\\\\n\t 2 & T    \\\\\n\t 3 & T    \\\\\n\t 4 & T    \\\\\n\t 5 & T    \\\\\n\t 6 & T    \\\\\n\t 1 & Queen\\\\\n\t 2 & Queen\\\\\n\t 3 & Queen\\\\\n\t 4 & Queen\\\\\n\t 5 & Queen\\\\\n\t 6 & Queen\\\\\n\t 1 & King \\\\\n\t 2 & King \\\\\n\t 3 & King \\\\\n\t 4 & King \\\\\n\t 5 & King \\\\\n\t 6 & King \\\\\n\\end{tabular}\n",
            "text/plain": [
              "   die Var2 \n",
              "1  1   H    \n",
              "2  2   H    \n",
              "3  3   H    \n",
              "4  4   H    \n",
              "5  5   H    \n",
              "6  6   H    \n",
              "7  1   T    \n",
              "8  2   T    \n",
              "9  3   T    \n",
              "10 4   T    \n",
              "11 5   T    \n",
              "12 6   T    \n",
              "13 1   Queen\n",
              "14 2   Queen\n",
              "15 3   Queen\n",
              "16 4   Queen\n",
              "17 5   Queen\n",
              "18 6   Queen\n",
              "19 1   King \n",
              "20 2   King \n",
              "21 3   King \n",
              "22 4   King \n",
              "23 5   King \n",
              "24 6   King "
            ]
          },
          "metadata": {}
        }
      ]
    },
    {
      "cell_type": "code",
      "source": [
        "die <- c(1,2,3,4,5,6)\n",
        "coin <- c(\"Head\",\"Tail\")\n",
        "\n",
        "coin <- c(\"H\",\"T\")\n",
        "#roll1 <- expand.grid(die=1:6,die=1:6)\n",
        "roll1 <- expand.grid(coin)\n",
        "roll2 <- expand.grid(die=1:6,die=1:6,die=1:6)\n",
        "x <- expand.grid(roll1,roll2)\n",
        "x"
      ],
      "metadata": {
        "id": "IT2cP89TF0v9",
        "outputId": "07c5126f-b8cd-41ac-9fac-34cbb15c0062",
        "colab": {
          "base_uri": "https://localhost:8080/"
        }
      },
      "execution_count": 102,
      "outputs": [
        {
          "output_type": "stream",
          "name": "stderr",
          "text": [
            "ERROR while rich displaying an object: Error in vapply(part, function(col) {: values must be type 'character',\n",
            " but FUN(X[[1]]) result is type 'list'\n",
            "\n",
            "Traceback:\n",
            "1. tryCatch(withCallingHandlers({\n",
            " .     if (!mime %in% names(repr::mime2repr)) \n",
            " .         stop(\"No repr_* for mimetype \", mime, \" in repr::mime2repr\")\n",
            " .     rpr <- repr::mime2repr[[mime]](obj)\n",
            " .     if (is.null(rpr)) \n",
            " .         return(NULL)\n",
            " .     prepare_content(is.raw(rpr), rpr)\n",
            " . }, error = error_handler), error = outer_handler)\n",
            "2. tryCatchList(expr, classes, parentenv, handlers)\n",
            "3. tryCatchOne(expr, names, parentenv, handlers[[1L]])\n",
            "4. doTryCatch(return(expr), name, parentenv, handler)\n",
            "5. withCallingHandlers({\n",
            " .     if (!mime %in% names(repr::mime2repr)) \n",
            " .         stop(\"No repr_* for mimetype \", mime, \" in repr::mime2repr\")\n",
            " .     rpr <- repr::mime2repr[[mime]](obj)\n",
            " .     if (is.null(rpr)) \n",
            " .         return(NULL)\n",
            " .     prepare_content(is.raw(rpr), rpr)\n",
            " . }, error = error_handler)\n",
            "6. repr::mime2repr[[mime]](obj)\n",
            "7. repr_text.data.frame(obj)\n",
            "8. ellip_limit_arr(obj, rows, cols)\n",
            "9. arr_parts_format(parts)\n",
            "10. structure(lapply(parts, arr_part_format), omit = attr(parts, \n",
            "  .     \"omit\"))\n",
            "11. lapply(parts, arr_part_format)\n",
            "12. FUN(X[[i]], ...)\n",
            "13. vapply(part, function(col) {\n",
            "  .     if (is.matrix(col)) \n",
            "  .         apply(apply(col, 2L, format), 1L, paste, collapse = \", \")\n",
            "  .     else format(col)\n",
            "  . }, character(nrow(part)))\n"
          ]
        }
      ]
    }
  ]
}