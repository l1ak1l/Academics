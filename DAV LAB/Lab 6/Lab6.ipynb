{
  "nbformat": 4,
  "nbformat_minor": 0,
  "metadata": {
    "colab": {
      "provenance": []
    },
    "kernelspec": {
      "name": "python3",
      "display_name": "Python 3"
    },
    "language_info": {
      "name": "python"
    }
  },
  "cells": [
    {
      "cell_type": "code",
      "execution_count": 218,
      "metadata": {
        "id": "A6tnQiSfaCc3"
      },
      "outputs": [],
      "source": [
        "samp1 = \"Emacs is the best IDE for almost all types of programming languages which is mostly used by idiots of world. probably they do not care about the productivity. Rather their focus could be on quality and its exibility. Similarly Lisp is the quite geek language which is used by hackers( not tom, dick and harry ). \"\n",
        "samp2 = \"I am thrilled to see your enthusiasm for data science and analytics. It is a dynamic eld with endless possibilities, and I am here to support your journey. Feel free to reach out for guidance or to discuss any projects you are working on. Together, we can explore the exciting world of data-driven insights and solutions.\"\n",
        "line1 = \"Learning Lisp programming language is a time waste.\"\n",
        "line2 = \"Data science is suject of future\"\n",
        "stopwords = [\"I\", \"am\", \"to\", \"your\", \"for\", \"and\", \"it\", \"is\", \"a with\", \"or\", \"on\", \"can\", \"almost all\", \"by\", \"of\", \"its\", \"quite\", \"which\"]\n",
        "symbols = [\"(\",\")\",\".\",\",\",\"[\",\"]\"]"
      ]
    },
    {
      "cell_type": "code",
      "source": [
        "# All the functions\n",
        "\n",
        "def to_lower(x):\n",
        "  return x.lower()\n",
        "\n",
        "def remove_stop_words(x):\n",
        "  temp_list = x.split()\n",
        "  resultwords  = [word for word in temp_list if word.lower() not in stopwords]  # stopwords is initiliazed in the top most box\n",
        "  otp = ' '.join(resultwords)\n",
        "  return otp\n",
        "\n",
        "def normalize(x1):\n",
        "  x = to_lower(x1)\n",
        "  x = remove_stop_words(x)\n",
        "  #symbols initialized in the top most box\n",
        "  for i in range(0,len(symbols)):\n",
        "    x = x.replace(symbols[i],\" \")\n",
        "  return x\n",
        "\n",
        "def unique_words(x):\n",
        "  temp_list = x.split()\n",
        "  unique_word = []\n",
        "  for i in temp_list:\n",
        "    if i not in unique_word:\n",
        "      unique_word.append(i)\n",
        "  return unique_word\n",
        "\n",
        "def bag_of_words(x):\n",
        "  for i in range(0,2):\n",
        "    x[i]=normalize(x[i])\n",
        "  y1=unique_words(x[0])\n",
        "  y1=' '.join(y1)\n",
        "  y2=unique_words(x[1])\n",
        "  y2=' '.join(y2)\n",
        "  y3=unique_words(x[2])\n",
        "  y3 = ' '.join(y3)\n",
        "  y4 = y1+y2+y3\n",
        "  otp = unique_words(y4)\n",
        "  return otp"
      ],
      "metadata": {
        "id": "AaU_5JLpaWYb"
      },
      "execution_count": 226,
      "outputs": []
    },
    {
      "cell_type": "code",
      "source": [
        "# I am basically testing all the function here in this code block\n",
        "\n",
        "# Converting to lower case\n",
        "x_lower = to_lower(line1)\n",
        "\n",
        "# Removing stop words\n",
        "x_stopwords = remove_stop_words(line1)\n",
        "\n",
        "# Normalizing ( i.e lowering case + removing stop words + removing symbols )\n",
        "x_normalized = normalize(line1)\n",
        "\n",
        "# Unique Words in line 1\n",
        "x_unique_words = unique_words(line1)\n",
        "\n",
        "# Bag of words\n",
        "samp_list=[samp1,samp2,line1]\n",
        "bow = bag_of_words(samp_list)\n",
        "\n",
        "\n",
        "# Printing all\n",
        "print(x_lower)\n",
        "print(x_stopwords)\n",
        "print(x_normalized)\n",
        "print(x_unique_words)\n",
        "print(bow)"
      ],
      "metadata": {
        "colab": {
          "base_uri": "https://localhost:8080/"
        },
        "id": "QVDMJ4MYdMk2",
        "outputId": "e36853f9-7930-4dc0-8a2d-3635157ebb26"
      },
      "execution_count": 234,
      "outputs": [
        {
          "output_type": "stream",
          "name": "stdout",
          "text": [
            "learning lisp programming language is a time waste.\n",
            "Learning Lisp programming language a time waste.\n",
            "learning lisp programming language a time waste \n",
            "['Learning', 'Lisp', 'programming', 'language', 'is', 'a', 'time', 'waste.']\n",
            "['emacs', 'the', 'best', 'ide', 'almost', 'all', 'types', 'programming', 'languages', 'mostly', 'used', 'idiots', 'world', 'probably', 'they', 'do', 'not', 'care', 'about', 'productivity', 'rather', 'their', 'focus', 'could', 'be', 'quality', 'exibility', 'similarly', 'lisp', 'geek', 'language', 'hackers', 'tom', 'dick', 'harryi', 'thrilled', 'see', 'enthusiasm', 'data', 'science', 'analytics', 'a', 'dynamic', 'eld', 'with', 'endless', 'possibilities', 'here', 'support', 'journey', 'feel', 'free', 'reach', 'out', 'guidance', 'discuss', 'any', 'projects', 'you', 'are', 'working', 'on', 'together', 'we', 'explore', 'exciting', 'data-driven', 'insights', 'solutionsLearning', 'Lisp', 'is', 'time', 'waste.']\n"
          ]
        }
      ]
    },
    {
      "cell_type": "code",
      "source": [
        "def tf_idf(samp_list,bow):\n",
        "  # adding together all the lists into one\n",
        "  lst = samp_list[0]+samp_list[1]+samp_list[2]\n",
        "  # searching for bag of words in the list\n",
        "  res = []\n",
        "  for i in lst:\n",
        "    for j in bow:\n",
        "      if i == j:\n",
        "        res.append(i)\n",
        "  print(str(res))"
      ],
      "metadata": {
        "id": "FVANFL2Jz_Qu"
      },
      "execution_count": 267,
      "outputs": []
    },
    {
      "cell_type": "code",
      "source": [
        "tf_idf(samp_list,bow)"
      ],
      "metadata": {
        "colab": {
          "base_uri": "https://localhost:8080/"
        },
        "id": "zLGlzXxh1QWc",
        "outputId": "bebb7b22-a5b8-4c7c-9251-546b0304d352"
      },
      "execution_count": 280,
      "outputs": [
        {
          "output_type": "stream",
          "name": "stdout",
          "text": [
            "['emacs', 'the', 'best', 'ide', 'almost', 'all', 'types', 'programming', 'languages', 'mostly', 'used', 'idiots', 'world', 'probably', 'they', 'do', 'not', 'care', 'about', 'the', 'productivity', 'rather', 'their', 'focus', 'could', 'be', 'quality', 'exibility', 'similarly', 'lisp', 'the', 'geek', 'language', 'used', 'hackers', 'not', 'tom', 'dick', 'thrilled', 'see', 'enthusiasm', 'data', 'science', 'analytics', 'a', 'dynamic', 'eld', 'with', 'endless', 'possibilities', 'here', 'support', 'journey', 'feel', 'free', 'reach', 'out', 'guidance', 'discuss', 'any', 'projects', 'you', 'are', 'working', 'on', 'together', 'we', 'explore', 'the', 'exciting', 'world', 'data-driven', 'insights', 'Lisp', 'programming', 'language', 'is', 'a', 'time', 'waste.']\n"
          ]
        }
      ]
    },
    {
      "cell_type": "code",
      "source": [
        "def tf_idf(samp_list,bow):\n",
        "  # adding together all the lists into one\n",
        "  lst = samp_list[0]+samp_list[1]+samp_list[2]\n",
        "  lst=lst.split()\n",
        "  print(lst)\n",
        "  print(bow)\n",
        "  # searching for bag of words in the list\n",
        "  res = []\n",
        "  for i in lst:\n",
        "    for j in bow:\n",
        "      if i == j:\n",
        "        res.append(i)\n",
        "  print(res)"
      ],
      "metadata": {
        "id": "leOkPC_X8Aex"
      },
      "execution_count": 282,
      "outputs": []
    },
    {
      "cell_type": "code",
      "source": [
        "tf_idf(samp_list,bow)"
      ],
      "metadata": {
        "colab": {
          "base_uri": "https://localhost:8080/"
        },
        "id": "hyIps35r8Y6S",
        "outputId": "efe139ef-108d-4bb4-a502-3c8a2631250d"
      },
      "execution_count": 283,
      "outputs": [
        {
          "output_type": "stream",
          "name": "stdout",
          "text": [
            "['emacs', 'the', 'best', 'ide', 'almost', 'all', 'types', 'programming', 'languages', 'mostly', 'used', 'idiots', 'world', 'probably', 'they', 'do', 'not', 'care', 'about', 'the', 'productivity', 'rather', 'their', 'focus', 'could', 'be', 'quality', 'exibility', 'similarly', 'lisp', 'the', 'geek', 'language', 'used', 'hackers', 'not', 'tom', 'dick', 'harry', 'i', 'thrilled', 'see', 'enthusiasm', 'data', 'science', 'analytics', 'a', 'dynamic', 'eld', 'with', 'endless', 'possibilities', 'i', 'here', 'support', 'journey', 'feel', 'free', 'reach', 'out', 'guidance', 'discuss', 'any', 'projects', 'you', 'are', 'working', 'on', 'together', 'we', 'explore', 'the', 'exciting', 'world', 'data-driven', 'insights', 'solutions', 'Learning', 'Lisp', 'programming', 'language', 'is', 'a', 'time', 'waste.']\n",
            "['emacs', 'the', 'best', 'ide', 'almost', 'all', 'types', 'programming', 'languages', 'mostly', 'used', 'idiots', 'world', 'probably', 'they', 'do', 'not', 'care', 'about', 'productivity', 'rather', 'their', 'focus', 'could', 'be', 'quality', 'exibility', 'similarly', 'lisp', 'geek', 'language', 'hackers', 'tom', 'dick', 'harryi', 'thrilled', 'see', 'enthusiasm', 'data', 'science', 'analytics', 'a', 'dynamic', 'eld', 'with', 'endless', 'possibilities', 'here', 'support', 'journey', 'feel', 'free', 'reach', 'out', 'guidance', 'discuss', 'any', 'projects', 'you', 'are', 'working', 'on', 'together', 'we', 'explore', 'exciting', 'data-driven', 'insights', 'solutionsLearning', 'Lisp', 'is', 'time', 'waste.']\n",
            "['emacs', 'the', 'best', 'ide', 'almost', 'all', 'types', 'programming', 'languages', 'mostly', 'used', 'idiots', 'world', 'probably', 'they', 'do', 'not', 'care', 'about', 'the', 'productivity', 'rather', 'their', 'focus', 'could', 'be', 'quality', 'exibility', 'similarly', 'lisp', 'the', 'geek', 'language', 'used', 'hackers', 'not', 'tom', 'dick', 'thrilled', 'see', 'enthusiasm', 'data', 'science', 'analytics', 'a', 'dynamic', 'eld', 'with', 'endless', 'possibilities', 'here', 'support', 'journey', 'feel', 'free', 'reach', 'out', 'guidance', 'discuss', 'any', 'projects', 'you', 'are', 'working', 'on', 'together', 'we', 'explore', 'the', 'exciting', 'world', 'data-driven', 'insights', 'Lisp', 'programming', 'language', 'is', 'a', 'time', 'waste.']\n"
          ]
        }
      ]
    }
  ]
}