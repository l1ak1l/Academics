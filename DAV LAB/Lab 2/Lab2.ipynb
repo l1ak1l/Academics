{
  "nbformat": 4,
  "nbformat_minor": 0,
  "metadata": {
    "colab": {
      "provenance": []
    },
    "kernelspec": {
      "name": "python3",
      "display_name": "Python 3"
    },
    "language_info": {
      "name": "python"
    }
  },
  "cells": [
    {
      "cell_type": "code",
      "execution_count": 2,
      "metadata": {
        "id": "js3h8GyjHzr8"
      },
      "outputs": [],
      "source": [
        "from bs4 import BeautifulSoup\n",
        "import requests"
      ]
    },
    {
      "cell_type": "code",
      "source": [
        "url = \"https://en.wikipedia.org/wiki/Pakistan\"\n",
        "r = requests.get(url)\n",
        "soup = BeautifulSoup(r.content,\"html.parser\")"
      ],
      "metadata": {
        "id": "wNAEj01TPPAF"
      },
      "execution_count": null,
      "outputs": []
    },
    {
      "cell_type": "code",
      "source": [
        " # This gives all the Main headings of the page\n",
        "ind_div1 = soup.find_all('span',class_='mw-headline')\n",
        "for div in ind_div1:\n",
        "  print(div.text)"
      ],
      "metadata": {
        "id": "7Ocl9g-pV0by"
      },
      "execution_count": null,
      "outputs": []
    },
    {
      "cell_type": "code",
      "source": [
        " # This gives all the redirects i.e All the links in the page\n",
        "ind_div2 = soup.find_all('a',class_='mw-redirect')\n",
        "for div in ind_div2:\n",
        "  print(div.text,{div[\"href\"]})"
      ],
      "metadata": {
        "id": "sUJjLR86RD89"
      },
      "execution_count": null,
      "outputs": []
    },
    {
      "cell_type": "code",
      "source": [
        " # This gives the URL of all the images in the page\n",
        "ind_div3 = soup.find_all('img',class_=\"mw-file-element\")\n",
        "for div in ind_div3:\n",
        "  print(div.text,{div[\"src\"]})"
      ],
      "metadata": {
        "id": "eZnIXPAcToDm"
      },
      "execution_count": null,
      "outputs": []
    }
  ]
}