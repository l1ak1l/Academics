{
  "nbformat": 4,
  "nbformat_minor": 0,
  "metadata": {
    "colab": {
      "provenance": []
    },
    "kernelspec": {
      "name": "python3",
      "display_name": "Python 3"
    },
    "language_info": {
      "name": "python"
    }
  },
  "cells": [
    {
      "cell_type": "code",
      "source": [
        "!pip install selenium"
      ],
      "metadata": {
        "colab": {
          "base_uri": "https://localhost:8080/"
        },
        "id": "Fh1mM0u65Yla",
        "outputId": "b7a15cbb-5652-4fca-bcc9-2ae882fa32d7"
      },
      "execution_count": 16,
      "outputs": [
        {
          "output_type": "stream",
          "name": "stdout",
          "text": [
            "Requirement already satisfied: selenium in /usr/local/lib/python3.10/dist-packages (4.12.0)\n",
            "Requirement already satisfied: urllib3[socks]<3,>=1.26 in /usr/local/lib/python3.10/dist-packages (from selenium) (2.0.4)\n",
            "Requirement already satisfied: trio~=0.17 in /usr/local/lib/python3.10/dist-packages (from selenium) (0.22.2)\n",
            "Requirement already satisfied: trio-websocket~=0.9 in /usr/local/lib/python3.10/dist-packages (from selenium) (0.10.4)\n",
            "Requirement already satisfied: certifi>=2021.10.8 in /usr/local/lib/python3.10/dist-packages (from selenium) (2023.7.22)\n",
            "Requirement already satisfied: attrs>=20.1.0 in /usr/local/lib/python3.10/dist-packages (from trio~=0.17->selenium) (23.1.0)\n",
            "Requirement already satisfied: sortedcontainers in /usr/local/lib/python3.10/dist-packages (from trio~=0.17->selenium) (2.4.0)\n",
            "Requirement already satisfied: idna in /usr/local/lib/python3.10/dist-packages (from trio~=0.17->selenium) (3.4)\n",
            "Requirement already satisfied: outcome in /usr/local/lib/python3.10/dist-packages (from trio~=0.17->selenium) (1.2.0)\n",
            "Requirement already satisfied: sniffio in /usr/local/lib/python3.10/dist-packages (from trio~=0.17->selenium) (1.3.0)\n",
            "Requirement already satisfied: exceptiongroup>=1.0.0rc9 in /usr/local/lib/python3.10/dist-packages (from trio~=0.17->selenium) (1.1.3)\n",
            "Requirement already satisfied: wsproto>=0.14 in /usr/local/lib/python3.10/dist-packages (from trio-websocket~=0.9->selenium) (1.2.0)\n",
            "Requirement already satisfied: pysocks!=1.5.7,<2.0,>=1.5.6 in /usr/local/lib/python3.10/dist-packages (from urllib3[socks]<3,>=1.26->selenium) (1.7.1)\n",
            "Requirement already satisfied: h11<1,>=0.9.0 in /usr/local/lib/python3.10/dist-packages (from wsproto>=0.14->trio-websocket~=0.9->selenium) (0.14.0)\n"
          ]
        }
      ]
    },
    {
      "cell_type": "code",
      "source": [
        "# install drivers\n",
        "!apt install chromium-chromedriver"
      ],
      "metadata": {
        "colab": {
          "base_uri": "https://localhost:8080/"
        },
        "id": "gAS6GJY35UZT",
        "outputId": "a9adacab-ec4c-4762-d7f2-4de19a3c9f44"
      },
      "execution_count": 17,
      "outputs": [
        {
          "output_type": "stream",
          "name": "stdout",
          "text": [
            "Reading package lists... Done\n",
            "Building dependency tree... Done\n",
            "Reading state information... Done\n",
            "The following additional packages will be installed:\n",
            "  apparmor chromium-browser libfuse3-3 liblzo2-2 snapd squashfs-tools\n",
            "  systemd-hwe-hwdb udev\n",
            "Suggested packages:\n",
            "  apparmor-profiles-extra apparmor-utils fuse3 zenity | kdialog\n",
            "The following NEW packages will be installed:\n",
            "  apparmor chromium-browser chromium-chromedriver libfuse3-3 liblzo2-2 snapd\n",
            "  squashfs-tools systemd-hwe-hwdb udev\n",
            "0 upgraded, 9 newly installed, 0 to remove and 17 not upgraded.\n",
            "Need to get 1,557 kB/26.3 MB of archives.\n",
            "After this operation, 116 MB of additional disk space will be used.\n",
            "Err:1 http://archive.ubuntu.com/ubuntu jammy-updates/main amd64 udev amd64 249.11-0ubuntu3.9\n",
            "  404  Not Found [IP: 91.189.91.81 80]\n",
            "\u001b[1;31mE: \u001b[0mFailed to fetch http://archive.ubuntu.com/ubuntu/pool/main/s/systemd/udev_249.11-0ubuntu3.9_amd64.deb  404  Not Found [IP: 91.189.91.81 80]\u001b[0m\n",
            "\u001b[1;31mE: \u001b[0mUnable to fetch some archives, maybe run apt-get update or try with --fix-missing?\u001b[0m\n"
          ]
        }
      ]
    },
    {
      "cell_type": "code",
      "execution_count": 19,
      "metadata": {
        "id": "r-uJgALW5Sm2"
      },
      "outputs": [],
      "source": [
        "import selenium\n",
        "from selenium import webdriver\n",
        "from selenium.webdriver.common.keys import Keys\n",
        "from selenium.webdriver.chrome.service import Service\n",
        "from selenium.webdriver.common.by import By\n",
        "from bs4 import BeautifulSoup\n",
        "import pandas as pd\n",
        "import time"
      ]
    },
    {
      "cell_type": "code",
      "source": [
        "# will resolve driver compatibility issues\n",
        "def web_driver():\n",
        "    options = webdriver.ChromeOptions()\n",
        "    options.add_argument(\"--verbose\")\n",
        "    options.add_argument('--no-sandbox')\n",
        "    options.add_argument('--headless')\n",
        "    options.add_argument('--disable-gpu')\n",
        "    options.add_argument(\"--window-size=1920, 1200\")\n",
        "    options.add_argument('--disable-dev-shm-usage')\n",
        "    driver = webdriver.Chrome(options=options)\n",
        "    return driver"
      ],
      "metadata": {
        "id": "wTiOehW65fSF"
      },
      "execution_count": 34,
      "outputs": []
    },
    {
      "cell_type": "code",
      "source": [
        "driver = web_driver()"
      ],
      "metadata": {
        "id": "mRx6ZtlD5ryW"
      },
      "execution_count": 35,
      "outputs": []
    },
    {
      "cell_type": "code",
      "source": [
        "product_urls = [\n",
        "    \"https://www.amazon.com/AmazonBasics-Type-C-USB-Male-Cable/dp/B01GGKYKQM/ref=sr_1_3?crid=30ECGU0AW6Q1B&keywords=usb%2Bc%2Bcharger%2Bcable&qid=1694974734&sprefix=%2Caps%2C618&sr=8-3&th=1\",\n",
        "    \"https://www.amazon.com/INIU-Charging-Braided-Samsung-MacBook/dp/B08J2HXYPH/ref=sr_1_4?crid=30ECGU0AW6Q1B&keywords=usb%2Bc%2Bcharger%2Bcable&qid=1694974734&sprefix=%2Caps%2C618&sr=8-4&th=1\",\n",
        "    \"https://www.amazon.com/Amazon-Basics-Charging-Transfer-Certified/dp/B085SBKM7Y/ref=sr_1_5?crid=30ECGU0AW6Q1B&keywords=usb%2Bc%2Bcharger%2Bcable&qid=1694974734&sprefix=%2Caps%2C618&sr=8-5&th=1\",\n",
        "    \"https://www.amazon.com/Belkin-Delivery-Certified-Braided-Exterior/dp/B0B3GMVZY5/ref=sr_1_6?crid=30ECGU0AW6Q1B&keywords=usb+c+charger+cable&qid=1694974734&sprefix=%2Caps%2C618&sr=8-6\",\n",
        "    \"https://www.amazon.com/Belkin-BoostCharge-Braided-Certified-Charging/dp/B09MJQH4C2/ref=sr_1_8?crid=30ECGU0AW6Q1B&keywords=usb%2Bc%2Bcharger%2Bcable&qid=1694974734&sprefix=%2Caps%2C618&sr=8-8&th=1\",\n",
        "    \"https://www.amazon.com/Amazon-Basics-Aluminum-Braided-Delivery/dp/B08L85TDMX/ref=sr_1_9?crid=30ECGU0AW6Q1B&keywords=usb%2Bc%2Bcharger%2Bcable&qid=1694974734&sprefix=%2Caps%2C618&sr=8-9&th=1\",\n",
        "    \"https://www.amazon.com/INIU-Charging-Braided-Charger-Samsung/dp/B08J7KBKNM/ref=sr_1_10?crid=30ECGU0AW6Q1B&keywords=usb+c+charger+cable&qid=1694974734&sprefix=%2Caps%2C618&sr=8-10\",\n",
        "    \"https://www.amazon.com/Amazon-Basics-Charging-480Mbps-Transfer/dp/B01GGKZ4NU/ref=sr_1_11?crid=30ECGU0AW6Q1B&keywords=usb%2Bc%2Bcharger%2Bcable&qid=1694974734&sprefix=%2Caps%2C618&sr=8-11&th=1\",\n",
        "    \"https://www.amazon.com/Amazon-Basics-Charging-Transfer-Certified/dp/B085SBT6D8/ref=sr_1_13?crid=30ECGU0AW6Q1B&keywords=usb%2Bc%2Bcharger%2Bcable&qid=1694974734&sprefix=%2Caps%2C618&sr=8-13&th=1\",\n",
        "    \"https://www.amazon.com/Belkin-BoostCharge-USB-Cable-Compatible/dp/B086H3M59C/ref=sr_1_14?crid=30ECGU0AW6Q1B&keywords=usb%2Bc%2Bcharger%2Bcable&qid=1694974734&sprefix=%2Caps%2C618&sr=8-14&th=1\",\n",
        "]\n"
      ],
      "metadata": {
        "id": "YK4CkTyv5u0N"
      },
      "execution_count": 36,
      "outputs": []
    },
    {
      "cell_type": "code",
      "source": [
        "product_data_list = []\n",
        "\n",
        "for product_url in product_urls:\n",
        "    driver.get(product_url)\n",
        "\n",
        "    time.sleep(5)\n",
        "\n",
        "    title = driver.find_element(By.ID, \"productTitle\").text\n",
        "    price = driver.find_element(By.CLASS_NAME, \"a-price-whole\").text\n",
        "    try:\n",
        "        rating = driver.find_element(By.CSS_SELECTOR, \"span[data-asin='PRODUCT_ID'] .a-icon-star-small\").text\n",
        "        total_ratings = driver.find_element(By.ID, \"acrCustomerReviewText\").text\n",
        "    except:\n",
        "        rating = \"N/A\"\n",
        "        total_ratings = \"N/A\"\n",
        "\n",
        "    try:\n",
        "        delivery_time = driver.find_element(By.ID, \"ddmDeliveryMessage\").text\n",
        "    except:\n",
        "        delivery_time = \"N/A\"\n",
        "\n",
        "    image_url = driver.find_element(By.ID, \"landingImage\").get_attribute(\"src\")\n",
        "\n",
        "    product_data = {\n",
        "        \"Title\": title,\n",
        "        \"Price\": price,\n",
        "        \"Rating\": rating,\n",
        "        \"DeliveryTime\": delivery_time,\n",
        "        \"ImageURL\": image_url\n",
        "    }\n",
        "\n",
        "    product_data_list.append(product_data)\n",
        "\n",
        "driver.quit()"
      ],
      "metadata": {
        "id": "ypdvZaf251rf"
      },
      "execution_count": null,
      "outputs": []
    },
    {
      "cell_type": "code",
      "source": [
        "df = pd.DataFrame(product_data_list)\n",
        "\n",
        "df.to_csv(\"amazon_product_data.csv\", index=False)\n",
        "\n",
        "print(df)"
      ],
      "metadata": {
        "id": "hnr2Ga4V6tmb",
        "colab": {
          "base_uri": "https://localhost:8080/"
        },
        "outputId": "ce6174b6-db13-4ca1-af35-a9e3616a4cd2"
      },
      "execution_count": 25,
      "outputs": [
        {
          "output_type": "stream",
          "name": "stdout",
          "text": [
            "                                               Title Price Rating  \\\n",
            "0  Amazon Basics USB Type-C to USB-A 2.0 Male Cha...     8    N/A   \n",
            "1  INIU USB C to USB C Cable, 100W [2-Pack 6.6ft]...    12    N/A   \n",
            "2  Amazon Basics USB-C to USB-A 2.0 Fast Charging...     6    N/A   \n",
            "3  Belkin BoostCharge USB-C to USB-C Power Cable ...    14    N/A   \n",
            "4  Belkin BoostCharge Pro Flex Braided USB Type C...    19    N/A   \n",
            "5  Amazon Basics Aluminum Braided 100W USB-C to U...    16    N/A   \n",
            "6  INIU USB C Cable, [3 Pack 1.6/6.6/6.6ft ] 3.1A...     9    N/A   \n",
            "7  Amazon Basics USB-C to USB-C 2.0 Fast Charging...    12    N/A   \n",
            "8  Amazon Basics USB-C to USB-C 2.0 Fast Charging...    11    N/A   \n",
            "9  Belkin 6.6ft USB-C Cable, Boost Charge USB-C t...     7    N/A   \n",
            "\n",
            "  Total Rating Count DeliveryTime  \\\n",
            "0                N/A          N/A   \n",
            "1                N/A          N/A   \n",
            "2                N/A          N/A   \n",
            "3                N/A          N/A   \n",
            "4                N/A          N/A   \n",
            "5                N/A          N/A   \n",
            "6                N/A          N/A   \n",
            "7                N/A          N/A   \n",
            "8                N/A          N/A   \n",
            "9                N/A          N/A   \n",
            "\n",
            "                                            ImageURL  \n",
            "0  https://m.media-amazon.com/images/I/5185vXvJMA...  \n",
            "1  https://m.media-amazon.com/images/I/8136+lpiDB...  \n",
            "2  https://m.media-amazon.com/images/I/61oUKfCl5g...  \n",
            "3  https://m.media-amazon.com/images/I/31-Inx-PP9...  \n",
            "4  https://m.media-amazon.com/images/I/616Z66EJxN...  \n",
            "5  https://m.media-amazon.com/images/I/617Yx1Ds9C...  \n",
            "6  https://m.media-amazon.com/images/I/616J-uvcdM...  \n",
            "7  https://m.media-amazon.com/images/I/51PzVfTaZ-...  \n",
            "8  https://m.media-amazon.com/images/I/61bIFVDp-9...  \n",
            "9  https://m.media-amazon.com/images/I/613ICVNfeg...  \n"
          ]
        }
      ]
    }
  ]
}