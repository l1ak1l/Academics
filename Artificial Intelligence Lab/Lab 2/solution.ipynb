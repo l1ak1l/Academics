{
  "nbformat": 4,
  "nbformat_minor": 0,
  "metadata": {
    "colab": {
      "provenance": []
    },
    "kernelspec": {
      "name": "python3",
      "display_name": "Python 3"
    },
    "language_info": {
      "name": "python"
    }
  },
  "cells": [
    {
      "cell_type": "code",
      "execution_count": null,
      "metadata": {
        "id": "-TOwPqaAPCEv",
        "colab": {
          "base_uri": "https://localhost:8080/"
        },
        "outputId": "d4ddb903-3b99-4368-a698-7d5a1c70b6b4"
      },
      "outputs": [
        {
          "output_type": "stream",
          "name": "stdout",
          "text": [
            "Number of Chickens : 5\n",
            "Many\n"
          ]
        }
      ],
      "source": [
        "#No of Chickens\n",
        "#Your Function\n",
        "\n",
        "def chickens(x):\n",
        "  if x<10:\n",
        "    return f\"Number of Chickens : {x}\"\n",
        "  else:\n",
        "    return \"Many\"\n",
        "\n",
        "# Testing\n",
        "print(chickens(5))  # Output: Number of chickens: 5\n",
        "print(chickens(23)) # Output: Number of chickens: many"
      ]
    },
    {
      "cell_type": "code",
      "source": [
        "# Strings from both ends\n",
        "#Your Function\n",
        "\n",
        "def new_string(x):\n",
        "  size = len(x)\n",
        "  if(size<3):\n",
        "    return \"\"\n",
        "  elif(size==3):\n",
        "    return x[:3]\n",
        "  else:\n",
        "    return x[:3]+x[-3:]\n",
        "\n",
        "#Testing\n",
        "print(new_string('intelligence'))  # Output: 'intcne'\n",
        "print(new_string('cat'))           # Output: 'cat'\n",
        "print(new_string('hi'))            # Output: ''"
      ],
      "metadata": {
        "colab": {
          "base_uri": "https://localhost:8080/"
        },
        "id": "Z2QLtFjtP2BZ",
        "outputId": "b41fdfc1-8a86-4b86-ceb6-feb385a36de7"
      },
      "execution_count": null,
      "outputs": [
        {
          "output_type": "stream",
          "name": "stdout",
          "text": [
            "intnce\n",
            "cat\n",
            "\n"
          ]
        }
      ]
    },
    {
      "cell_type": "code",
      "source": [
        "#Replace occurrences of first character\n",
        "#Your Function\n",
        "def replace_occurrences(x):\n",
        "  x1 = x[0].lower()\n",
        "  size = len(x)\n",
        "  rep = '@'\n",
        "  #return size\n",
        "  return x1+x[1:size].replace(x1,'@')\n",
        "\n",
        "# Testing\n",
        "print(replace_occurrences('Ooogle'))  # Output: 'O@@gle'\n",
        "print(replace_occurrences('Appae'))   # Output: 'App@e'\n",
        "print(replace_occurrences('banana'))  # Output: 'banana'"
      ],
      "metadata": {
        "colab": {
          "base_uri": "https://localhost:8080/"
        },
        "id": "95iICXN7QWjL",
        "outputId": "561212a9-03b8-468e-e86b-6cd710319192"
      },
      "execution_count": null,
      "outputs": [
        {
          "output_type": "stream",
          "name": "stdout",
          "text": [
            "o@@gle\n",
            "app@e\n",
            "banana\n"
          ]
        }
      ]
    },
    {
      "cell_type": "code",
      "source": [
        "#String jumble\n",
        "#Your Function\n",
        "\n",
        "def string_jumble(x1,x2):\n",
        "  z1 = x2[:2]+x1[2:]\n",
        "  z2 = x1[:2]+x2[2:]\n",
        "  return z1+\" \"+z2\n",
        "\n",
        "# Testing\n",
        "print(string_jumble('mix', 'pod'))        # Output: 'pox mid'\n",
        "print(string_jumble('dog', 'dinner'))     # Output: 'dig donner'\n",
        "print(string_jumble('hello', 'world'))    # Output: 'wollo herld'\n"
      ],
      "metadata": {
        "colab": {
          "base_uri": "https://localhost:8080/"
        },
        "id": "mNXfkD-2RQZZ",
        "outputId": "04e211f2-e1c2-4922-cd17-414236e194a4"
      },
      "execution_count": null,
      "outputs": [
        {
          "output_type": "stream",
          "name": "stdout",
          "text": [
            "pox mid\n",
            "dig donner\n",
            "wollo herld\n"
          ]
        }
      ]
    },
    {
      "cell_type": "code",
      "source": [],
      "metadata": {
        "id": "JQUVP8oEY4Nu"
      },
      "execution_count": null,
      "outputs": []
    },
    {
      "cell_type": "code",
      "source": [
        "#Matching first and last characters\n",
        "#Your Function\n",
        "\n",
        "def count_matching_strings(x):\n",
        "  size = len(x)\n",
        "  lst = []\n",
        "  count = 0\n",
        "  for i in range(size):\n",
        "    lst.append(len(x[i]))\n",
        "  for x in x:\n",
        "    if len(x)<2:\n",
        "      print(\" \")\n",
        "    else:\n",
        "      if(x[0]==x[-1]):\n",
        "        count += 1;\n",
        "\n",
        "  return count\n",
        "  # for i in range(0,size):\n",
        "  #   if(x[i[0]] == x[i[lst[i]]]):\n",
        "  #     count +=1\n",
        "  #     print(count)\n",
        "\n",
        "# Testing\n",
        "strings = ['hello', 'world', 'level', 'python', 'pop', 'roar']\n",
        "print(count_matching_strings(strings))  # Output: 3 (since 'level', 'pop', and 'roar' match the criteria)\n"
      ],
      "metadata": {
        "colab": {
          "base_uri": "https://localhost:8080/"
        },
        "id": "U3Z3297jSFCX",
        "outputId": "13a028ba-9bcb-48b1-88a5-0f60fec16296"
      },
      "execution_count": null,
      "outputs": [
        {
          "output_type": "stream",
          "name": "stdout",
          "text": [
            "3\n"
          ]
        }
      ]
    },
    {
      "cell_type": "code",
      "source": [
        "#Group strings in a list\n",
        "#Your Function here\n",
        "\n",
        "def group_strings(x):\n",
        "  lst1 = []\n",
        "  lst2 = []\n",
        "  for x in x:\n",
        "    if x[0] == 'x' or x[0]=='X':\n",
        "      lst1.append(x)\n",
        "    else:\n",
        "      lst2.append(x)\n",
        "  return sorted(lst1) + sorted(lst2)\n",
        "\n",
        "# Testing\n",
        "strings = ['mix', 'xyz', 'apple', 'xanadu', 'aardvark']\n",
        "print(group_strings(strings))  # Output: ['xanadu', 'xyz', 'aardvark', 'apple', 'mix']\n"
      ],
      "metadata": {
        "colab": {
          "base_uri": "https://localhost:8080/"
        },
        "id": "zD7mLTJjTLMd",
        "outputId": "c86100ad-0341-4aff-94cc-a1c1a9718c92"
      },
      "execution_count": null,
      "outputs": [
        {
          "output_type": "stream",
          "name": "stdout",
          "text": [
            "['xanadu', 'xyz', 'aardvark', 'apple', 'mix']\n"
          ]
        }
      ]
    },
    {
      "cell_type": "code",
      "source": [
        "#Sort tuple by last element\n",
        "#Your Function here\n",
        "\n",
        "def sort_tuples(x):\n",
        "  return sorted(x,key= lambda x:x[-1])\n",
        "\n",
        "# Testing\n",
        "tuples_list = [(1, 7), (1, 3), (3, 4, 5), (2, 2)]\n",
        "print(sort_tuples(tuples_list))  # Output: [(2, 2), (1, 3), (3, 4, 5), (1, 7)]\n"
      ],
      "metadata": {
        "colab": {
          "base_uri": "https://localhost:8080/"
        },
        "id": "bDSeeFQ-Y5bm",
        "outputId": "a7b7e968-7549-4bdb-c2f0-674f62e6e321"
      },
      "execution_count": null,
      "outputs": [
        {
          "output_type": "stream",
          "name": "stdout",
          "text": [
            "[(2, 2), (1, 3), (3, 4, 5), (1, 7)]\n"
          ]
        }
      ]
    },
    {
      "cell_type": "code",
      "source": [
        "#Palindrom\n",
        "#Your Function here\n",
        "\n",
        "def is_palindrome(str):\n",
        "\tfor i in range(0, int(len(str)/2)):\n",
        "\t\tif str[i] != str[len(str)-i-1]:\n",
        "\t\t\treturn \"no\"\n",
        "\treturn \"yes\"\n",
        "\n",
        "#Testing\n",
        "print(is_palindrome(\"racecar\"))     # Output: True\n",
        "print(is_palindrome(\"hello\"))       # Output: False\n"
      ],
      "metadata": {
        "id": "jpjW4FSZZAag",
        "colab": {
          "base_uri": "https://localhost:8080/"
        },
        "outputId": "8f251ff0-3b80-4986-bd5a-baaa183320ec"
      },
      "execution_count": null,
      "outputs": [
        {
          "output_type": "stream",
          "name": "stdout",
          "text": [
            "yes\n",
            "no\n"
          ]
        }
      ]
    },
    {
      "cell_type": "code",
      "source": [
        "#List Flattening\n",
        "#Your Function(You may need to recursivly call your function)\n",
        "\n",
        "def flatten_list(x):\n",
        "  lst = []\n",
        "  for x in x:\n",
        "    if isinstance(x, list):\n",
        "      lst.extend(flatten_list(x))\n",
        "    else:\n",
        "      lst.append(x)\n",
        "\n",
        "  return lst\n",
        "\n",
        "#Testing\n",
        "x = [[1, 2, 3], [4, 5], [[2,3], [3, 4]]]\n",
        "print(flatten_list(x))  # Output: [1, 2, 3, 4, 5, 2, 3, 3, 4]\n"
      ],
      "metadata": {
        "colab": {
          "base_uri": "https://localhost:8080/"
        },
        "id": "yGFLQh60ZAdx",
        "outputId": "96154fe7-8812-404d-f4cd-9a5fa38ca8d5"
      },
      "execution_count": 8,
      "outputs": [
        {
          "output_type": "stream",
          "name": "stdout",
          "text": [
            "[1, 2, 3, 4, 5, 2, 3, 3, 4]\n"
          ]
        }
      ]
    },
    {
      "cell_type": "code",
      "source": [
        "#List Intersection\n",
        "#Your Function\n",
        "\n",
        "def list_intersection(x1,x2):\n",
        "  #otp = x1.intersection(x2)\n",
        "  x3 = [x for x in x1 if x in x2]\n",
        "  return x3\n",
        "\n",
        "# Testing\n",
        "list1 = [1, 2, 3, 4, 5]\n",
        "list2 = [4, 5, 6, 7, 8]\n",
        "print(list_intersection(list1, list2))  # Output: [4, 5]\n"
      ],
      "metadata": {
        "colab": {
          "base_uri": "https://localhost:8080/"
        },
        "id": "n-H3FYdyb0ji",
        "outputId": "73b9e4da-63c9-44e7-a0e8-1acdabedc8fd"
      },
      "execution_count": null,
      "outputs": [
        {
          "output_type": "stream",
          "name": "stdout",
          "text": [
            "[4, 5]\n"
          ]
        }
      ]
    },
    {
      "cell_type": "code",
      "source": [
        "#String Anagrams\n",
        "#Your Function\n",
        "\n",
        "def are_anagrams(x1,x2):\n",
        "  x1=x1.lower()\n",
        "  x2=x2.lower()\n",
        "  x1 = sorted(x1)\n",
        "  x2 = sorted(x2)\n",
        "\n",
        "  if(x1==x2):\n",
        "    return \"True\"\n",
        "  else:\n",
        "    return \"False\"\n",
        "\n",
        "#  Testing\n",
        "print(are_anagrams(\"cinema\", \"iceman\"))            # Output: True\n",
        "print(are_anagrams(\"listen\", \"silent\"))            # Output: True\n",
        "print(are_anagrams(\"Astronomer\", \"Moonstarer\"))    # Output: True\n",
        "print(are_anagrams(\"hello\", \"world\"))              # Output: False\n"
      ],
      "metadata": {
        "id": "8JcEXyGvfnxc",
        "colab": {
          "base_uri": "https://localhost:8080/"
        },
        "outputId": "14990690-3de8-40ac-9713-374c6b0e1322"
      },
      "execution_count": null,
      "outputs": [
        {
          "output_type": "stream",
          "name": "stdout",
          "text": [
            "True\n",
            "True\n",
            "True\n",
            "False\n"
          ]
        }
      ]
    },
    {
      "cell_type": "code",
      "source": [
        "#Binary Search\n",
        "#Your Function\n",
        "\n",
        "def binary_search(arr, x):\n",
        "    left = 0\n",
        "    right = len(arr) - 1\n",
        "    while left <= right:\n",
        "        mid = (left + right) // 2\n",
        "        if arr[mid] == x:\n",
        "            return mid\n",
        "        elif arr[mid] < x:\n",
        "            left = mid + 1\n",
        "        else:\n",
        "            right = mid - 1\n",
        "    return -1  # Target not found\n",
        "\n",
        "# Example usage:\n",
        "my_list = [2, 5, 7, 11, 15, 20]\n",
        "\n",
        "# Testing\n",
        "nums = [5, 3, 8, 2, 7, 1, 6, 4]\n",
        "sorted_nums = sorted(nums)\n",
        "target = 7\n",
        "index = binary_search(sorted_nums, target)\n",
        "print(index)\n"
      ],
      "metadata": {
        "id": "OurBPQYnlqY5",
        "colab": {
          "base_uri": "https://localhost:8080/"
        },
        "outputId": "5e30fe83-7b42-469e-fdfd-0941884a06a3"
      },
      "execution_count": 13,
      "outputs": [
        {
          "output_type": "stream",
          "name": "stdout",
          "text": [
            "6\n"
          ]
        }
      ]
    },
    {
      "cell_type": "code",
      "source": [
        "#\tMerge Sort\n",
        "#Your Function\n",
        "\n",
        "def merge_sort(arr):\n",
        "  if len(arr) <= 1:\n",
        "    return arr\n",
        "\n",
        "  mid = len(arr) // 2\n",
        "  left = merge_sort(arr[:mid])\n",
        "  right = merge_sort(arr[mid:])\n",
        "\n",
        "  return merge(left, right)\n",
        "\n",
        "def merge(left, right):\n",
        "  arr1 = []\n",
        "  i = 0\n",
        "  j = 0\n",
        "  while i < len(left) and j < len(right):\n",
        "    if left[i] < right[j]:\n",
        "      arr1.append(left[i])\n",
        "      i += 1\n",
        "    else:\n",
        "      arr1.append(right[j])\n",
        "      j += 1\n",
        "\n",
        "  arr1.extend(left[i:])\n",
        "  arr1.extend(right[j:])\n",
        "\n",
        "  return arr1\n",
        "\n",
        "#Testing\n",
        "arr = [5, 3, 8, 2, 7, 1, 6, 4]\n",
        "print(merge_sort(arr))  # Output: [1, 2, 3, 4, 5, 6, 7, 8]"
      ],
      "metadata": {
        "id": "XMFhtrsPnavU",
        "colab": {
          "base_uri": "https://localhost:8080/"
        },
        "outputId": "4451e4fc-35a5-44ad-ea71-8a14f23799ff"
      },
      "execution_count": 21,
      "outputs": [
        {
          "output_type": "stream",
          "name": "stdout",
          "text": [
            "[1, 2, 3, 4, 5, 6, 7, 8]\n"
          ]
        }
      ]
    },
    {
      "cell_type": "code",
      "source": [
        "#\tQuick Sort\n",
        "#Your Function\n",
        "\n",
        "def quick_sort(arr):\n",
        "    if len(arr) <= 1:\n",
        "        return arr\n",
        "\n",
        "    pt = arr[-1]  # pt = pivot\n",
        "    left = []\n",
        "    right = []\n",
        "    for element in arr[:-1]:\n",
        "        if element < pt:\n",
        "            left.append(element)\n",
        "        else:\n",
        "            right.append(element)\n",
        "\n",
        "    sorted_left = quick_sort(left)\n",
        "    sorted_right = quick_sort(right)\n",
        "\n",
        "    return sorted_left + [pt] + sorted_right\n",
        "\n",
        "#Testing\n",
        "arr = [5, 3, 8, 2, 7, 1, 6, 4]\n",
        "print(quick_sort(arr))  # Output: [1, 2, 3, 4, 5, 6, 7, 8]"
      ],
      "metadata": {
        "id": "_bCPqpR5ni1Q",
        "colab": {
          "base_uri": "https://localhost:8080/"
        },
        "outputId": "b2ca7fd1-ad45-4706-f8ce-558260100cca"
      },
      "execution_count": 25,
      "outputs": [
        {
          "output_type": "stream",
          "name": "stdout",
          "text": [
            "[1, 2, 3, 4, 5, 6, 7, 8]\n"
          ]
        }
      ]
    },
    {
      "cell_type": "code",
      "source": [
        "#\tFrequency Counter\n",
        "#Your Function\n",
        "\n",
        "def frequency_count(x):\n",
        "  dct = {}\n",
        "  for x in x:\n",
        "    if x in dct:\n",
        "      dct[x] += 1\n",
        "    else:\n",
        "      dct[x] = 1\n",
        "  return dct\n",
        "\n",
        "#Testing\n",
        "nums = [1, 2, 2, 3, 4, 2]\n",
        "print(frequency_count(nums))  # Output: {1: 1, 2: 3, 3: 1, 4: 1}"
      ],
      "metadata": {
        "id": "pHBHMDaknw5H",
        "colab": {
          "base_uri": "https://localhost:8080/"
        },
        "outputId": "7f426dd7-d93c-441f-94df-0d455181f2c2"
      },
      "execution_count": 29,
      "outputs": [
        {
          "output_type": "stream",
          "name": "stdout",
          "text": [
            "{1: 1, 2: 3, 3: 1, 4: 1}\n"
          ]
        }
      ]
    },
    {
      "cell_type": "code",
      "source": [
        "#Count Distinct Elements\n",
        "#Your Function\n",
        "\n",
        "def count_distinct_elements(x):\n",
        "  seen = {}\n",
        "  new_count = 0\n",
        "  for x in x:\n",
        "    if x not in seen:\n",
        "      seen[x] = True\n",
        "      new_count += 1\n",
        "  return new_count\n",
        "\n",
        "#Testing\n",
        "nums = [1, 2, 2, 3, 4, 2]\n",
        "print(count_distinct_elements(nums))  # Output: 4"
      ],
      "metadata": {
        "id": "LJzvk4rTn-ao",
        "colab": {
          "base_uri": "https://localhost:8080/"
        },
        "outputId": "fde3fd1e-081f-464c-b5ab-1d0b08050932"
      },
      "execution_count": 34,
      "outputs": [
        {
          "output_type": "stream",
          "name": "stdout",
          "text": [
            "4\n"
          ]
        }
      ]
    },
    {
      "cell_type": "code",
      "source": [
        "#Union and Intersection of Sets\n",
        "#Your Function\n",
        "\n",
        "#Testing\n",
        "\n"
      ],
      "metadata": {
        "id": "oUE1OHyVoNiy"
      },
      "execution_count": null,
      "outputs": []
    }
  ]
}