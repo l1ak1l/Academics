{
  "nbformat": 4,
  "nbformat_minor": 0,
  "metadata": {
    "colab": {
      "provenance": []
    },
    "kernelspec": {
      "name": "python3",
      "display_name": "Python 3"
    },
    "language_info": {
      "name": "python"
    }
  },
  "cells": [
    {
      "cell_type": "code",
      "execution_count": 5,
      "metadata": {
        "colab": {
          "base_uri": "https://localhost:8080/"
        },
        "id": "u9NJIIlMc247",
        "outputId": "4e56bfac-675d-4a0f-f663-1889ae614bcc"
      },
      "outputs": [
        {
          "output_type": "stream",
          "name": "stdout",
          "text": [
            "Original Numbers :  [1, 2, 3, 4, 5]\n",
            "Squared numbers :  [1, 4, 9, 16, 25]\n",
            "Cubed numbers :  [1, 8, 27, 64, 125]\n"
          ]
        }
      ],
      "source": [
        "arr = [1, 2, 3, 4, 5]\n",
        "\n",
        "sqr = lambda x: x ** 2\n",
        "cube = lambda x: x ** 3\n",
        "\n",
        "squared = list(map(sqr, arr))\n",
        "cubed = list(map(cube, arr))\n",
        "\n",
        "print(\"Original Numbers : \", arr)\n",
        "print(\"Squared numbers : \", squared)\n",
        "print(\"Cubed numbers : \", cubed)"
      ]
    },
    {
      "cell_type": "code",
      "source": [
        "class rectangle:\n",
        "    def __init__(self, length, width):\n",
        "        self.length = length\n",
        "        self.width = width\n",
        "\n",
        "    def calculate_area(self):\n",
        "        return self.length * self.width\n",
        "\n",
        "r = rectangle(25,10)\n",
        "area = r.calculate_area()\n",
        "print(\"Area:\", area)"
      ],
      "metadata": {
        "colab": {
          "base_uri": "https://localhost:8080/"
        },
        "id": "e7YTMe32dBRD",
        "outputId": "1ed81a18-b3ee-4050-8d0c-a8a2c4148f78"
      },
      "execution_count": 8,
      "outputs": [
        {
          "output_type": "stream",
          "name": "stdout",
          "text": [
            "Area: 250\n"
          ]
        }
      ]
    },
    {
      "cell_type": "code",
      "source": [
        "class Queue:\n",
        "    def __init__(self):\n",
        "        self.q = []\n",
        "\n",
        "    def push(self, item):\n",
        "        self.q.append(item)\n",
        "\n",
        "    def pop(self):\n",
        "        return self.q.pop() if self.q else None\n",
        "\n",
        "q = Queue()\n",
        "q.push(5)\n",
        "q.push(10)\n",
        "q.push(15)\n",
        "\n",
        "print(\"Popped item:\", q.pop())\n",
        "print(\"Popped item:\", q.pop())\n",
        "print(\"Popped item:\", q.pop())"
      ],
      "metadata": {
        "colab": {
          "base_uri": "https://localhost:8080/"
        },
        "id": "sGRo-pL1gPx_",
        "outputId": "97b5a01c-7198-4a65-9972-91fbdc6b0ad3"
      },
      "execution_count": 10,
      "outputs": [
        {
          "output_type": "stream",
          "name": "stdout",
          "text": [
            "Popped item: 15\n",
            "Popped item: 10\n",
            "Popped item: 5\n"
          ]
        }
      ]
    }
  ]
}