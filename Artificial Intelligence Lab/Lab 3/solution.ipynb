{
  "nbformat": 4,
  "nbformat_minor": 0,
  "metadata": {
    "colab": {
      "provenance": []
    },
    "kernelspec": {
      "name": "python3",
      "display_name": "Python 3"
    },
    "language_info": {
      "name": "python"
    }
  },
  "cells": [
    {
      "cell_type": "markdown",
      "source": [
        "# 6.1"
      ],
      "metadata": {
        "id": "wuhgpVjYZu-g"
      }
    },
    {
      "cell_type": "code",
      "source": [
        "def analyze_strings(x1,x2):\n",
        "\n",
        "  punctuation = '''!()-[]{};:'\"\\,<>./?@#$%^&*_~'''\n",
        "  xa1 = x1.translate(str.maketrans('', '', punctuation))\n",
        "  xa2 = x2.translate(str.maketrans('', '', punctuation))\n",
        "\n",
        "  xl1 = xa1.lower()\n",
        "  xl2 = xa2.lower()\n",
        "\n",
        "  words_list1 = xl1.split()\n",
        "  words_list2 = xl2.split()\n",
        "\n",
        "  words_set1 = set(words_list1)\n",
        "  words_set2 = set(words_list2)\n",
        "\n",
        "  xr1 = words_set1.union(words_set2)\n",
        "  xr2 = words_set1.intersection(words_set2)\n",
        "\n",
        "  print(\"Original Strings\")\n",
        "  print(\"String 1 : \", x1)\n",
        "  print(\"String 2 : \", x2)\n",
        "  print(\" \")\n",
        "  print(\"After Removing Punctuation\")\n",
        "  print(\"String 1 : \", xa1)\n",
        "  print(\"String 2 : \", xa2)\n",
        "  print(\" \")\n",
        "  print(\"After converting to lower case\")\n",
        "  print(\"String 1 : \", xl1)\n",
        "  print(\"String 2 : \", xl2)\n",
        "  print(\" \")\n",
        "  print(\"Converting into set and unique Words of each string\")\n",
        "  print(\"String 1 : \", words_set1)\n",
        "  print(\"String 2 : \", words_set2)\n",
        "  print(\" \")\n",
        "  print(\"Union        :   \", xr1)\n",
        "  print(\"Intersection :   \", xr2)\n",
        "\n",
        "# r1 = \"Hello\"\n",
        "# r1 =\n",
        "# analyze_strings(x)\n",
        "analyze_strings(\"Hello, world!\", \"Hello there, world.\")"
      ],
      "metadata": {
        "colab": {
          "base_uri": "https://localhost:8080/"
        },
        "id": "m9MBX3fMN6Jt",
        "outputId": "e41e2a0a-aec1-44cf-d071-92efd48ba0fc"
      },
      "execution_count": 62,
      "outputs": [
        {
          "output_type": "stream",
          "name": "stdout",
          "text": [
            "Original Strings\n",
            "String 1 :  Hello, world!\n",
            "String 2 :  Hello there, world.\n",
            " \n",
            "After Removing Punctuation\n",
            "String 1 :  Hello world\n",
            "String 2 :  Hello there world\n",
            " \n",
            "After converting to lower case\n",
            "String 1 :  hello world\n",
            "String 2 :  hello there world\n",
            " \n",
            "Converting into set and unique Words of each string\n",
            "String 1 :  {'world', 'hello'}\n",
            "String 2 :  {'there', 'world', 'hello'}\n",
            " \n",
            "Union        :    {'hello', 'there', 'world'}\n",
            "Intersection :    {'world', 'hello'}\n"
          ]
        }
      ]
    },
    {
      "cell_type": "code",
      "source": [
        "#Case 1: Identical Strings\n",
        "analyze_strings(\"Hello world\", \"Hello world\")\n",
        "# Case 2: Strings with punctuation\n",
        "analyze_strings(\"Hello, world!\", \"Hello there, world.\")\n",
        "# Case 3: Case sensitivity\n",
        "analyze_strings(\"HELLO World\", \"hello world\")"
      ],
      "metadata": {
        "id": "Fovigjp9NRLM"
      },
      "execution_count": null,
      "outputs": []
    },
    {
      "cell_type": "markdown",
      "source": [
        "# 6.2"
      ],
      "metadata": {
        "id": "mrluZcaTZ2Kq"
      }
    },
    {
      "cell_type": "code",
      "source": [
        "# Define functions for basic mathematical operations\n",
        "def add(x, y):\n",
        "    return x + y\n",
        "\n",
        "def subtract(x, y):\n",
        "    return x - y\n",
        "\n",
        "def multiply(x, y):\n",
        "    return x * y\n",
        "\n",
        "def divide(x, y):\n",
        "    if y == 0:\n",
        "        raise ValueError(\"Cannot divide by zero\")\n",
        "    return x / y\n",
        "\n",
        "# Function to validate numeric input\n",
        "def get_numeric_input(prompt):\n",
        "    while True:\n",
        "        try:\n",
        "            num = float(input(prompt))\n",
        "            return num\n",
        "        except ValueError:\n",
        "            print(\"Invalid input! Please enter a numeric value.\")\n",
        "\n",
        "# Main calculator function\n",
        "def calculator():\n",
        "    while True:\n",
        "        # Ask for the desired operation\n",
        "        print(\"Operations:\")\n",
        "        print(\"1. Addition\")\n",
        "        print(\"2. Subtraction\")\n",
        "        print(\"3. Multiplication\")\n",
        "        print(\"4. Division\")\n",
        "        operation = input(\"Choose the operation : \")\n",
        "\n",
        "        # Request two numbers from the user\n",
        "        num1 = get_numeric_input(\"Enter the first number: \")\n",
        "        num2 = get_numeric_input(\"Enter the second number: \")\n",
        "\n",
        "        # Perform the selected operation\n",
        "        try:\n",
        "            if operation == '1':\n",
        "                result = add(num1, num2)\n",
        "            elif operation == '2':\n",
        "                result = subtract(num1, num2)\n",
        "            elif operation == '3':\n",
        "                result = multiply(num1, num2)\n",
        "            elif operation == '4':\n",
        "                result = divide(num1, num2)\n",
        "            else:\n",
        "                print(\"Invalid operation! Please choose a valid operation.\")\n",
        "                continue\n",
        "\n",
        "            print(\"Result:\", result)\n",
        "\n",
        "        except ValueError as e:\n",
        "            print(\"Error:\", e)\n",
        "\n",
        "        # Ask if the user wants to perform another calculation\n",
        "        choice = input(\"Do you want to perform another calculation? (y/n): \")\n",
        "        if choice.lower() != 'y':\n",
        "            print(\"Calculator Ended\")\n",
        "            break\n",
        "\n",
        "# Run the calculator program\n",
        "calculator()"
      ],
      "metadata": {
        "colab": {
          "base_uri": "https://localhost:8080/"
        },
        "id": "jz4fzdZAdg3U",
        "outputId": "53490b27-4c56-4912-d5ab-2a7fb3a7b233"
      },
      "execution_count": 95,
      "outputs": [
        {
          "output_type": "stream",
          "name": "stdout",
          "text": [
            "Operations:\n",
            "1. Addition\n",
            "2. Subtraction\n",
            "3. Multiplication\n",
            "4. Division\n",
            "Choose the operation : 4\n",
            "Enter the first number: 55\n",
            "Enter the second number: 0\n",
            "Error: Cannot divide by zero\n",
            "Do you want to perform another calculation? (y/n): y\n",
            "Operations:\n",
            "1. Addition\n",
            "2. Subtraction\n",
            "3. Multiplication\n",
            "4. Division\n",
            "Choose the operation : 3\n",
            "Enter the first number: 100\n",
            "Enter the second number: 0.5\n",
            "Result: 50.0\n",
            "Do you want to perform another calculation? (y/n): n\n",
            "Calculator Ended\n"
          ]
        }
      ]
    },
    {
      "cell_type": "markdown",
      "source": [
        "# 6.3"
      ],
      "metadata": {
        "id": "-orTQIg0Zysw"
      }
    },
    {
      "cell_type": "code",
      "source": [
        "# Reading file\n",
        "#source_file_path= '/content/Alphabets.txt'\n",
        "file = open(\"Alphabets.txt\", \"r\")\n",
        "x = (file.read())\n",
        "print(x)\n",
        "\n",
        "# Function to reverse the string\n",
        "def reverse_string(input_string):\n",
        "    return input_string[::-1]\n",
        "\n",
        "x1 = reverse_string(x)\n",
        "print(\"Reversed String : \" , x1)\n",
        "\n",
        "# Writing data to the new file\n",
        "file = open('Alphabets_Reverse.txt','w')\n",
        "file.write(x1)\n",
        "file.close()\n",
        "print(\"\")\n",
        "print(\"Data successfully written to the file\")"
      ],
      "metadata": {
        "colab": {
          "base_uri": "https://localhost:8080/"
        },
        "id": "KFLWYKNQYTQp",
        "outputId": "41010276-30d6-405f-c6e0-16ab99cd9734"
      },
      "execution_count": 84,
      "outputs": [
        {
          "output_type": "stream",
          "name": "stdout",
          "text": [
            "Hello this is a test file to reverse the string\n",
            "Reversed String :  gnirts eht esrever ot elif tset a si siht olleH\n",
            "\n",
            "Data successfully written to the file\n"
          ]
        }
      ]
    }
  ]
}