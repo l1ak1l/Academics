{
  "nbformat": 4,
  "nbformat_minor": 0,
  "metadata": {
    "colab": {
      "provenance": []
    },
    "kernelspec": {
      "name": "python3",
      "display_name": "Python 3"
    },
    "language_info": {
      "name": "python"
    }
  },
  "cells": [
    {
      "cell_type": "markdown",
      "source": [
        "ax^2+bx+c"
      ],
      "metadata": {
        "id": "OCUyTCvCUol1"
      }
    },
    {
      "cell_type": "code",
      "execution_count": 1,
      "metadata": {
        "id": "TgUjcBFUw9Y2"
      },
      "outputs": [],
      "source": [
        "import numpy as np"
      ]
    },
    {
      "cell_type": "code",
      "source": [
        "class ANN:\n",
        "  def __init__(self,learning_rate,bias):\n",
        "    self.learning_rate = learning_rate\n",
        "    self.bias = bias\n",
        "\n",
        "  def sigmoid(self,value):\n",
        "    sigmoid_exp = 1/(1+np.exp(-value))\n",
        "    return sigmoid_exp\n",
        "  def hidden_Layer(self,input,bias):\n",
        "    w = [5,5]\n",
        "    mult_exp = np.dot(input,w)+bias\n",
        "    return self.sigmoid(mult_exp)"
      ],
      "metadata": {
        "id": "w6CySeQ5iEeq"
      },
      "execution_count": 6,
      "outputs": []
    },
    {
      "cell_type": "code",
      "source": [
        "x= np.array([-5,-4,-3,-2,-1,0, 1, 2, 3,4,5 ])\n",
        "y = np.array([5.5,2,-0.5,-2,-2.5,-2,-0.5,2,5.5,10,15.5])\n",
        "a = 2\n",
        "b = 2\n",
        "c = 2\n",
        "lr = 0.01\n",
        "ANN_model = ANN(lr,c)\n",
        "for _ in range(10):\n",
        "  for i in range(0,10):\n",
        "    y_predected = ANN_model.hidden_Layer([a*(x[i]**2),b*x[i]],c)\n",
        "\n",
        "    error = y[i] - y_predected\n",
        "\n",
        "    a += lr * error * y_predected * (1-y_predected) * x[i]\n",
        "    b += lr * y_predected * (1-y_predected) * error * x[i]\n",
        "    c += lr * error * y_predected * (1-y_predected)\n",
        "\n",
        "print(\"Updated Weights: \\n a :\",a,\"\\n b :\",b,\"\\n c :\",c)"
      ],
      "metadata": {
        "id": "5h2hRz6Q2s1p",
        "colab": {
          "base_uri": "https://localhost:8080/"
        },
        "outputId": "b5ffee44-9e08-44da-aa0f-5d29c68befd7"
      },
      "execution_count": 13,
      "outputs": [
        {
          "output_type": "stream",
          "name": "stdout",
          "text": [
            "Updated Weights: \n",
            " a : 2.036280871857376 \n",
            " b : 2.036280871857376 \n",
            " c : 1.9327285577614606\n"
          ]
        }
      ]
    }
  ]
}