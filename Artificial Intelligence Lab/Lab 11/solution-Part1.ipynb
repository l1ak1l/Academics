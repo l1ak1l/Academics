{
  "nbformat": 4,
  "nbformat_minor": 0,
  "metadata": {
    "colab": {
      "provenance": []
    },
    "kernelspec": {
      "name": "python3",
      "display_name": "Python 3"
    },
    "language_info": {
      "name": "python"
    }
  },
  "cells": [
    {
      "cell_type": "code",
      "source": [
        "import pandas as pd\n",
        "import numpy as np"
      ],
      "metadata": {
        "id": "Nry6LzohbHzA"
      },
      "execution_count": 2,
      "outputs": []
    },
    {
      "cell_type": "code",
      "execution_count": 4,
      "metadata": {
        "id": "XAV9wGWM4maZ"
      },
      "outputs": [],
      "source": [
        "# 6.1 Implement OR and AND gates using perceptron learning scheme\n",
        "class Perceptron:\n",
        "    def __init__(self, input_size, lr=1, epochs=100):\n",
        "        self.W = np.zeros(input_size + 1)\n",
        "        self.lr = lr\n",
        "        self.epochs = epochs\n",
        "\n",
        "    def activation(self, x):\n",
        "        return 1 if x >= 0 else 0\n",
        "\n",
        "    def predict(self, x):\n",
        "        x = np.insert(x, 0, 1)\n",
        "        z = self.W.T.dot(x)\n",
        "        a = self.activation(z)\n",
        "        return a\n",
        "\n",
        "    def train(self, X, d):\n",
        "        for _ in range(self.epochs):\n",
        "            for i in range(d.shape[0]):\n",
        "                y = self.predict(X[i])\n",
        "                e = d[i] - y\n",
        "                self.W = self.W + self.lr * e * np.insert(X[i], 0, 1)"
      ]
    },
    {
      "cell_type": "code",
      "source": [
        "# OR\n",
        "X_or = np.array([[0, 0], [0, 1], [1, 0], [1, 1]])\n",
        "d_or = np.array([0, 1, 1, 1])\n",
        "\n",
        "perceptron_or = Perceptron(input_size=2)\n",
        "perceptron_or.train(X_or, d_or)\n",
        "\n",
        "print(\"OR Gate:\")\n",
        "for i in range(X_or.shape[0]):\n",
        "    print(f\"Input: {X_or[i]}, Output: {perceptron_or.predict(X_or[i])}\")"
      ],
      "metadata": {
        "colab": {
          "base_uri": "https://localhost:8080/"
        },
        "id": "Y17VKqQybL2U",
        "outputId": "18ce6973-e691-490b-ec84-969c75d4e44a"
      },
      "execution_count": 13,
      "outputs": [
        {
          "output_type": "stream",
          "name": "stdout",
          "text": [
            "OR Gate:\n",
            "Input: [0 0], Output: 0\n",
            "Input: [0 1], Output: 1\n",
            "Input: [1 0], Output: 1\n",
            "Input: [1 1], Output: 1\n"
          ]
        }
      ]
    },
    {
      "cell_type": "code",
      "source": [
        "# AND\n",
        "X_and = np.array([[0, 0], [0, 1], [1, 0], [1, 1]])\n",
        "d_and = np.array([0, 0, 0, 1])\n",
        "\n",
        "perceptron_and = Perceptron(input_size=2)\n",
        "perceptron_and.train(X_and, d_and)\n",
        "\n",
        "print(\"AND Gate:\")\n",
        "for i in range(X_and.shape[0]):\n",
        "    print(f\"Input: {X_and[i]}, Output: {perceptron_and.predict(X_and[i])}\")"
      ],
      "metadata": {
        "colab": {
          "base_uri": "https://localhost:8080/"
        },
        "id": "aUa8EVm_bNCw",
        "outputId": "34c3c79c-9f15-4ab9-8958-7638bec11e95"
      },
      "execution_count": 14,
      "outputs": [
        {
          "output_type": "stream",
          "name": "stdout",
          "text": [
            "AND Gate:\n",
            "Input: [0 0], Output: 0\n",
            "Input: [0 1], Output: 0\n",
            "Input: [1 0], Output: 0\n",
            "Input: [1 1], Output: 1\n"
          ]
        }
      ]
    }
  ]
}