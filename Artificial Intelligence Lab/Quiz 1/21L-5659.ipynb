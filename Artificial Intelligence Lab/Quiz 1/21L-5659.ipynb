{
  "nbformat": 4,
  "nbformat_minor": 0,
  "metadata": {
    "colab": {
      "provenance": []
    },
    "kernelspec": {
      "name": "python3",
      "display_name": "Python 3"
    },
    "language_info": {
      "name": "python"
    }
  },
  "cells": [
    {
      "cell_type": "code",
      "source": [
        "import pandas as pd\n",
        "import numpy as np\n",
        "import re\n",
        "from collections import Counter\n",
        "\n",
        "f = open(\"data.txt\", \"r\")\n",
        "data=(f.read())\n",
        "f.close()\n",
        "print(data)"
      ],
      "metadata": {
        "colab": {
          "base_uri": "https://localhost:8080/"
        },
        "id": "xlIgM_oLb0VH",
        "outputId": "e57b5c71-a07c-4b47-a928-e0d1798cc61d"
      },
      "execution_count": 71,
      "outputs": [
        {
          "output_type": "stream",
          "name": "stdout",
          "text": [
            "Hello to 3v3ry Body. Yours’s sincerely. hello I am “Ali”. I AM no body.\n"
          ]
        }
      ]
    },
    {
      "cell_type": "code",
      "execution_count": 70,
      "metadata": {
        "colab": {
          "base_uri": "https://localhost:8080/"
        },
        "id": "5K5ho8mPbj89",
        "outputId": "fc93b87a-eabf-4f37-9238-8d0ca6e1df12"
      },
      "outputs": [
        {
          "output_type": "execute_result",
          "data": {
            "text/plain": [
              "13"
            ]
          },
          "metadata": {},
          "execution_count": 70
        }
      ],
      "source": [
        "def printWord(x1):\n",
        "  total_words = len(x1)\n",
        "\n",
        "  return total_words\n",
        "\n",
        "\n",
        "def getWordsList(text):\n",
        "  # reading data\n",
        "  f = open(text, \"r\")\n",
        "  data=(f.read())\n",
        "  f.close()\n",
        "  #print(data)\n",
        "\n",
        "  # text preprocessing starts here\n",
        "  x1 = data.lower()\n",
        "  # removing numeric\n",
        "  x2 = ' '.join(word for word in x1.split() if not any(char.isdigit() for char in word))\n",
        "  # removing useless characters\n",
        "  x3 = re.sub(r'[^a-zA-Z\\s]', '', x2)\n",
        "  # splitting words\n",
        "  x4 = x3.split()\n",
        "  return x4\n",
        "\n",
        "name = \"data.txt\"\n",
        "rr = getWordsList(name)\n",
        "printWord(rr)"
      ]
    }
  ]
}