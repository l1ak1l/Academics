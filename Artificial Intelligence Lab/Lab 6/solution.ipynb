{
  "nbformat": 4,
  "nbformat_minor": 0,
  "metadata": {
    "colab": {
      "provenance": []
    },
    "kernelspec": {
      "name": "python3",
      "display_name": "Python 3"
    },
    "language_info": {
      "name": "python"
    }
  },
  "cells": [
    {
      "cell_type": "code",
      "source": [
        "x = [[1,0,1,0,],[0,1,1,1],[1,1,1,0],[1,1,0,1]]\n"
      ],
      "metadata": {
        "id": "QPSo7zNEvepl"
      },
      "execution_count": null,
      "outputs": []
    },
    {
      "cell_type": "code",
      "execution_count": null,
      "metadata": {
        "colab": {
          "base_uri": "https://localhost:8080/"
        },
        "id": "qPcOqS40vdAb",
        "outputId": "e4009a48-12ff-4dcf-8f08-ef9436516d66"
      },
      "outputs": [
        {
          "output_type": "stream",
          "name": "stdout",
          "text": [
            "Visited: 0\n",
            "Visited: 2\n",
            "Visited: 3\n",
            "Visited: 6\n",
            "Goal Reached!\n"
          ]
        }
      ],
      "source": [
        "class AdjNode:\n",
        "    def __init__(self, value):\n",
        "        self.vertex = value\n",
        "        self.next = None\n",
        "\n",
        "class Graph:\n",
        "    def __init__(self, num):\n",
        "        self.V = num\n",
        "        self.graph = [None] * self.V\n",
        "\n",
        "    # Add edges\n",
        "    def add_edge(self, s, d):\n",
        "        node = AdjNode(d)\n",
        "        node.next = self.graph[s]\n",
        "        self.graph[s] = node\n",
        "\n",
        "        node = AdjNode(s)\n",
        "        node.next = self.graph[d]\n",
        "        self.graph[d] = node\n",
        "\n",
        "    # Print the graph\n",
        "    def print_agraph(self):\n",
        "        for i in range(self.V):\n",
        "            print(\"Vertex \" + str(i) + \":\", end=\"\")\n",
        "            temp = self.graph[i]\n",
        "            while temp:\n",
        "                print(\" -> {}\".format(temp.vertex), end=\"\")\n",
        "                temp = temp.next\n",
        "            print(\" \\n\")\n",
        "\n",
        "    def bfs(self, start, goal):\n",
        "        visited = [False] * self.V\n",
        "        queue = []\n",
        "\n",
        "        queue.append(start)\n",
        "        visited[start] = True\n",
        "\n",
        "        while queue:\n",
        "            s = queue.pop(0)\n",
        "            print(\"Visited:\", s)\n",
        "\n",
        "            if s == goal:\n",
        "                print(\"Goal Reached!\")\n",
        "                return\n",
        "\n",
        "            temp = self.graph[s]\n",
        "            while temp:\n",
        "                v = temp.vertex\n",
        "                if not visited[v]:\n",
        "                    queue.append(v)\n",
        "                    visited[v] = True\n",
        "                temp = temp.next\n",
        "\n",
        "if __name__ == \"__main__\":\n",
        "    V = 7\n",
        "\n",
        "    # Create graph and edges\n",
        "    graph = Graph(V)\n",
        "    graph.add_edge(0, 2)\n",
        "    graph.add_edge(2, 1)\n",
        "    graph.add_edge(2, 6)\n",
        "    graph.add_edge(2, 3)\n",
        "    graph.add_edge(1, 4)\n",
        "    graph.add_edge(4, 5)\n",
        "    graph.add_edge(5, 6)\n",
        "\n",
        "    #graph.print_agraph()\n",
        "\n",
        "    start = 0  # Starting node\n",
        "    goal = 6  # Goal state\n",
        "\n",
        "    graph.bfs(start, goal)"
      ]
    }
  ]
}