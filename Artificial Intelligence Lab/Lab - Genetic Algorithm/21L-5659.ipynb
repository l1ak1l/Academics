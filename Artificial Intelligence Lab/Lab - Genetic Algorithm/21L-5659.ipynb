{
  "nbformat": 4,
  "nbformat_minor": 0,
  "metadata": {
    "colab": {
      "provenance": []
    },
    "kernelspec": {
      "name": "python3",
      "display_name": "Python 3"
    },
    "language_info": {
      "name": "python"
    }
  },
  "cells": [
    {
      "cell_type": "markdown",
      "source": [
        "# Lab - GA"
      ],
      "metadata": {
        "id": "qGGkuD71-6qZ"
      }
    },
    {
      "cell_type": "code",
      "source": [
        "import random\n",
        "\n",
        "# Initial weights and values\n",
        "items = [(3, 266), (13, 442), (10, 671), (9, 526), (7, 388), (1, 245), (8, 210), (8, 145), (2, 126), (9, 322)]\n",
        "\n",
        "knapsack_weight = 35\n",
        "\n",
        "population = [\n",
        "    [0, 1, 0, 1, 1, 0, 0, 1, 1, 1],\n",
        "    [1, 1, 1, 1, 0, 1, 1, 1, 0, 0],\n",
        "    [0, 1, 0, 0, 0, 0, 1, 1, 0, 1],\n",
        "    [0, 0, 1, 0, 1, 1, 0, 0, 0, 0],\n",
        "    [0, 0, 1, 1, 0, 0, 0, 0, 0, 1],\n",
        "    [0, 1, 0, 1, 1, 0, 1, 0, 0, 0],\n",
        "    [1, 1, 1, 0, 0, 0, 1, 0, 1, 0],\n",
        "    [0, 0, 0, 0, 1, 1, 1, 0, 0, 0]\n",
        "]"
      ],
      "metadata": {
        "id": "4WKULazY-_OA"
      },
      "execution_count": 17,
      "outputs": []
    },
    {
      "cell_type": "code",
      "source": [
        "def fitness(chromosome):\n",
        "    weight = 0\n",
        "    value = 0\n",
        "    for i, gene in enumerate(chromosome):\n",
        "        if gene == 1:\n",
        "            weight += items[i][0]\n",
        "            value += items[i][1]\n",
        "    if weight > knapsack_weight:\n",
        "        return 0\n",
        "    else:\n",
        "        return value\n",
        "\n",
        "def crossover(parent1, parent2):\n",
        "    point1 = random.randint(0, len(parent1) - 1)\n",
        "    point2 = random.randint(0, len(parent1) - 1)\n",
        "    if point1 > point2:\n",
        "        point1, point2 = point2, point1\n",
        "    offspring1 = parent1[:point1] + parent2[point1:point2] + parent1[point2:]\n",
        "    offspring2 = parent2[:point1] + parent1[point1:point2] + parent2[point2:]\n",
        "    return offspring1, offspring2\n",
        "\n",
        "\n",
        "def mutation(chromosome):\n",
        "    point1 = random.randint(0, len(chromosome) - 1)\n",
        "    point2 = random.randint(0, len(chromosome) - 1)\n",
        "    if point1 == point2:\n",
        "        point2 = (point2 + 1) % len(chromosome)\n",
        "    chromosome[point1] = 1 - chromosome[point1]\n",
        "    chromosome[point2] = 1 - chromosome[point2]\n",
        "    return chromosome\n",
        "\n",
        "\n",
        "def genetic_algorithm():\n",
        "    best_chromosomes = sorted(population, key=fitness, reverse=True)[:4]\n",
        "    # Generate new offspring\n",
        "    offspring = []\n",
        "    for i in range(4):\n",
        "        parent1 = random.choice(best_chromosomes)\n",
        "        parent2 = random.choice(best_chromosomes)\n",
        "        offspring1, offspring2 = crossover(parent1, parent2)\n",
        "        offspring.append(mutation(offspring1))\n",
        "        offspring.append(mutation(offspring2))\n",
        "    best_offspring = sorted(offspring, key=fitness, reverse=True)[:4]\n",
        "    new_population = best_chromosomes + best_offspring\n",
        "    for i in range(15):\n",
        "        best_chromosomes = sorted(new_population, key=fitness, reverse=True)[:4]\n",
        "        offspring = []\n",
        "        for i in range(4):\n",
        "            parent1 = random.choice(best_chromosomes)\n",
        "            parent2 = random.choice(best_chromosomes)\n",
        "            offspring1, offspring2 = crossover(parent1, parent2)\n",
        "            offspring.append(mutation(offspring1))\n",
        "            offspring.append(mutation(offspring2))\n",
        "        best_offspring = sorted(offspring, key=fitness, reverse=True)[:4]\n",
        "        new_population = best_chromosomes + best_offspring\n",
        "    best_chromosome = sorted(new_population, key=fitness, reverse=True)[0]\n",
        "    print(\"Best chromosome:\", best_chromosome)\n",
        "    print(\"Total value:\", fitness(best_chromosome))"
      ],
      "metadata": {
        "id": "lHmTh-ZC_Ree"
      },
      "execution_count": 18,
      "outputs": []
    },
    {
      "cell_type": "code",
      "source": [
        "genetic_algorithm()"
      ],
      "metadata": {
        "id": "DeumUWv5_hn8",
        "outputId": "75c20aaf-7e91-46a9-951b-40bc7d70e504",
        "colab": {
          "base_uri": "https://localhost:8080/"
        }
      },
      "execution_count": 19,
      "outputs": [
        {
          "output_type": "stream",
          "name": "stdout",
          "text": [
            "Best chromosome: [1, 0, 1, 1, 1, 1, 0, 0, 0, 0]\n",
            "Total value: 2096\n"
          ]
        }
      ]
    }
  ]
}