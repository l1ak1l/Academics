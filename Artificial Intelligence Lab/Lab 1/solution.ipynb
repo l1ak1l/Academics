{
  "nbformat": 4,
  "nbformat_minor": 0,
  "metadata": {
    "colab": {
      "provenance": []
    },
    "kernelspec": {
      "name": "python3",
      "display_name": "Python 3"
    },
    "language_info": {
      "name": "python"
    }
  },
  "cells": [
    {
      "cell_type": "code",
      "execution_count": 2,
      "metadata": {
        "colab": {
          "base_uri": "https://localhost:8080/"
        },
        "id": "CpWFraP701Cf",
        "outputId": "0807065a-95ad-4180-eaf6-4117a976e06d"
      },
      "outputs": [
        {
          "output_type": "stream",
          "name": "stdout",
          "text": [
            "['o', 'l', 'l', 'e', 'h']\n",
            "['h', 'a', 'n', 'n', 'a', 'H']\n"
          ]
        }
      ],
      "source": [
        "#Ex 9.1\n",
        "def reverseString(s):\n",
        "    left = 0\n",
        "    right = len(s) - 1\n",
        "    while left < right:\n",
        "        s[left], s[right] = s[right], s[left]\n",
        "        left += 1\n",
        "        right -= 1\n",
        "\n",
        "x1 = [\"h\",\"e\",\"l\",\"l\",\"o\"]\n",
        "reverseString(x1)\n",
        "print(x1)\n",
        "\n",
        "x2 = [\"H\",\"a\",\"n\",\"n\",\"a\",\"h\"]\n",
        "reverseString(x2)\n",
        "print(x2)"
      ]
    },
    {
      "cell_type": "code",
      "source": [
        "#Ex 9.2\n",
        "def isPalindrome(s):\n",
        "    s = ''.join(filter(str.isalnum, s)).lower()\n",
        "    return s == s[::-1]\n",
        "\n",
        "x1 = \"A man, a plan, a canal: Panama\"\n",
        "print(isPalindrome(x1))\n",
        "x2 = \"race a car\"\n",
        "print(isPalindrome(x2))"
      ],
      "metadata": {
        "colab": {
          "base_uri": "https://localhost:8080/"
        },
        "id": "Fyk0tCzG2reW",
        "outputId": "5e8b1fff-1df7-4fe9-ecee-ad83296d79a1"
      },
      "execution_count": 4,
      "outputs": [
        {
          "output_type": "stream",
          "name": "stdout",
          "text": [
            "True\n",
            "False\n"
          ]
        }
      ]
    },
    {
      "cell_type": "code",
      "source": [
        "#Ex 9.3\n",
        "def sqrt(x):\n",
        "    if x < 2:\n",
        "        return x\n",
        "    left = 1\n",
        "    right = x // 2\n",
        "    while left <= right:\n",
        "        mid = (left + right) // 2\n",
        "        if mid * mid > x:\n",
        "            right = mid - 1\n",
        "        else:\n",
        "            left = mid + 1\n",
        "    return right\n",
        "\n",
        "\n",
        "x1 = 4\n",
        "print(sqrt(x1))\n",
        "\n",
        "x2 = 256\n",
        "print(sqrt(x2))"
      ],
      "metadata": {
        "colab": {
          "base_uri": "https://localhost:8080/"
        },
        "id": "ysrJLY--3BxX",
        "outputId": "651673ad-e7b4-487c-e70a-e7fb9eebfb3b"
      },
      "execution_count": 9,
      "outputs": [
        {
          "output_type": "stream",
          "name": "stdout",
          "text": [
            "2\n",
            "16\n"
          ]
        }
      ]
    }
  ]
}